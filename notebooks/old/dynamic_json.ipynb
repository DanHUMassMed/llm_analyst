{
 "cells": [
  {
   "cell_type": "code",
   "execution_count": 1,
   "metadata": {},
   "outputs": [],
   "source": [
    "import sys\n",
    "sys.path.append('/Users/dan/Code/LLM/llm_researcher')"
   ]
  },
  {
   "cell_type": "code",
   "execution_count": 4,
   "metadata": {},
   "outputs": [],
   "source": [
    "import os \n",
    "import json\n",
    "class Config:\n",
    "    \"\"\"Config class for GPT Researcher.\"\"\"\n",
    "\n",
    "    def __init__(self):\n",
    "        config_json = json.load(open('../llm_researcher/config/llm_researcher_config.json'))\n",
    "        self.__data = self._get_values_for_config(config_json)\n",
    "\n",
    "    def __getattr__(self, name): \n",
    "        try:\n",
    "            return getattr(self.__data, name) \n",
    "        except AttributeError:\n",
    "            return self.__data[name] \n",
    "        \n",
    "    def __dir__(self):\n",
    "        return self.__data.keys()\n",
    "    \n",
    "    \n",
    "    def _get_values_for_config(self, config_json):\n",
    "        config_data = {}\n",
    "        for key in config_json.keys():\n",
    "            default_value = config_json[key]['default_val']\n",
    "            env_var = config_json[key]['env_var']\n",
    "            env_value = os.getenv(env_var)\n",
    "            value = None\n",
    "            if env_value is not None:\n",
    "                if isinstance(default_value, int):\n",
    "                    value = int(env_value)\n",
    "                elif isinstance(default_value, float):\n",
    "                    value = float(env_value)\n",
    "                else:\n",
    "                    value = env_value\n",
    "            else:\n",
    "                value = default_value\n",
    "\n",
    "            if key == \"search_retriever\":\n",
    "                value = self._get_search_retriever(value)\n",
    "\n",
    "            config_data[key]=value\n",
    "\n",
    "        return config_data\n",
    "    \n",
    "    def _get_search_retriever(self, search_retriever: str):\n",
    "        match search_retriever:\n",
    "            case \"tavily\":\n",
    "                from llm_researcher.retrievers.search_retrievers import tavily_search\n",
    "                retriever = tavily_search\n",
    "            case _:\n",
    "                raise Exception(\"Retriever not found.\")\n",
    "\n",
    "        return retriever\n",
    "                    \n",
    "\n"
   ]
  },
  {
   "cell_type": "code",
   "execution_count": 5,
   "metadata": {},
   "outputs": [
    {
     "name": "stdout",
     "output_type": "stream",
     "text": [
      "<function tavily_search at 0x1095b1da0>\n",
      "openai\n"
     ]
    }
   ],
   "source": [
    "config = Config()\n",
    "print(config.search_retriever)\n",
    "print(config.embedding_provider)"
   ]
  },
  {
   "cell_type": "code",
   "execution_count": null,
   "metadata": {},
   "outputs": [],
   "source": []
  }
 ],
 "metadata": {
  "kernelspec": {
   "display_name": "dan-dev-langchain",
   "language": "python",
   "name": "python3"
  },
  "language_info": {
   "codemirror_mode": {
    "name": "ipython",
    "version": 3
   },
   "file_extension": ".py",
   "mimetype": "text/x-python",
   "name": "python",
   "nbconvert_exporter": "python",
   "pygments_lexer": "ipython3",
   "version": "3.11.8"
  }
 },
 "nbformat": 4,
 "nbformat_minor": 2
}
