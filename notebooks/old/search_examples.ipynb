{
 "cells": [
  {
   "cell_type": "code",
   "execution_count": 1,
   "metadata": {},
   "outputs": [],
   "source": [
    "import sys\n",
    "sys.path.append('/Users/dan/Code/LLM/llm_researcher')"
   ]
  },
  {
   "cell_type": "code",
   "execution_count": null,
   "metadata": {},
   "outputs": [],
   "source": [
    "from llm_researcher.retrievers.search_retrievers import tavily_search\n",
    "retriever = tavily_search\n",
    "sub_query = \"Burning Man 2024 flood incident report\"\n",
    "max_search_results_per_query = 5\n",
    "\n",
    "search_results = retriever(sub_query, max_results=max_search_results_per_query)\n",
    "search_results\n"
   ]
  },
  {
   "cell_type": "code",
   "execution_count": null,
   "metadata": {},
   "outputs": [],
   "source": [
    "from llm_researcher.retrievers.search_retrievers import serper_search\n",
    "retriever = serper_search\n",
    "sub_query = \"Burning Man 2024 flood incident report\"\n",
    "max_search_results_per_query = 5\n",
    "\n",
    "search_results = retriever(sub_query, max_results=max_search_results_per_query)\n",
    "search_results\n"
   ]
  },
  {
   "cell_type": "code",
   "execution_count": null,
   "metadata": {},
   "outputs": [],
   "source": [
    "\n",
    "from llm_researcher.retrievers.search_retrievers import serp_api_search\n",
    "retriever = serp_api_search\n",
    "sub_query = \"Burning Man 2024 flood incident report\"\n",
    "max_search_results_per_query = 5\n",
    "\n",
    "search_results = retriever(sub_query, max_results=max_search_results_per_query)\n",
    "search_results"
   ]
  },
  {
   "cell_type": "code",
   "execution_count": 2,
   "metadata": {},
   "outputs": [
    {
     "data": {
      "text/plain": [
       "[{'title': 'Burning Man attendees make mass exodus after being stranded in ... - TODAY',\n",
       "  'href': 'https://www.today.com/news/what-is-burning-man-flood-death-rcna103231',\n",
       "  'body': 'In 2014, a 29-year-old woman was hit by a bus outside of Black Rock City, and a motorcycle accident claimed the life of a friend of the Burning Man founders back in 1996, according to an article ...'},\n",
       " {'title': 'Burning Man attendees make a mass exodus after a dramatic weekend ... - CNN',\n",
       "  'href': 'https://www.cnn.com/2023/09/05/us/burning-man-storms-shelter-exodus-tuesday/index.html',\n",
       "  'body': 'Thousands of Burning Man attendees finally made their mass exodus after intense rain over the weekend flooded camp sites and filled them with thick, ankle-deep mud - stranding more than 70,000 ...'},\n",
       " {'title': 'Burning Man flooding keeps thousands stranded at Nevada site as ...',\n",
       "  'href': 'https://www.nbcnews.com/news/us-news/live-blog/live-updates-burning-man-flooding-keeps-thousands-stranded-nevada-site-rcna103193',\n",
       "  'body': 'Black Rock Forest, where around 70,000 Burning Man attendees are gathered for the festival, is in the northwest. \"Flash flooding caused by excessive rainfall\" is possible in parts of eastern ...'},\n",
       " {'title': 'Investigation launched into death at Burning Man, with ... - CBS News',\n",
       "  'href': 'https://www.cbsnews.com/news/burning-man-death-investigation-70000-stranded-nevada-desert-flooding/',\n",
       "  'body': 'Heavy rains leave thousands stranded at Burning Man 02:33. One person died at the Burning Man festival this weekend as a severe bout of rain caused flooding in the remote Nevada desert where the ...'},\n",
       " {'title': 'Live updates: Burning Man festival rain strands thousands in ... - CNN',\n",
       "  'href': 'https://www.cnn.com/us/live-news/nevada-desert-burning-man-weather-rain-09-03-23/index.html',\n",
       "  'body': 'Some festivalgoers have shared stories of their successful 6-mile hikes away from Burning Man. The worst of the rain Sunday is expected between 12 p.m. and 4 p.m. local time (3 p.m. to 7 p.m. ET ...'}]"
      ]
     },
     "execution_count": 2,
     "metadata": {},
     "output_type": "execute_result"
    }
   ],
   "source": [
    "\n",
    "from llm_researcher.retrievers.search_retrievers import ddgs_search\n",
    "retriever = ddgs_search\n",
    "sub_query = \"Burning Man 2024 flood incident report\"\n",
    "max_search_results_per_query = 5\n",
    "\n",
    "search_results = retriever(sub_query, max_results=max_search_results_per_query)\n",
    "search_results\n"
   ]
  },
  {
   "cell_type": "code",
   "execution_count": null,
   "metadata": {},
   "outputs": [],
   "source": []
  }
 ],
 "metadata": {
  "kernelspec": {
   "display_name": "gpt-researcher",
   "language": "python",
   "name": "python3"
  },
  "language_info": {
   "codemirror_mode": {
    "name": "ipython",
    "version": 3
   },
   "file_extension": ".py",
   "mimetype": "text/x-python",
   "name": "python",
   "nbconvert_exporter": "python",
   "pygments_lexer": "ipython3",
   "version": "3.11.8"
  }
 },
 "nbformat": 4,
 "nbformat_minor": 2
}
