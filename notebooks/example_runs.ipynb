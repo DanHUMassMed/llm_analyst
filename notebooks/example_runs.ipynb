{
 "cells": [
  {
   "cell_type": "markdown",
   "metadata": {},
   "source": [
    "## This note Book will demonstrate different configurations and executions of LLM-Analyst"
   ]
  },
  {
   "cell_type": "code",
   "execution_count": 1,
   "metadata": {},
   "outputs": [],
   "source": [
    "import sys\n",
    "import os\n",
    "\n",
    "sys.path.append('/Users/dan/Code/LLM/llm_analyst')"
   ]
  },
  {
   "cell_type": "code",
   "execution_count": 2,
   "metadata": {},
   "outputs": [],
   "source": [
    "from llm_analyst.core.research_analyst import LLMAnalyst\n",
    "from llm_analyst.core.research_editor import LLMEditor\n",
    "from llm_analyst.core.research_publisher import LLMPublisher\n",
    "research_topic = \"What happened in the latest burning man floods?\"\n",
    "\n"
   ]
  },
  {
   "cell_type": "code",
   "execution_count": 3,
   "metadata": {},
   "outputs": [
    {
     "name": "stderr",
     "output_type": "stream",
     "text": [
      "/Users/dan/miniforge3/envs/gpt-researcher/lib/python3.11/site-packages/langchain_core/_api/deprecation.py:119: LangChainDeprecationWarning: The method `BaseRetriever.get_relevant_documents` was deprecated in langchain-core 0.1.46 and will be removed in 0.3.0. Use invoke instead.\n",
      "  warn_deprecated(\n"
     ]
    },
    {
     "data": {
      "text/plain": [
       "''"
      ]
     },
     "execution_count": 3,
     "metadata": {},
     "output_type": "execute_result"
    }
   ],
   "source": [
    "llm_analyst = LLMAnalyst(active_research_topic=research_topic)\n",
    "await llm_analyst.conduct_research()\n",
    "research_state = await llm_analyst.write_report()\n",
    "research_state.final_report_md"
   ]
  },
  {
   "cell_type": "code",
   "execution_count": null,
   "metadata": {},
   "outputs": [],
   "source": [
    "llm_editor = LLMEditor(research_topic, data_source='local_store')\n",
    "research_state = await llm_editor.create_detailed_report()\n",
    "llm_publisher = LLMPublisher.init(research_state)\n",
    "plublished_reseach_path = await llm_publisher.publish_to_pdf_file()\n"
   ]
  },
  {
   "cell_type": "code",
   "execution_count": null,
   "metadata": {},
   "outputs": [],
   "source": [
    "from llm_analyst.core.research_writer import LLMWriter\n",
    "report = await llm_analyst.write_report()\n",
    "llm_writer = LLMWriter(query)\n",
    "llm_writer.report_md = report\n",
    "await llm_writer.write_to_pdf()"
   ]
  },
  {
   "cell_type": "code",
   "execution_count": null,
   "metadata": {},
   "outputs": [],
   "source": [
    "total_len=0\n",
    "for line in llm_analyst.context:\n",
    "    total_len += len(line)\n",
    "    \n",
    "total_len\n"
   ]
  },
  {
   "cell_type": "code",
   "execution_count": null,
   "metadata": {},
   "outputs": [],
   "source": []
  }
 ],
 "metadata": {
  "kernelspec": {
   "display_name": "gpt-researcher",
   "language": "python",
   "name": "python3"
  },
  "language_info": {
   "codemirror_mode": {
    "name": "ipython",
    "version": 3
   },
   "file_extension": ".py",
   "mimetype": "text/x-python",
   "name": "python",
   "nbconvert_exporter": "python",
   "pygments_lexer": "ipython3",
   "version": "3.11.8"
  }
 },
 "nbformat": 4,
 "nbformat_minor": 2
}
