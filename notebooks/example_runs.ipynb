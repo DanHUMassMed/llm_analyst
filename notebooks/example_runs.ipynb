{
 "cells": [
  {
   "cell_type": "markdown",
   "metadata": {},
   "source": [
    "## This Notebook will demonstrate different configurations and executions of LLM-Analyst"
   ]
  },
  {
   "cell_type": "code",
   "execution_count": 1,
   "metadata": {},
   "outputs": [],
   "source": [
    "# System level imports\n",
    "import sys\n",
    "import os\n",
    "import json\n",
    "user_agent = (\"Mozilla/5.0 (Windows NT 10.0; Win64; x64) AppleWebKit/537.36 \"\n",
    "              \"(KHTML, like Gecko) Chrome/119.0.0.0 Safari/537.36 Edg/119.0.0.0\")\n",
    "\n",
    "os.environ['USER_AGENT'] = user_agent\n",
    "sys.path.append('/Users/dan/Code/LLM/llm_analyst')"
   ]
  },
  {
   "cell_type": "code",
   "execution_count": 2,
   "metadata": {},
   "outputs": [],
   "source": [
    "# Let's import llm_analyst content in one cell to make the rest of the code cleaner.\n",
    "from llm_analyst.core.config import Config, DataSource\n",
    "from llm_analyst.core.research_analyst import LLMAnalyst\n",
    "from llm_analyst.core.research_editor import LLMEditor\n",
    "from llm_analyst.core.research_publisher import LLMPublisher\n",
    "from llm_analyst.core.config import Config\n"
   ]
  },
  {
   "cell_type": "markdown",
   "metadata": {},
   "source": [
    "### Demonstrate running LLM-Analyst on Local Data"
   ]
  },
  {
   "cell_type": "code",
   "execution_count": 3,
   "metadata": {},
   "outputs": [
    {
     "data": {
      "text/plain": [
       "{'internet_search': <function llm_analyst.search_methods.internet_search.ddg_search(query, max_results=5)>,\n",
       " 'embedding_provider': OpenAIEmbeddings(client=<openai.resources.embeddings.Embeddings object at 0x11a26af10>, async_client=<openai.resources.embeddings.AsyncEmbeddings object at 0x11a265f50>, model='text-embedding-ada-002', dimensions=None, deployment='text-embedding-ada-002', openai_api_version='', openai_api_base=None, openai_api_type='', openai_proxy='', embedding_ctx_length=8191, openai_api_key=SecretStr('**********'), openai_organization=None, allowed_special=None, disallowed_special=None, chunk_size=1000, max_retries=2, request_timeout=None, headers=None, tiktoken_enabled=True, tiktoken_model_name=None, show_progress_bar=False, model_kwargs={}, skip_empty=False, default_headers=None, default_query=None, retry_min_seconds=4, retry_max_seconds=20, http_client=None, http_async_client=None, check_embedding_ctx_length=True),\n",
       " 'llm_provider': llm_analyst.chat_models.openai.OPENAI_Model,\n",
       " 'llm_model': 'gpt-4o-2024-05-13',\n",
       " 'llm_token_limit': 4000,\n",
       " 'llm_temperature': 0.25,\n",
       " 'browse_chunk_max_length': 8192,\n",
       " 'summary_token_limit': 700,\n",
       " 'max_search_results_per_query': 5,\n",
       " 'total_words': 1000,\n",
       " 'max_subsections': 5,\n",
       " 'max_iterations': 3,\n",
       " 'max_subtopics': 3,\n",
       " 'report_out_dir': '/Users/dan/llm_analyst_out',\n",
       " 'local_store_dir': '/Users/dan/Code/LLM/research_data/amy_papers',\n",
       " 'cache_dir': '/Users/dan/.cache/llm_analyst'}"
      ]
     },
     "execution_count": 3,
     "metadata": {},
     "output_type": "execute_result"
    }
   ],
   "source": [
    "## Let's run a simple research report against a set of local documents (Amy's Published Papers)\n",
    "## Three things are required.\n",
    "## 1. An active research topic \n",
    "## 2. A defined path to the local data to research against\n",
    "## 3. We must indicate the data source (LocalStore, Web, SelectURLs)\n",
    "\n",
    "# Requirement 1.\n",
    "research_topic = \"I would like to better understand how the metabolism of S-adenosylmethionine is linked to lipid metabolism and stress-responsive gene expression.\"\n",
    "\n",
    "# Requirement 2.\n",
    "config_params = {\n",
    "    \"internet_search\":\"ddg_search\",\n",
    "    \"llm_provider\"   :\"openai\",\n",
    "    \"llm_model\"      :\"gpt-4o-2024-05-13\",\n",
    "    \"local_store_dir\":\"/Users/dan/Code/LLM/research_data/amy_papers\"\n",
    "}\n",
    "config = Config()\n",
    "config._set_values_for_config(config_params)\n",
    "\n"
   ]
  },
  {
   "cell_type": "code",
   "execution_count": 4,
   "metadata": {},
   "outputs": [
    {
     "name": "stderr",
     "output_type": "stream",
     "text": [
      "DEBUG:root:PROMPT choose_agent response = {\n",
      "    \"agentType\": \"🔬 Biochemistry Agent\",\n",
      "    \"agentRole\": \"You are a highly knowledgeable AI biochemistry researcher assistant. Your primary goal is to generate detailed, insightful, unbiased, and systematically organized reports on biochemical processes, including metabolic pathways, molecular interactions, and their implications on cellular functions and gene expression.\"\n",
      "}\n",
      "/Users/dan/miniforge3/envs/gpt-researcher/lib/python3.11/site-packages/sentence_transformers/cross_encoder/CrossEncoder.py:11: TqdmExperimentalWarning: Using `tqdm.autonotebook.tqdm` in notebook mode. Use `tqdm.tqdm` instead to force console mode (e.g. in jupyter console)\n",
      "  from tqdm.autonotebook import tqdm, trange\n",
      "INFO:datasets:PyTorch version 2.3.0 available.\n",
      "INFO:sentence_transformers.SentenceTransformer:Load pretrained SentenceTransformer: sentence-transformers/all-MiniLM-l6-v2\n",
      "/Users/dan/miniforge3/envs/gpt-researcher/lib/python3.11/site-packages/huggingface_hub/file_download.py:1132: FutureWarning: `resume_download` is deprecated and will be removed in version 1.0.0. Downloads always resume when possible. If you want to force a new download, use `force_download=True`.\n",
      "  warnings.warn(\n",
      "DEBUG:root:Hash read /Users/dan/.cache/llm_analyst/local_data_directory.sha\n",
      "DEBUG:root:Using local stored vector db\n",
      "INFO:chromadb.telemetry.product.posthog:Anonymized telemetry enabled. See                     https://docs.trychroma.com/telemetry for more information.\n",
      "DEBUG:chromadb.config:Starting component System\n",
      "DEBUG:chromadb.config:Starting component Posthog\n",
      "DEBUG:chromadb.config:Starting component OpenTelemetryClient\n",
      "DEBUG:chromadb.config:Starting component SqliteDB\n",
      "DEBUG:chromadb.config:Starting component QuotaEnforcer\n",
      "DEBUG:chromadb.config:Starting component LocalSegmentManager\n",
      "DEBUG:chromadb.config:Starting component SegmentAPI\n",
      "INFO:chromadb.api.segment:Collection langchain is not created.\n",
      "DEBUG:root:PROMPT get_sub_queries response = [\"S-adenosylmethionine metabolism and lipid metabolism linkage June 17, 2024\", \"S-adenosylmethionine role in stress-responsive gene expression June 17, 2024\", \"Impact of S-adenosylmethionine on lipid metabolism and stress genes June 17, 2024\"]\n",
      "DEBUG:chromadb.config:Starting component PersistentLocalHnswSegment\n",
      "DEBUG:root:PROMPT write_report response = # Understanding the Link Between S-Adenosylmethionine Metabolism, Lipid Metabolism, and Stress-Responsive Gene Expression\n",
      "\n",
      "## Introduction\n",
      "\n",
      "S-adenosylmethionine (SAM) is a critical metabolite involved in a variety of biochemical processes, including methylation reactions, phospholipid synthesis, and gene regulation. This report aims to elucidate the intricate connections between SAM metabolism, lipid metabolism, and stress-responsive gene expression. The information presented is derived from a comprehensive review of the provided sources, which include studies on SAM's role in metabolic pathways, its impact on gene expression, and its involvement in stress responses.\n",
      "\n",
      "## SAM and the One-Carbon Cycle\n",
      "\n",
      "SAM is synthesized from methionine and ATP via the enzyme methionine adenosyltransferase. This synthesis occurs within the one-carbon cycle (1CC), a crucial metabolic pathway that also involves folate and vitamin B12. The 1CC is responsible for the transfer of one-carbon units necessary for various biosynthetic processes, including the regeneration of methionine from homocysteine (Hcy) and the synthesis of nucleotides and amino acids ([PLOS Genetics](https://doi.org/10.1371/journal.pgen.1007812)).\n",
      "\n",
      "### Methylation Reactions\n",
      "\n",
      "SAM serves as the primary methyl donor in numerous methylation reactions. These reactions include the methylation of histones, DNA, RNA, and proteins, which are essential for regulating gene expression and maintaining cellular function. The byproduct of these methylation reactions is S-adenosylhomocysteine (SAH), which is subsequently hydrolyzed to Hcy. Hcy can then be remethylated to methionine or enter the transsulfuration pathway to form cysteine and glutathione, a critical antioxidant ([Endocrine Metabolism](https://doi.org/10.7554/eLife.79511)).\n",
      "\n",
      "## SAM and Lipid Metabolism\n",
      "\n",
      "### Phosphatidylcholine Synthesis\n",
      "\n",
      "One of the key roles of SAM in lipid metabolism is its involvement in the synthesis of phosphatidylcholine (PC). PC is a major component of cell membranes and is essential for lipid transport and metabolism. In the liver, a significant portion of SAM is utilized for the methylation of phosphatidylethanolamine (PE) to form PC. This process is particularly important in hepatocytes, where the demand for PC is high. The methylation of PE to PC involves three sequential methylation steps, each requiring SAM as the methyl donor ([Cell Metabolism](https://doi.org/10.1016/j.cmet.2015.07.013)).\n",
      "\n",
      "### Fatty Liver Disease\n",
      "\n",
      "Reduced function of the 1CC and subsequent SAM deficiency are strongly associated with metabolic disorders, particularly fatty liver disease. Fatty liver disease is characterized by the accumulation of lipids in liver cells, leading to hepatic steatosis, inflammation, and fibrosis. SAM deficiency can exacerbate these conditions by impairing PC synthesis, leading to disrupted lipid metabolism and increased lipid accumulation. Additionally, SAM deficiency is implicated in alcohol-induced fatty liver disease (ALD), where nutritional limitations of the 1CC accelerate liver injury ([Cell Metabolism](https://doi.org/10.1016/j.cmet.2015.07.013)).\n",
      "\n",
      "## SAM and Stress-Responsive Gene Expression\n",
      "\n",
      "### Gene Regulation\n",
      "\n",
      "SAM is hypothesized to link metabolism and chromatin modification, thereby influencing gene expression. Methylation of histones and DNA by SAM-dependent methyltransferases plays a crucial role in regulating gene expression in response to various stress conditions. For instance, histone H3 lysine 4 trimethylation (H3K4me3) is a marker of active gene transcription and is dependent on SAM availability. Studies have shown that distinct populations of H3K4me3 are specified by different SAM synthases, which in turn affect gene expression patterns during stress ([eLife](https://doi.org/10.7554/eLife.79511)).\n",
      "\n",
      "### Stress Responses in C. elegans\n",
      "\n",
      "Research on Caenorhabditis elegans has provided valuable insights into the role of SAM in stress-responsive gene regulation. C. elegans with reduced SAM levels exhibit altered responses to various stress conditions, including bacterial and toxic stress. These worms show reduced activation of protective genes, which are crucial for survival under stress. Interestingly, the response to heat stress remains unaffected in these worms, suggesting that SAM's role in stress responses may be context-dependent ([PLOS Genetics](https://doi.org/10.1371/journal.pgen.1007812)).\n",
      "\n",
      "### Enzymatic Regulation\n",
      "\n",
      "The enzymes that utilize SAM for histone methylation also play distinct roles in stress responses. For example, the enzyme SET-2 is required for survival during bacterial stress, while another related enzyme, SET-16, is universally required for stress responses. This indicates that specific SAM-dependent methylation pathways are selectively activated in response to different types of stress ([PLOS Genetics](https://doi.org/10.1371/journal.pgen.1007812)).\n",
      "\n",
      "## Dietary Influences on SAM Levels\n",
      "\n",
      "### Choline and Methionine\n",
      "\n",
      "The availability of SAM can be influenced by dietary intake of choline and methionine. Choline is a precursor for the synthesis of phosphatidylcholine, and methionine is the direct precursor for SAM synthesis. Diets low in these nutrients can lead to reduced SAM levels, thereby affecting methylation reactions and lipid metabolism. This dietary influence underscores the importance of adequate nutrition in maintaining SAM levels and preventing metabolic disorders ([PLOS Genetics](https://doi.org/10.1371/journal.pgen.1007812)).\n",
      "\n",
      "### Vitamin B12\n",
      "\n",
      "Vitamin B12 is another critical nutrient that supports the 1CC by facilitating the remethylation of Hcy to methionine. Deficiency in vitamin B12 can impair this process, leading to elevated Hcy levels and reduced SAM synthesis. This can further exacerbate metabolic and gene regulatory dysfunctions associated with SAM deficiency ([Endocrine Metabolism](https://doi.org/10.7554/eLife.79511)).\n",
      "\n",
      "## Conclusion\n",
      "\n",
      "In summary, SAM plays a pivotal role in linking metabolism, lipid metabolism, and stress-responsive gene expression. Its synthesis and utilization within the one-carbon cycle are essential for maintaining cellular function and metabolic homeostasis. SAM's involvement in methylation reactions is critical for regulating gene expression and responding to stress conditions. Additionally, SAM's role in phosphatidylcholine synthesis highlights its importance in lipid metabolism and the prevention of fatty liver disease. Dietary factors, including choline, methionine, and vitamin B12, significantly influence SAM levels, emphasizing the need for adequate nutrition to support these vital biochemical processes.\n",
      "\n",
      "## References\n",
      "\n",
      "- [PLOS Genetics](https://doi.org/10.1371/journal.pgen.1007812)\n",
      "- [Endocrine Metabolism](https://doi.org/10.7554/eLife.79511)\n",
      "- [Cell Metabolism](https://doi.org/10.1016/j.cmet.2015.07.013)\n",
      "- [eLife](https://doi.org/10.7554/eLife.79511)\n",
      "DEBUG:root:pdf_styles_path /Users/dan/Code/LLM/llm_analyst/llm_analyst/resources/pdf_styles.css\n"
     ]
    },
    {
     "name": "stdout",
     "output_type": "stream",
     "text": [
      "Report written to /Users/dan/llm_analyst_out/Research-2024-06-17-1052293236.pdf\n"
     ]
    }
   ],
   "source": [
    "# Alright, now that we has set things up lets get down to conducting the research!\n",
    "# To execute some preliminary research we use the LLMAnalyst \n",
    "# Request the analysts conducts research and then writes a report\n",
    "\n",
    "llm_analyst = LLMAnalyst(active_research_topic = research_topic, \n",
    "                         data_source = DataSource.LocalStore, \n",
    "                         config = config)\n",
    "\n",
    "await llm_analyst.conduct_research()\n",
    "research_state = await llm_analyst.write_report()\n",
    "\n",
    "\n",
    "# Once the report is written we can ask the LLMPublisher to make a pdf\n",
    "llm_publisher = LLMPublisher(**research_state.dump(), config = config)\n",
    "plublished_reseach_path = await llm_publisher.publish_to_pdf_file()"
   ]
  },
  {
   "cell_type": "code",
   "execution_count": null,
   "metadata": {},
   "outputs": [],
   "source": [
    "## Let's build on the first research project and now build a \"detailed report\"\n",
    "## A \"detailed report\" requires oversite therefore we will use an Editor v.s. an Analyst\n",
    "## The key difference between an Editor and the Analyst is that\n",
    "## the Editor will coordinate the efforts of multiple Analysts and \n",
    "## will utilize a specilized Report Writer to pull the final report together\n",
    "\n",
    "## Inputs are the same as the Research Analyst Report above\n",
    "\n",
    "## But we will explicitly define the publish directory.\n",
    "## FYI this is the default so not actually required.\n",
    "config_params[\"report_out_dir\"] = \"~/llm_analyst_out\"\n",
    "\n",
    "llm_editor = LLMEditor(active_research_topic = research_topic, \n",
    "                       data_source = DataSource.LocalStore,\n",
    "                       config = config)\n",
    "\n",
    "research_state = await llm_editor.create_detailed_report()\n",
    "\n",
    "llm_publisher = LLMPublisher(**research_state.dump(), config = config)\n",
    "plublished_reseach_path = await llm_publisher.publish_to_pdf_file()\n"
   ]
  },
  {
   "cell_type": "markdown",
   "metadata": {},
   "source": [
    "### Demonstrate Running LLM-Analyst on Web Scraped Data"
   ]
  },
  {
   "cell_type": "code",
   "execution_count": null,
   "metadata": {},
   "outputs": [],
   "source": [
    "## Let's run a simple research report against the internet\n",
    "## All that is required is an active research topic\n",
    "\n",
    "# Requirement 1.\n",
    "research_topic = \"How does DAF-19 regulate transcription of regeneration associated genes?\"\n",
    "\n",
    "\n",
    "config_params = {\n",
    "    \"internet_search\":\"ddg_search\",\n",
    "    \"llm_provider\"   :\"openai\",\n",
    "    \"llm_model\"      :\"gpt-4o-2024-05-13\",\n",
    "}\n",
    "config = Config()\n",
    "config._set_values_for_config(config_params)"
   ]
  },
  {
   "cell_type": "code",
   "execution_count": null,
   "metadata": {},
   "outputs": [],
   "source": [
    "# To execute some preliminary research we use the LLMAnalyst \n",
    "\n",
    "llm_analyst = LLMAnalyst(active_research_topic = research_topic, \n",
    "                         config = config)\n",
    "\n",
    "await llm_analyst.conduct_research()\n",
    "research_state = await llm_analyst.write_report()\n",
    "\n",
    "\n",
    "# Once the report is written we can ask the LLMPublisher to mak a pdf\n",
    "llm_publisher = LLMPublisher(**research_state.dump(), config = config)\n",
    "plublished_reseach_path = await llm_publisher.publish_to_pdf_file()"
   ]
  },
  {
   "cell_type": "code",
   "execution_count": null,
   "metadata": {},
   "outputs": [],
   "source": [
    "## Let's build on the first research project and now build a \"detailed report\"\n",
    "## A \"detailed report\" requires oversite therefore we will use an Editor v.s. an Analyst\n",
    "## The key difference between an Editor and the Analyst is that\n",
    "## the Editor will coordinate the efforts of multiple Analysts and \n",
    "## will utilize a specilized Report Writer to pull the final report together\n",
    "\n",
    "## Inputs are the same as the Research Analyst Report above\n",
    "\n",
    "## But we will explicitly define the publish directory.\n",
    "## FYI this is the default so not actually required.\n",
    "config_params[\"report_out_dir\"] = \"~/llm_analyst_out\"\n",
    "\n",
    "llm_editor = LLMEditor(active_research_topic = research_topic, \n",
    "                       data_source = DataSource.LocalStore,\n",
    "                       config = config)\n",
    "\n",
    "research_state = await llm_editor.create_detailed_report()\n",
    "\n",
    "llm_publisher = LLMPublisher(**research_state.dump(), config = config)\n",
    "plublished_reseach_path = await llm_publisher.publish_to_pdf_file()"
   ]
  }
 ],
 "metadata": {
  "kernelspec": {
   "display_name": "gpt-researcher",
   "language": "python",
   "name": "python3"
  },
  "language_info": {
   "codemirror_mode": {
    "name": "ipython",
    "version": 3
   },
   "file_extension": ".py",
   "mimetype": "text/x-python",
   "name": "python",
   "nbconvert_exporter": "python",
   "pygments_lexer": "ipython3",
   "version": "3.11.8"
  }
 },
 "nbformat": 4,
 "nbformat_minor": 2
}
