{
 "cells": [
  {
   "cell_type": "markdown",
   "metadata": {},
   "source": [
    "# Create and Populate a Vector Store\n",
    "* We will use ChromaDB\n"
   ]
  },
  {
   "cell_type": "code",
   "execution_count": 1,
   "metadata": {},
   "outputs": [],
   "source": [
    "import asyncio\n",
    "import chromadb\n",
    "from chromadb.config import Settings\n",
    "from langchain_huggingface import HuggingFaceEmbeddings\n",
    "from transformers import AutoTokenizer, AutoModel\n",
    "from langchain_text_splitters import CharacterTextSplitter\n",
    "import torch"
   ]
  },
  {
   "cell_type": "code",
   "execution_count": 2,
   "metadata": {},
   "outputs": [],
   "source": [
    "settings = Settings(\n",
    "    allow_reset=True\n",
    ")\n",
    "\n",
    "chroma_client = chromadb.PersistentClient(path=\"./data/chroma_bd\",settings=settings)\n",
    "chroma_client.reset()\n",
    "\n",
    "# Create an empty collection in ChromaDB\n",
    "collection_name = \"my_vector_store\"\n",
    "collection = chroma_client.create_collection(name=collection_name)\n"
   ]
  },
  {
   "cell_type": "code",
   "execution_count": 17,
   "metadata": {},
   "outputs": [
    {
     "data": {
      "text/plain": [
       "['This is a document about pineapple', 'This is a document about oranges']"
      ]
     },
     "execution_count": 17,
     "metadata": {},
     "output_type": "execute_result"
    }
   ],
   "source": [
    "\n",
    "text_splitter = CharacterTextSplitter(chunk_size=1000, chunk_overlap=0)\n",
    "\n",
    "# Example usage\n",
    "documents = [\n",
    "    \"This is a document about pineapple\",\n",
    "    \"This is a document about oranges\"\n",
    "]\n",
    "chunked_documents = []\n",
    "for doc in documents:\n",
    "    chunked_document = text_splitter.split_text(doc)\n",
    "    chunked_documents.extend(chunked_document)\n",
    "chunked_documents"
   ]
  },
  {
   "cell_type": "code",
   "execution_count": 18,
   "metadata": {},
   "outputs": [
    {
     "name": "stderr",
     "output_type": "stream",
     "text": [
      "Insert of existing embedding ID: e191a15443f6e455cf0333b6182a7f31\n",
      "Insert of existing embedding ID: 483e24dbc1c862221ea9efbb69637092\n",
      "Add of existing embedding ID: e191a15443f6e455cf0333b6182a7f31\n",
      "Add of existing embedding ID: 483e24dbc1c862221ea9efbb69637092\n"
     ]
    }
   ],
   "source": [
    "import hashlib\n",
    "\n",
    "def generate_id(content):\n",
    "    return hashlib.md5(content.encode()).hexdigest()\n",
    "\n",
    "# Generate unique IDs by hashing document content\n",
    "unique_ids = [generate_id(doc) for doc in chunked_documents]\n",
    "\n",
    "\n",
    "# Add documents to the collection with unique IDs\n",
    "collection.add(\n",
    "    documents=documents,\n",
    "    ids=unique_ids\n",
    ")\n"
   ]
  },
  {
   "cell_type": "code",
   "execution_count": 6,
   "metadata": {},
   "outputs": [
    {
     "name": "stdout",
     "output_type": "stream",
     "text": [
      "{'ids': [['e191a15443f6e455cf0333b6182a7f31', '483e24dbc1c862221ea9efbb69637092']], 'distances': [[1.0403737134245823, 1.2430689493879792]], 'metadatas': [[None, None]], 'embeddings': None, 'documents': [['This is a document about pineapple', 'This is a document about oranges']], 'uris': None, 'data': None, 'included': ['metadatas', 'documents', 'distances']}\n"
     ]
    }
   ],
   "source": [
    "results = collection.query(\n",
    "    query_texts=[\"This is a query document about hawaii\"], # Chroma will embed this for you\n",
    "    n_results=2 # how many results to return\n",
    ")\n",
    "print(results)"
   ]
  },
  {
   "cell_type": "code",
   "execution_count": 30,
   "metadata": {},
   "outputs": [
    {
     "data": {
      "text/plain": [
       "{'page_content': 'RESEARCH ARTICLE\\nStress-responsive and metabolic gene\\nregulation are altered in low S-\\nadenosylmethionine\\nWei Ding1, Daniel P. HigginsID2, Dilip K. Yadav1, Adwait A. Godbole1, Read Pukkila-\\nWorleyID3, Amy K. WalkerID1*\\n1 Program in Molecular Medicine, UMASS Medical School, Worcester, MA, United States of America,\\n2 Department of Computer Sciences, Georgia Institute of Technology, Atlanta, GA, United States of America,\\n3 Program in Innate Immunity, Division of Infectious Diseases and Immunology, UMASS Medical School,\\nWorcester, MA, United States of America\\n* amy.walker@umassmed.edu\\nAbstract\\nS-adenosylmethionine (SAM) is a donor which provides the methyl groups for histone or\\nnucleic acid modification and phosphatidylcholine production. SAM is hypothesized to link\\nmetabolism and chromatin modification, however, its role in acute gene regulation is poorly\\nunderstood. We recently found that Caenorhabditis elegans with reduced SAM had deficien-\\ncies in H3K4 trimethylation (H3K4me3) at pathogen-response genes, decreasing their\\nexpression and limiting pathogen resistance. We hypothesized that SAM may be generally\\nrequired for stress-responsive transcription. Here, using genetic assays, we show that tran-\\nscriptional responses to bacterial or xenotoxic stress fail in C. elegans with low SAM, but\\nthat expression of heat shock genes are unaffected. We also found that two H3K4 methyl-\\ntransferases, set-2/SET1 and set-16/MLL, had differential responses to survival during\\nstress. set-2/SET1 is specifically required in bacterial responses, whereas set-16/MLL is\\nuniversally required. These results define a role for SAM in the acute stress-responsive\\ngene expression. Finally, we find that modification of metabolic gene expression correlates\\nwith enhanced survival during stress.\\nAuthor summary\\nAnimals respond to stress by activating suites of protective genes. A specific metabolite, S-\\nadenosylmethionine (SAM), influences how these genes are activated in a variety of stress\\nconditions. SAM is produced by the 1-carbon cycle and is the major donor for methyla-\\ntion reactions. Thus, SAM is used in the modification of histones, DNA, RNA and pro-\\nduction of phospholipids. Here, we show that C. elegans with low SAM have reduced\\nresponses to a bacterial and toxic stress, but respond normally to heat stress. We also ana-\\nlyzed how animals that have reduced activity in some of the enzymes that use SAM to\\nmodify histones might respond to stress. One enzyme, SET-2, was needed only for sur-\\nvival in bacterial stress, whereas the other related enzyme, SET-16, was universally\\nrequired. The availability of SAM may be affected by diets low in choline or methionine,\\nPLOS Genetics | https://doi.org/10.1371/journal.pgen.1007812\\nNovember 28, 2018\\n1 / 26\\na1111111111\\na1111111111\\na1111111111\\na1111111111\\na1111111111\\nOPEN ACCESS\\nCitation: Ding W, Higgins DP, Yadav DK, Godbole\\nAA, Pukkila-Worley R, Walker AK (2018) Stress-\\nresponsive and metabolic gene regulation are\\naltered in low S-adenosylmethionine. PLoS Genet\\n14(11): e1007812. https://doi.org/10.1371/journal.\\npgen.1007812\\nEditor: Anne Brunet, Stanford University, UNITED\\nSTATES\\nReceived: June 26, 2018\\nAccepted: November 6, 2018\\nPublished: November 28, 2018\\nCopyright: © 2018 Ding et al. This is an open\\naccess article distributed under the terms of the\\nCreative Commons Attribution License, which\\npermits unrestricted use, distribution, and\\nreproduction in any medium, provided the original\\nauthor and source are credited.\\nData Availability Statement: The RNA sequencing\\ndata are available from GEO (accession numbers\\nGSE121511, GSE121509 and GSE121510). All\\nother relevant data are within the paper and its\\nSupporting Information files.\\nFunding: This work was supported by National\\nInstitutes of Health grants R01 AG053355 and R01\\nDK084352 to AKW and NIH National Institutes of\\nHealth grants R01 AI130289 to RPW. The funders\\nhad no role in study design, data collection and\\nGENETICS',\n",
       " 'metadata': {'source': './data/Example_Paper.pdf',\n",
       "  'file_path': './data/Example_Paper.pdf',\n",
       "  'page': 0,\n",
       "  'total_pages': 26,\n",
       "  'format': 'PDF 1.6',\n",
       "  'title': 'Stress-responsive and metabolic gene regulation are altered in low S-adenosylmethionine',\n",
       "  'author': 'Wei Ding, Daniel P. Higgins, Dilip K. Yadav, Adwait A. Godbole, Read Pukkila-Worley, Amy K. Walker',\n",
       "  'subject': '',\n",
       "  'keywords': '',\n",
       "  'creator': 'Arbortext Advanced Print Publisher 11.0.3521/W Unicode-x64',\n",
       "  'producer': 'PDFlib+PDI 9.0.6 (C++/Win64); modified using iTextSharp™ 5.5.3 ©2000-2014 iText Group NV (AGPL-version)',\n",
       "  'creationDate': \"D:20181201215801+05'30'\",\n",
       "  'modDate': \"D:20181201215817+05'30'\",\n",
       "  'trapped': ''},\n",
       " 'type': 'Document'}"
      ]
     },
     "execution_count": 30,
     "metadata": {},
     "output_type": "execute_result"
    }
   ],
   "source": [
    "from langchain_community.document_loaders import PyMuPDFLoader\n",
    "file_path=\"./data/Example_Paper.pdf\"\n",
    "#loader = PyMuPDFLoader(file_path)\n",
    "loader = PyMuPDFLoader(file_path,extract_images=True)\n",
    "ret_data = loader.load()\n",
    "dict(ret_data[0])"
   ]
  },
  {
   "cell_type": "code",
   "execution_count": 29,
   "metadata": {},
   "outputs": [
    {
     "data": {
      "text/plain": [
       "{'page_content': 'alcohol or diseases such as cystic fibrosis. Thus, low SAM availability may leave organisms\\nless able to respond to additional stress, which could exacerbate tissue injury or disease\\nprogression.\\nIntroduction\\nCellular functions are profoundly affected by metabolic state. For example, transcriptional reg-\\nulation can be linked to metabolism through the modification of chromatin by methylation\\n[1]. Using the methyl groups produced by the 1-carbon cycle (1CC) and donated by S-adeno-\\nsylmethionine (SAM), histone methyltransferases (HMTs) can change the regulatory state of\\nchromatin, promoting or limiting gene activity [2]. HMT activity can be controlled by recruit-\\nment of HMT containing complexes to specific genomic locations [2]. However, SAM avail-\\nability may also affect histone methylation patterns [3]. SAM is produced by the 1-carbon\\ncycle (1CC) and levels can be affected by folate, methionine or choline levels or by other factors\\nsuch as alcohol consumption [4]. Variations in SAM levels have been proposed to mediate\\ntransgenerational inheritance of epigenetic patterns or other gene regulatory events, however,\\na direct mechanistic connection has been difficult to establish [5]. Although SAM is necessary\\nfor all histone methylation events, in vivo studies have suggested that particular methylation\\nmarks are more sensitive to changes in SAM levels. For example, induced pluripotent stem\\ncells (iPSCs), murine liver, and C. elegans all show a decrease in H3K4me3 levels as SAM levels\\ndrop [6–9]. Furthermore, in budding yeast, a rise in SAM levels is followed by increases in\\nH3K4me3 [10]. Furthermore, these linked changes in SAM levels and H3K4me3 also correlate\\nwith changes in cell-type-specific gene expression and differentiation in iPS cells [7]. Finally,\\nDai et al. have recently demonstrated that treatments with high and low methionine, which is\\nthe precursor for SAM, alters H3K4me3 peak width at genes in steady-state conditions in\\nmouse liver and human cancer cells [11]. Thus, SAM levels are tightly linked to H3K4me3\\ndynamics.\\nTrimethylation of H3K4 is a common modification occurring close to the start site of\\nactively transcribed genes and is accomplished through the activity of the COMPASS complex\\n[12]. The KTM2 family of HMTs serves as the enzymatic activity of COMPASS providing\\nmono, di and trimethylated states [13]. In yeast, there is a single member, Set1, whereas mam-\\nmals can use one of seven enzymes, within subfamilies of SET1, MLL (Mixed lineage leukemia)\\nor THX (Trithorax) [12]. However, the relationship between H3K4me3 and transcription is\\ncomplex, as it does not appear to be necessary for global gene expression in basal conditions\\n[14]. In yeast, Set1 has an important role in limiting the expression of ribosomal genes during\\nthe response to diamide stress [15] suggesting that chromatin-modifying factors are especially\\ncritical when organisms experience stress. The H3K4 methyltransferase family in mammals\\nappears to have overlapping as well as specialized functions in either specificity for mono, di or\\ntri-methylation or through distinct roles in development [13]. However, clearly defined roles\\nfor each MT have been difficult to discern.\\nC. elegans genome encodes a simplified KTM2 family containing three H3K4 methyltrans-\\nferases, set-2/SET1, set-16/MLL and ash-2/THX [16]. Interestingly, these methyltransferases\\nhave distinct developmental and tissue-specific biological functions. set-2/SET1 is broadly\\nimportant for H3K4 trimethylation in embryos and the germline [17, 18] and the intestine [8].\\nAlso, loss or reduction of set-2/SET1 influences fertility across generations [19], lifespan [20]\\nand lipid accumulation [21]. ash-2 acts through the germline to affect lifespan and lipid accu-\\nmulation in the intestine [20–22]. set-16/MLL, on the other hand, appears to be dispensable\\nLow SAM alters stress-induced gene expression\\nPLOS Genetics | https://doi.org/10.1371/journal.pgen.1007812\\nNovember 28, 2018\\n2 / 26\\nanalysis, decision to publish, or preparation of the\\nmanuscript.\\nCompeting interests: The authors have declared\\nthat no competing interests exist.\\n',\n",
       " 'metadata': {'source': './data/Example_Paper.pdf',\n",
       "  'file_path': './data/Example_Paper.pdf',\n",
       "  'page': 1,\n",
       "  'total_pages': 26,\n",
       "  'format': 'PDF 1.6',\n",
       "  'title': 'Stress-responsive and metabolic gene regulation are altered in low S-adenosylmethionine',\n",
       "  'author': 'Wei Ding, Daniel P. Higgins, Dilip K. Yadav, Adwait A. Godbole, Read Pukkila-Worley, Amy K. Walker',\n",
       "  'subject': '',\n",
       "  'keywords': '',\n",
       "  'creator': 'Arbortext Advanced Print Publisher 11.0.3521/W Unicode-x64',\n",
       "  'producer': 'PDFlib+PDI 9.0.6 (C++/Win64); modified using iTextSharp™ 5.5.3 ©2000-2014 iText Group NV (AGPL-version)',\n",
       "  'creationDate': \"D:20181201215801+05'30'\",\n",
       "  'modDate': \"D:20181201215817+05'30'\",\n",
       "  'trapped': ''},\n",
       " 'type': 'Document'}"
      ]
     },
     "execution_count": 29,
     "metadata": {},
     "output_type": "execute_result"
    }
   ],
   "source": [
    "dict(ret_data[1])"
   ]
  },
  {
   "cell_type": "code",
   "execution_count": null,
   "metadata": {},
   "outputs": [],
   "source": []
  }
 ],
 "metadata": {
  "kernelspec": {
   "display_name": "gpt-researcher",
   "language": "python",
   "name": "python3"
  },
  "language_info": {
   "codemirror_mode": {
    "name": "ipython",
    "version": 3
   },
   "file_extension": ".py",
   "mimetype": "text/x-python",
   "name": "python",
   "nbconvert_exporter": "python",
   "pygments_lexer": "ipython3",
   "version": "3.11.8"
  }
 },
 "nbformat": 4,
 "nbformat_minor": 2
}
