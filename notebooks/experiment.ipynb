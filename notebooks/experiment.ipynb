{
 "cells": [
  {
   "cell_type": "code",
   "execution_count": 1,
   "metadata": {},
   "outputs": [],
   "source": [
    "import sys\n",
    "sys.path.append('/Users/dan/Code/LLM/llm_analyst')"
   ]
  },
  {
   "cell_type": "code",
   "execution_count": null,
   "metadata": {},
   "outputs": [],
   "source": [
    "from llm_analyst.core.researcher import LLMAnalyst\n",
    "query = \"What happened in the latest burning man floods?\"\n",
    "llm_analyst = LLMAnalyst(query)\n",
    "\n",
    "await llm_analyst.conduct_research()\n",
    "llm_analyst.context"
   ]
  },
  {
   "cell_type": "code",
   "execution_count": null,
   "metadata": {},
   "outputs": [],
   "source": [
    "from llm_analyst.core.prompts import Prompts\n",
    "from datetime import datetime, timezone\n",
    "prompts = Prompts()\n",
    "\n",
    "prompt = prompts.get_prompt(\"report_prompt\")"
   ]
  },
  {
   "cell_type": "code",
   "execution_count": null,
   "metadata": {},
   "outputs": [],
   "source": [
    "import importlib.util\n",
    "import importlib\n",
    "import os\n",
    "\n",
    "package_nm=\"llm_analyst.resources\"\n",
    "module_spec = importlib.util.find_spec(package_nm)\n",
    "package_path = os.path.dirname(module_spec.origin)\n",
    "package_path"
   ]
  },
  {
   "cell_type": "code",
   "execution_count": null,
   "metadata": {},
   "outputs": [],
   "source": [
    "from llm_analyst.core.prompts import Prompts\n",
    "from datetime import datetime, timezone\n",
    "prompts = Prompts()\n",
    "prompt = prompts.get_prompt(\"report_prompt\")\n",
    "prompt\n"
   ]
  },
  {
   "cell_type": "code",
   "execution_count": null,
   "metadata": {},
   "outputs": [],
   "source": [
    "import re\n",
    "prompt_keys = prompts._prompts.keys()\n",
    "for prompt_key in prompt_keys:\n",
    "    prompt = prompts.get_prompt(prompt_key)\n",
    "    variables = re.findall(r'\\{(.*?)\\}', prompt)\n",
    "    variables = [f\"{variable}={variable}\" for variable in list(variables)]\n",
    "    params = ', '.join(variables)\n",
    "    fun_call=f\"prompts.get_prompt('{prompt_key}',{params})\"\n",
    "    print(fun_call)\n",
    "\n",
    "    #print(\"=\"*20,prompt_key,\"=\"*20)\n",
    "    #print(f\"{prompt_key}({variables})\")\n",
    "    #print(prompt)\n",
    "    #print(\"=\"*80)"
   ]
  },
  {
   "cell_type": "code",
   "execution_count": null,
   "metadata": {},
   "outputs": [],
   "source": [
    "from llm_analyst.core.prompts import Prompts\n",
    "from datetime import datetime, timezone\n",
    "\n",
    "context = \"This context\"\n",
    "question = \"What is the meaning of life?\"\n",
    "total_words = 2000\n",
    "report_format = \"APA\"\n",
    "datetime_now = datetime.now().strftime('%B %d, %Y')\n",
    "\n",
    "prompts = Prompts()\n",
    "prompt = prompts.get_prompt(\"generate_report_prompt\",\n",
    "                            context=context,\n",
    "                            question=question,\n",
    "                            total_words=total_words,\n",
    "                            report_format=report_format,\n",
    "                            datetime_now=datetime_now)\n",
    "print(prompt)\n"
   ]
  },
  {
   "cell_type": "code",
   "execution_count": null,
   "metadata": {},
   "outputs": [],
   "source": [
    "from llm_analyst.core.prompts import Prompts\n",
    "from datetime import datetime, timezone\n",
    "\n",
    "context = \"This context\"\n",
    "question = \"What is the meaning of life?\"\n",
    "total_words = 2000\n",
    "task = \"What is the meaning of life?\"\n",
    "max_iterations = 5\n",
    "datetime_now = datetime.now().strftime('%B %d, %Y')\n",
    "\n",
    "prompts = Prompts()\n",
    "prompt = prompts.get_prompt(\"generate_resource_report_prompt\",\n",
    "                            context=context,\n",
    "                            question=question,\n",
    "                            total_words=total_words)\n",
    "print(prompt)\n",
    "\n",
    "\n"
   ]
  },
  {
   "cell_type": "code",
   "execution_count": null,
   "metadata": {},
   "outputs": [],
   "source": [
    "\n",
    "from llm_analyst.core.prompts import Prompts\n",
    "from datetime import datetime, timezone\n",
    "\n",
    "prompts = Prompts()\n",
    "prompt = prompts.get_prompt(\"auto_agent_instructions\")\n",
    "print(prompt)\n",
    "\n"
   ]
  },
  {
   "cell_type": "code",
   "execution_count": null,
   "metadata": {},
   "outputs": [],
   "source": [
    "from llm_analyst.core.researcher import LLMAnalyst\n",
    "query = \"What happened in the latest burning man floods?\"\n",
    "llm_analyst = LLMAnalyst(query)\n",
    "agent, agent_prompt = await llm_analyst.choose_agent()\n",
    "print(f\"Agent={agent}\\nAgent Prompt={agent_prompt}\")\n",
    "\n",
    "\n"
   ]
  },
  {
   "cell_type": "code",
   "execution_count": null,
   "metadata": {},
   "outputs": [],
   "source": [
    "import inspect\n",
    "\n",
    "def my_trace_log(func):\n",
    "    def wrapper(*args, **kwargs):\n",
    "        function_name = inspect.currentframe().f_code.co_name\n",
    "        print(f\"TRACE: Entering {func.__name__}\")\n",
    "        result = func(*args, **kwargs)\n",
    "        print(f\"TRACE: Exiting {func.__name__}\")\n",
    "        return result\n",
    "    return wrapper\n",
    "\n",
    "@my_trace_log\n",
    "def hello_world():\n",
    "    print(\"Hello World\")\n",
    "\n",
    "# Example usage\n",
    "hello_world()\n"
   ]
  },
  {
   "cell_type": "code",
   "execution_count": 2,
   "metadata": {},
   "outputs": [],
   "source": [
    "from llm_analyst.core.config import Config\n",
    "config = Config()"
   ]
  },
  {
   "cell_type": "code",
   "execution_count": null,
   "metadata": {},
   "outputs": [],
   "source": []
  }
 ],
 "metadata": {
  "kernelspec": {
   "display_name": "gpt-researcher",
   "language": "python",
   "name": "python3"
  },
  "language_info": {
   "codemirror_mode": {
    "name": "ipython",
    "version": 3
   },
   "file_extension": ".py",
   "mimetype": "text/x-python",
   "name": "python",
   "nbconvert_exporter": "python",
   "pygments_lexer": "ipython3",
   "version": "3.11.8"
  }
 },
 "nbformat": 4,
 "nbformat_minor": 2
}
