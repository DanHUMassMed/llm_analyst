{
 "cells": [
  {
   "cell_type": "code",
   "execution_count": 4,
   "metadata": {},
   "outputs": [],
   "source": [
    "import sys\n",
    "sys.path.append('/Users/dan/Code/LLM/llm_analyst')"
   ]
  },
  {
   "cell_type": "code",
   "execution_count": 3,
   "metadata": {},
   "outputs": [
    {
     "name": "stderr",
     "output_type": "stream",
     "text": [
      "/Users/dan/miniforge3/envs/gpt-researcher/lib/python3.11/site-packages/langchain_core/_api/deprecation.py:119: LangChainDeprecationWarning: The method `BaseRetriever.get_relevant_documents` was deprecated in langchain-core 0.1.46 and will be removed in 0.3.0. Use invoke instead.\n",
      "  warn_deprecated(\n"
     ]
    },
    {
     "data": {
      "text/plain": [
       "['Source: https://www.nbcnews.com/news/us-news/live-blog/live-updates-burning-man-flooding-keeps-thousands-stranded-nevada-site-rcna103193\\nTitle: \\nContent: STEPS FOR VETSNBC News Site MapHelpFollow NBC News news AlertsThere are no new alerts at this timeSearchSearchFacebookTwitterEmailSMSPrintWhatsappRedditPocketFlipboardPinterestLinkedinLatest StoriesTrump on TrialIran President PoliticsU.S. NewsWorldBusinessSportsNBC News TiplineShoppingHealthEVENT ENDEDLast updated Sept. 4, 2023, 12:20 PM UTCBurning Man flooding keeps thousands stranded at Nevada site as authorities investigate 1 death Attendees at the countercultural music and arts festival were first advised to “shelter in place” and conserve food and water.PrintUpdated\\xa0Sept. 4, 2023, 12:20 PM UTCBy NBC NewsBurning Man attendees struggling to get homeBurning Man attendees are still struggling to escape from Black Rock City as around 70,000 remain stuck on muddy campgrounds after two days of heavy rain.“There is no cause for panic,\" CEO Marian Goodell told NBC News. Attendees at the countercultural music and arts festival were first advised to “shelter in place” and conserve food and\\n\\nSource: https://apnews.com/article/burning-man-festival-flooding-entrance-closed-d6cd88ee009c6e1f6d2d92739ec1ca18\\nTitle: \\nContent: 1 of 2\\xa0|\\xa0In this satellite photo provided by Maxar Technologies, an overview of Burning Man festival in Black Rock, Nev on Monday, Aug. 28, 2023. (©2023 Maxar Technologies via AP)\\nRead More\\n2 of 2\\xa0|\\xa0In this satellite photo provided by Maxar Technologies, an overview of Burning Man festival in Black Rock, Nev on Monday, Aug. 28, 2023. (©2023 Maxar Technologies via AP)\\nRead More\\n\\xa0\\nShare\\n                    Share\\n                    \\nCopy\\nLink copied\\n        Email\\n    \\n \\nFacebook\\nX\\nReddit\\nLinkedIn\\nPinterest\\nFlipboard\\n        Print\\n\\nSource: https://apnews.com/article/burning-man-festival-flooding-entrance-closed-d6cd88ee009c6e1f6d2d92739ec1ca18\\nTitle: \\nContent: Burning Man flooding strands tens of thousands at Nevada site; authorities are investigating 1 death | AP News\\nMenu\\nMenu\\nWorld\\nU.S.\\nElection 2024\\nPolitics\\nSports\\nEntertainment\\nBusiness\\nScience\\nFact Check\\nOddities\\nBe Well\\nNewsletters\\nVideo\\nPhotography \\nClimate\\nHealth\\nPersonal Finance\\nAP Investigations\\nTech\\nLifestyle\\nReligion\\nAP Buyline Personal Finance\\nAP Buyline Shopping\\nPress Releases\\nMy Account\\n...\\nWorld\\nIsrael-Hamas War\\n    \\nRussia-Ukraine War\\n    \\nGlobal elections\\n    \\nAsia Pacific\\n    \\nLatin America\\n    \\nEurope\\n    \\nAfrica\\n    \\nMiddle East\\n    \\nChina\\n    \\nAustralia\\n    \\nU.S.\\nElection 2024\\nElection Results\\n    \\nDelegate Tracker\\n    \\nAP & Elections\\n    \\nGlobal elections\\n    \\nPolitics\\nJoe Biden\\n    \\nElection 2024\\n    \\nCongress\\n    \\nSports\\nMLB\\n    \\nNBA\\n    \\nNHL\\n    \\nNFL\\n    \\nSoccer\\n    \\nGolf\\n    \\nTennis\\n    \\nAuto Racing\\n    \\n2024 Paris Olympic Games\\n    \\nEntertainment\\nMovie reviews\\n    \\nBook reviews\\n    \\nCelebrity\\n    \\nTelevision\\n    \\nMusic\\n    \\nBusiness\\nInflation\\n\\nSource: https://apnews.com/article/burning-man-festival-flooding-entrance-closed-d6cd88ee009c6e1f6d2d92739ec1ca18\\nTitle: \\nContent: Link copied\\n        Email\\n    \\n \\nFacebook\\nX\\nReddit\\nLinkedIn\\nPinterest\\nFlipboard\\n        Print\\n    \\nBLACK ROCK DESERT, Nev. (AP) — An unusual late-summer storm turned a week-long counterculture fest into a sloppy mess with tens of thousands of partygoers stuck in foot-deep mud and with no working toilets in the northern Nevada desert. But some Burning Man revelers said Sunday that their spirits remained unbroken.Organizers closed the festival to vehicles after one death was reported. Officials provided no details of the fatality.The annual gathering in the Black Rock Desert about 110 miles (177 kilometers) north of Reno attracts nearly 80,000 artists, musicians and activists for a mix of wilderness camping and avant-garde performances. Disruptions are part of the event’s recent history: Organizers had to temporarily close entrances to the festival in 2018 due to dust storms, and the event was twice canceled altogether during the pandemic.\\n\\nSource: https://apnews.com/article/burning-man-flooding-nevada-stranded-3971a523f4b993f8f35e158fd1a17a1e\\nTitle: \\nContent: After more than a half-inch (1.3 centimeters) of rain fell Friday, flooding turned the playa to foot-deep mud — closing roads and forcing burners to lean on each other for help.Burning Man emphasizes self-sufficiency, and many burners arrive in Black Rock Desert with limited supplies, expecting to face challenges in the form of brutal heat, dust storms — or torrential rains.Disruptions are part of the event’s recent history: Dust storms forced organizers to temporarily close entrances to the festival in 2018, and the event was twice canceled altogether during the pandemic.Mark Fromson, 54, who goes by the name “Stuffy” on the playa, had been staying in an RV, but the rains forced him to find shelter at another camp, where fellow burners provided him food and cover. Another principle of Burning Man, he said, centers on the unconditional giving of gifts with no expectation of receiving one.After sunset Friday, Fromson set off barefoot through the muck for a long trek back to his vehicle\\n\\nSource: https://apnews.com/article/burning-man-flooding-nevada-stranded-0726190c9f8378935e2a3cce7f154785\\nTitle: \\nContent: “We are a little bit dirty and muddy, but spirits are high. The party still going,” said Scott London, a Southern California photographer, adding that the travel limitations offered “a view of Burning Man that a lot of us don’t get to see.”Disruptions are part of the event’s recent history: Dust storms forced organizers to temporarily close entrances to the festival in 2018, and the event was twice canceled altogether during the pandemic.At least one fatality has been reported, but organizers said the death of a man in his 40s wasn’t weather-related. The sheriff of nearby Pershing County said he was investigating but has not identified the man or a cause of death.President Joe Biden told reporters in Delaware on Sunday that he was aware of the situation at Burning Man, including the death, and the White House was in touch with local authorities.The event is remote on the best of days and emphasizes self-sufficiency. Amid the flooding, revelers were urged to conserve their food and\\n\\nSource: https://www.nbcnews.com/news/us-news/live-blog/live-updates-burning-man-flooding-keeps-thousands-stranded-nevada-site-rcna103193\\nTitle: \\nContent: drinks to keep the party going.“When you get pushed to extremes, that’s when the most fun happens,” said Brian Fraoli, 45, a veteran “burner” who works in finance in New York.259d ago / 9:38 AM UTCCopiedShareBurning Man memes are swamping social mediaAngela YangAs heavy rain turns Burning Man 2023 into a muddy mess, a deluge of unsympathetic jokes has swamped the internet outside Black Rock City, the temporary location built annually for the nine-day festival in the remote desert of Nevada.Read the full story here.260d ago / 3:42 AM UTCCopiedShare260d ago / 2:58 AM UTCCopiedSharePresident Biden briefed on the situationMolly RoeckerPresident Joe Biden was briefed on the situation at the Burning Man festival in Nevada’s Black Rock Desert, a White House official said. Administration officials were monitoring the situation and getting updates from state and local officials, the official said.Event attendees should pay attention to updates from state and local officials and event\\n\\nSource: https://www.nbcnews.com/news/us-news/live-blog/live-updates-burning-man-flooding-keeps-thousands-stranded-nevada-site-rcna103193\\nTitle: \\nContent: is no cause for panic,” Marian Goodell told NBC News.Burning Man’s estimated 70,000-plus attendees were isolated at the venue known as Black Rock City as rain returned Sunday and as closed roads, muddy campgrounds and\\xa0one reported death\\xa0darkened the day.Read the full story here.259d ago / 11:23 AM UTCCopiedShareThousands still stranded at Burning Man after torrential rain 259d ago / 10:54 AM UTCCopiedShareBurning Man revelers unfazed by deluge and deep mud ReutersThousands of Burning Man attendees partied hard on Sunday despite downpours that turned the Nevada desert where the annual arts and music festival takes place into a sea of sticky mud and led officials to order the multitudes to shelter in place.While hundreds escaped, others got stuck in the thick, gooey mud that coated the normally dusty lake bed where the festival occurs. Those remaining said there was plenty of food and drinks to keep the party going.“When you get pushed to extremes, that’s when the most fun happens,”\\n',\n",
       " 'Source: https://www.cnn.com/2023/09/05/us/burning-man-storms-shelter-exodus-tuesday/index.html\\nTitle: \\nContent: Matt Mills McKnight/Reuters\\n    Why did the rain have such an impact on Burning Man?\\n            After the first rains soaked campsites Friday, event leaders alerted attendees that driving was no longer allowed in the city. They halted entry and exit in the area, urged people to “shelter in place,” and conserve food and water.\\n    \\n            The remote area in northwest Nevada was hit with up to 0.8 inches – about twice the average September rainfall – in just 24 hours between Friday and Saturday morning. And more rain followed Sunday. \\n    \\nAmerican DJ Diplo performs during the 2023 Governors Ball Music Festival at Flushing Meadows Corona Park in New York City, on June 9, 2023.\\nAngela Weiss/AFP/Getty Images\\nDiplo hitchhiked ride out of rain-drenched Burning Man after walking miles \\'through the mud\\' and actually made it to his DC concert\\n\\nSource: https://www.cnn.com/2023/09/05/us/burning-man-storms-shelter-exodus-tuesday/index.html\\nTitle: \\nContent: “As soon as the tents started getting water-logged or unlivable, people in RVs started taking in some of the tenters, so everybody was warm,” Kaz Qamruddin, who attended the event, told CNN’s Brianna Keilar Monday.\\n    \\n            “We are a community that comes together in hard times,” he said, later adding, “It’s all about coming together and working as a team.”\\n    \\n    Diplo, Cindy Crawford and other celebs navigate muddy desert\\n            By the time officials lifted their travel ban, thousands of people had already left, some on foot, while others tested their luck in vehicles. \\n    \\nMany Burning Man attendees prepare rigorously for the week-long celebration, which takes place in a remote part of the Nevada desert.\\nTrevor Hughes/USA Today Network/Reuters\\nFrom wood blocks to \\'poop buckets,\\' how Burning Man organizers told festivalgoers to prepare for heavy rain\\n\\nSource: https://www.pbs.org/newshour/nation/death-at-burning-man-festival-under-investigation-as-flooding-strands-thousands\\nTitle: \\nContent: Associated Press\\n                \\nLeave your feedback\\nShare\\nCopy URL\\nhttps://www.pbs.org/newshour/nation/death-at-burning-man-festival-under-investigation-as-flooding-strands-thousands\\n                  Email\\n                  Facebook\\n                  Twitter\\n                  LinkedIn\\n                  Pinterest\\n                  Tumblr\\nShare on Facebook\\nShare on Twitter\\nDeath at Burning Man festival under investigation as flooding strands thousands\\nNation\\n                                Sep 3, 2023 11:08 AM EDT\\n            \\nRENO, Nev. (AP) — Authorities in Nevada were investigating a death at the site of the Burning Man festival where thousands of attendees remained stranded Saturday night as flooding from storms swept through the Nevada desert.\\n\\nSource: https://www.cnn.com/2023/09/03/us/burning-man-storms-shelter-sunday/index.html\\nTitle: \\nContent: More than 70,000 Burning Man festival attendees remain stuck in Nevada desert after rain\\n    \\n\\t\\t\\tBy Nouran Salahieh and Emma Tucker, CNN\\n\\t\\t\\n                  7 minute read\\n                \\n  Updated\\n        11:45 PM EDT, Sun September 3, 2023\\n    \\n            Link Copied!\\n        \\n \\nVideo Ad Feedback\\n\"A mucky, muddy, environment.\" This is what Burning Man looks like\\n                \\n                                01:08\\n                            \\n - Source:\\n                CNN\\nLatest Videos\\n22 videos\\nVideo Ad Feedback\\n\"A mucky, muddy, environment.\" This is what Burning Man looks like\\n                \\n                                01:08\\n                            \\nNow playing\\n - Source:\\n                CNN\\nVideo Ad Feedback\\nDrone video shows apparent crash site of Iranian president\\'s helicopter\\n                \\n                                01:09\\n                            \\nNow playing\\n - Source:\\n                CNN\\nVideo Ad Feedback\\n\\nSource: https://www.cnn.com/2023/09/05/us/burning-man-storms-shelter-exodus-tuesday/index.html\\nTitle: \\nContent: CNN Newsletters\\n          \\n            Work for CNN\\n          \\n \\nAd Feedback\\n \\n      Burning Man attendees make a mass exodus after a dramatic weekend that left thousands stuck in the Nevada desert\\n    \\n\\t\\t\\tBy Christina Maxouris, CNN\\n\\t\\t\\n                  4 minute read\\n                \\n  Updated\\n        12:22 PM EDT, Tue September 5, 2023\\n    \\n            Link Copied!\\n        \\n \\nVideo Ad Feedback\\nWhy did the rain have such a big impact on Burning Man?\\n                \\n                                02:11\\n                            \\n - Source:\\n                CNN\\nCNN\\n        \\xa0—\\xa0\\n    \\n            Thousands of Burning Man attendees finally made their mass exodus after intense rain over the weekend flooded camp sites and filled them with thick, ankle-deep mud – stranding more than 70,000 free-spirited revelers as they waited for the Nevada desert city to dry out.\\n\\nSource: https://www.cnn.com/2023/09/03/us/burning-man-storms-shelter-sunday/index.html\\nTitle: \\nContent: “If you are in BRC, please shelter in place & stay safe,” organizers said.\\n    \\n            Storms and heavy rains across Nevada flooded other parts of the state and may have led to another death. In Las Vegas, authorities found a person unresponsive and “entangled with debris,” on Saturday morning who is believed to be “a drowning victim,” according to Jace Radke, a spokesperson for the city. An investigation is ongoing, Radke said in a news release.\\n    \\nDawn brought muddy realization to the Burning Man encampment, where the exit gates remain closed indefinitely because driving is virtually impossible.\\nTrevor Hughes/USA Today\\n    Difficult conditions, but some stay positive\\n            Some festivalgoers hiked miles on foot in the thick mud to reach main roads while others stayed at their camps, hoping for conditions to improve.\\n\\nSource: https://www.cnn.com/2023/09/03/us/burning-man-storms-shelter-sunday/index.html\\nTitle: \\nContent: Editor’s Note: Find the latest Burning Man festival coverage here.\\nCNN\\n        \\xa0—\\xa0\\n    \\n            Thousands of people remain trapped at the Burning Man festival in the Nevada desert after heavy rains inundated the area and created thick, ankle-deep mud which sticks to campers’ shoes and vehicle tires.\\n    \\n            Attendees were told to shelter in place in the Black Rock Desert and conserve food, water and fuel after a rainstorm swamped the area, forcing officials to halt any entering or leaving of the festival.\\n    \\n            “A little over 70,000 people,” remained stranded Saturday, Sgt. Nathan Carmichael, with the Pershing County Sheriff’s Office, told CNN Sunday morning. Some people have left the site by walking out but “most of the RVs are stuck in place,” he said.\\n\\nSource: https://www.pbs.org/newshour/nation/death-at-burning-man-festival-under-investigation-as-flooding-strands-thousands\\nTitle: \\nContent: The announcements came just before the culminating moment for the annual event — when a large wooden effigy was to be burned Saturday night.\\nMessages left Saturday afternoon by The Associated Press for both the Bureau of Land Management and the Pershing County Sheriff’s Office, the agencies that closed the entrance, weren’t immediately returned.\\nMany people played beer pong, danced and splashed in standing water, the Gazette Journal said. Mike Jed, a festivalgoer, and fellow campers made a bucket toilet so people didn’t have to trudge as often through the mud to reach the portable toilets.\\n“If it really turns into a disaster, well, no one is going to have sympathy for us,” Jed said. “I mean, it’s Burning Man.”\\nLeft:\\n                A Burning Man participant makes their way through the mud in Black Rock City, in the Nevada desert, after a rainstorm turned the site into mud, Sept. 2, 2023. Photo by Trevor Hughes/USA TODAY NETWORK via REUTERS\\n    \\nRelated\\n',\n",
       " 'Source: https://www.politifact.com/factchecks/2023/sep/06/instagram-posts/there-were-floods-there-was-mud-but-burning-man-sp/\\nTitle: \\nContent: The flooding temporarily stranded thousands of Burning Man attendees, who were told to shelter in place and conserve their supplies.\\xa0\\nWe consulted federal websites and found no evidence the flooding at Burning Man was declared a national emergency. By early afternoon Sept. 4, the road to exit the event had been reopened.\\nSee the sources for this fact-check\\nHeavy rains in Nevada temporarily stranded thousands of people and put a damper on this year’s Burning Man festival, but the situation didn’t trigger a federal emergency response.\\nThe event is a popular counterculture celebration that has attracted thousands of people to Nevada’s Black Rock Desert for more than 30 years.\\n\\nSource: https://www.politifact.com/factchecks/2023/sep/06/instagram-posts/there-were-floods-there-was-mud-but-burning-man-sp/\\nTitle: \\nContent: Newsletters\\nDonate\\nFollow us\\nThe Facts Newsletter\\nSign up\\nEnglish\\nEspañol\\nStand up for the facts!\\nOur only agenda is to publish the truth so you can be an informed participant in democracy.\\nWe need your help.\\nMore Info\\nI would like to contribute\\nOne Time\\nMonthly\\nYearly\\nJoin Now\\nInstagram posts\\nstated on September 3, 2023 in a video shared on Instagram:\\n“Burning Man was a national emergency because it was flooded.”\\nFacebook Fact-checks\\nInstagram posts\\nPeople leave the Burning Man festival in Nevada on Sept. 5, 2023. The traffic jam leaving Burning Man eased up considerably Tuesday as the exodus from the mud-caked Nevada desert entered another day. (AP)\\nBy Madison Czopek\\nSeptember 6, 2023\\nThere were floods, there was mud, but Burning Man sparked no emergency declaration\\nIf Your Time is short\\nHeavy rain began falling Sept. 1 in Nevada’s Black Rock Desert. The rain caused flooding at Burning Man, a counterculture festival that draws thousands of people to a makeshift city.\\n\\nSource: https://www.goodmorningamerica.com/news/story/burning-man-flooding-happened-stranded-festivalgoers-102908331\\nTitle: \\nContent: avoid driving or operating any vehicle on the campgrounds.Attendees look at a double rainbow over flooding on a desert plain at the Burning Man festival in Black Rock City, Nevada, September 1, 2023.Julie Jammot/AFP via Getty ImagesAttendees were advised not to operate any generators or other electrical instruments standing in water.On Sunday, an afternoon drizzle compounded onto already poor conditions at the campgrounds. The main gate road was still impassable on Sunday night, and alternative exit routes have been planned for the expected exodus of attendees from festival grounds on Monday.As some attendees prepare to leave on foot, shuttle buses are running to assist in the exit.Related ArticlesMORE: Idalia causes major flooding in CharlestonUpdates are being housed on the \"2023 Wet Playa Survival Guide\" created by event organizers.\"Burning Man is a community of people who are prepared to support one another,\" the guide read. \"We have come here knowing this is a place where we\\n\\nSource: https://www.goodmorningamerica.com/news/story/burning-man-flooding-happened-stranded-festivalgoers-102908331\\nTitle: \\nContent: Burning Man flooding: What happened to stranded festivalgoers? - Good Morning America\\n\\nSource: https://www.politifact.com/factchecks/2023/sep/06/instagram-posts/there-were-floods-there-was-mud-but-burning-man-sp/\\nTitle: \\nContent: \"So y’all have probably heard that Burning Man was declared a national emergency, but there’s some pretty crazy stuff coming out,\" said a woman in a Sept. 3 Instagram post. \"It was announced earlier that Burning Man was a national emergency because it was flooded, and so they sent in FEMA,\" she said, referring to the Federal Emergency Management Agency. She also said people were temporarily prevented from leaving the festival.\\xa0\\nThis post was flagged as part of Meta’s efforts to combat false news and misinformation on its News Feed. (Read more about our partnership with Meta, which owns Facebook and Instagram.) The video was originally posted on TikTok Sept. 3 and has since received more than 194,000 views.\\xa0\\n(Screenshot from Instagram.)\\nHeavy rainfall that began Sept. 1 flooded roads and created ankle-deep mud that prompted event organizers to stop traffic into or out of Black Rock City, the temporary city constructed for Burning Man.\\n\\nSource: https://www.politifact.com/factchecks/2023/sep/06/instagram-posts/there-were-floods-there-was-mud-but-burning-man-sp/\\nTitle: \\nContent: Our ruling\\nAn Instagram video claimed \"Burning Man was a national emergency because it was flooded.\"\\nHeavy rain caused flooding at Burning Man, triggering road closures and temporarily stranding thousands of attendees. But by early afternoon Sept. 4, people were able to exit the festival site.\\nWe found no evidence the flooding triggered a national emergency declaration. We rate this claim False.\\nRead About Our Process\\nThe Principles of the Truth-O-Meter\\nOur Sources\\nInstagram post, Sept. 3, 2023\\nTikTok post, Sept. 3, 2023\\nCNN, Tens of thousands at Burning Man told to conserve water and food after heavy rains leave attendees stranded in Nevada desert, Sept. 2, 2023\\nThe Reno Gazette Journal, Burning Man 2023: Cell towers coming; no estimate of when vehicles can resume travel, Sept. 3, 2023\\nThe Reno Gazette Journal, Burning Man: Drugs suspected in man\\'s death at Nevada festival, medical examiner says, Sept. 5, 2023\\n\\nSource: https://www.politifact.com/factchecks/2023/sep/06/instagram-posts/there-were-floods-there-was-mud-but-burning-man-sp/\\nTitle: \\nContent: PolitiFact consulted FEMA’s list of declared emergencies, White House announcements and the Centers for Medicare and Medicaid Services’ list of current emergencies, and we found no evidence that the flooding at Burning Man was declared a national emergency or that FEMA responded.\\nFeatured Fact-check\\nViral image\\nstated on April 16, 2024 in a Facebook post\\n“Michelle Obama humiliated after embarrassing photo emerges.”\\nBy Ciara O\\'Rourke • April 17, 2024\\nFestival organizers halted travel into and out of the makeshift city starting Sept. 1 and asked Burning Man attendees to \"conserve food, water, and fuel, and shelter in a warm, safe place,\" in posts on X, formerly Twitter.\\nThe White House said Sept. 3 that President Joe Biden had been briefed on Burning Man and that administration officials were \"monitoring the situation and are in touch with state and local officials,\" CBS News reported. We contacted the White House, but did not receive an update.\\n\\nSource: https://www.goodmorningamerica.com/news/story/burning-man-flooding-happened-stranded-festivalgoers-102908331\\nTitle: \\nContent: Early Memorial Day sales on Apple iPads, LG washing machines and moreOpen menuVideoShopCultureFamilyWellnessFoodLivingStyleTravelNewsBook ClubGMA3: WYNTKNewsletterPrivacy PolicyYour US State Privacy RightsChildren\\'s Online Privacy PolicyInterest-Based AdsTerms of UseDo Not Sell My InfoContact Us© 2024 ABC NewsSearchNewsBurning Man flooding: What happened to stranded festivalgoers?2:49Mass exodus from Burning ManJulie Jammot/AFP via Getty ImagesByKiara AlfonsecaSeptember 05, 2023, 12:49 amTens of thousands of Burning Man attendees are now able to leave the festival after a downpour and massive flooding left them stranded over the weekend.The festival, held in the Black Rock Desert in northwestern Nevada, was attended by more than 70,000 people last year, and just as many were expected this year. Burning Man began on Aug. 28 and was scheduled to run through Sept. 4.One person died at the festival amid the unusual weather conditions, the Pershing County Sheriff\\'s Office confirmed Sunday\\n',\n",
       " 'Source: https://www.today.com/news/what-is-burning-man-flood-death-rcna103231\\nTitle: \\nContent: writing,  \"Right before our camp/friends split up. Half of us stayed and half of us left. Felt so difficult leaving but the good thing was making sure there would be enough food and water for those who stayed. Praying for everyone to stay safe and get out safe.\"@kellygale via InstagramNeal Katyal, former U.S. acting solicitor general under the Obama administration and Supreme Court lawyer, described his Burning Man experience, writing, \"It was an incredibly harrowing 6 mile hike at midnight through heavy and slippery mud, but I got safely out of Burning Man.\"Despite his treacherous escape, Katyal says he\\'s never been before and that the experience was \"fantastic\" with the exception of \"the ending.\" One death reported amid the floodingAccording to a statement released by the Pershing County Sheriff\\'s Office on Sept. 2, officials were investigating \"a death which occurred during this rain event\" and that \"the family has been notified.\"The death isn\\'t the first at Burning Man. In 2017, a\\n\\nSource: https://www.today.com/news/what-is-burning-man-flood-death-rcna103231\\nTitle: \\nContent: further notice,\" and asked attendees to conserve food, water and fuel, along with sheltering in a \"warm, safe space.\" An update on BurningMan.org posted the night of Sept. 3 offered those still on site a \"Wet Playa Survival Guide\" with tips, as well as an update saying that conditions were \"improving\" and that roads in Black Rock City were expected to open on Sept. 4 for \"Exodus.\"\"Thank goodness this community knows how to take care of each other,\" the Instagram page for Burning Man Information Radio wrote on a post predicting more rain.Neal Katyal, Chris Rock and others detail their ‘escape’ from Black Rock CityComedian Chris Rock and Diplo, producer and DJ,\\xa0were among this year\\'s Burning Man attendees. The pair journeyed six miles through the desert on Sept. 2 to escape the difficult conditions and mud, which some likened to quicksand.\"My camp had some celebrities nearby, so we ventured out with Josh Kushner, Karlie Kloss and Cindy Crawford and Chris Rock and some writers, and we\\n\\nSource: https://www.today.com/news/what-is-burning-man-flood-death-rcna103231\\nTitle: \\nContent: said a toxicology report will need to be completed, but there were no obvious signs of trauma. “No indication it’s the weather,” he said. “He had no stab wounds or bullet wounds.”Amid photos of ankle-deep mud, news of a shelter-in-place mandate and the casualty, Marian Goodell, CEO of Burning Man, told NBC News that the situation was under control and that \"there is no cause for panic.\" President Biden was notified of the situation and, according to a spokesperson, administration officials monitored and received updates on the latest details.Why are people stranded at Burning Man?Each year participants in the Burning Man event gather for nine days in an \"annual experiment in temporary community dedicated to Radical Self-expression and Radical Self-reliance,\" according to burningman.org. Held in Nevada since 1991, the festival sees dreamers, artists, tech founders and celebrities — among others — converge to create a temporary community in the desert. This year\\'s Burning Man began on\\n\\nSource: https://www.today.com/news/what-is-burning-man-flood-death-rcna103231\\nTitle: \\nContent: TableHelpNewslettersStart TODAYHalloweenShop TODAY AwardsCiti Concert SeriesListen All DayFollow todayMore BrandsNBC News LogoMSNBC LogoFacebookPinterestEmailSMSPrintWhatsappRedditPocketFlipboardTwitterLinkedinOn The ShowShopWellnessParentsFoodLifeTODAY PlazaNewsBurning Man attendees make mass exodus after being stranded in the mud at festivalA caravan of festivalgoers were backed up as much as eight hours when they were finally allowed to leave after heavy rains made an exit road impassable in Nevada\\'s Black Rock Desert.Sept. 4, 2023, 3:21 PM UTC\\xa0/\\xa0Updated\\xa0Sept. 5, 2023, 4:17 PM UTC / Source: TODAYBy Sarah Lemire and Scott StumpTens of thousands of Burning Man festivalgoers are slowly making their way home from the Nevada desert after muddy conditions from heavy rains made it nearly impossible to leave over the weekend. Following an announcement at 2 p.m. on Sept. 4 that festivalgoers could leave, vehicles took six or more hours to make the trek out of the drying mud in a backup\\n\\nSource: https://www.today.com/news/what-is-burning-man-flood-death-rcna103231\\nTitle: \\nContent: Man due to the hazardous road conditions were facing an alarming new concern: Ebola.However, the CDC didn\\'t post the warning and the claims were false. Though Ebola isn\\'t a concern at Burning Man, festivalgoers\\' health was still at risk. Maya Alexandri, a resident physical and medical volunteer at the festival, told NBC News that the real risk was that those remaining may not have had enough warm clothes and could\\'ve suffered ill effects from the ongoing rain and cold. \"These are very, very extreme and devastating conditions under the best circumstances,\" Alexandri told NBC News. Sarah LemireSarah is a lifestyle and entertainment reporter for TODAY who covers holidays, celebrities and everything in between. Scott StumpScott Stump is a trending reporter and the writer of the daily newsletter This is TODAY (which you should subscribe to here!) that brings the day\\'s news, health tips, parenting stories, recipes and a daily delight right to your inbox. He has been a regular contributor\\n\\nSource: https://www.today.com/news/what-is-burning-man-flood-death-rcna103231\\nTitle: \\nContent: others — converge to create a temporary community in the desert. This year\\'s Burning Man began on Aug. 28 and was slated to run through Sept. 5, with tickets starting at $575 a person.However, shortly after the festival began this year, the area was flooded by torrential rainfall, turning the desert basin — or playa — into a muddy, sodden mess, one cars were unable to cross. The \"playa\" refers to the desert streets surrounding Black Rock City\\'s streets, according to a Burning Man blog.By Sept. 1, organizers tweeted on X that the more than 70,000 attendees of Burning Man should \"help each other stay safe\" and that the gate and airport in and out of the area was closed due to the impossibility for vehicles to \"traverse the playa.\" After another day of significant rainfall, the situation became more dire and another tweet issued on Sept. 2 announced that \"Ingress and egress are halted until further notice,\" and asked attendees to conserve food, water and fuel, along with sheltering in a\\n\\nSource: https://www.today.com/news/what-is-burning-man-flood-death-rcna103231\\nTitle: \\nContent: could leave, vehicles took six or more hours to make the trek out of the drying mud in a backup stretching for miles. The area in Nevada\\'s Black Rock Desert received two months\\' worth of rain in two days starting on Sept. 1, which resulted in over 70,000 festivalgoers stranded and attempting to flee Black Rock City, a temporary community set up for the festival.“Do not move. You’re going to get stuck,” hosts on Burning Man Information Radio, broadcasting from within the event, told festivalgoers early on Sept. 4.According to NBC News, the Pershing County Sheriff\\'s Office in Lovelock, Nevada, confirmed that one person has died. He was identified on Sept. 4 as Leon Reece, 32, who was declared dead at the scene once first responders arrived, the sheriff\\'s office told NBC News. His cause and manner of death have not been determined. Sgt. Nathan Carmichael of the Pershing County Sheriff’s Office said a toxicology report will need to be completed, but there were no obvious signs of trauma.\\n\\nSource: https://www.today.com/news/what-is-burning-man-flood-death-rcna103231\\nTitle: \\nContent: event\" and that \"the family has been notified.\"The death isn\\'t the first at Burning Man. In 2017, a 41-year-old man died after leaping into a 40-foot bonfire known as the \"Man burn\" event, according to NBC News. In 2014, a 29-year-old woman was hit by a bus outside of Black Rock City, and a motorcycle accident claimed the life of a friend of the Burning Man founders back in 1996, according to an article in the Reno Gazette Journal.No, there isn\\'t an outbreak of Ebola at Burning ManThough the death at this year\\'s Burning Man is still being investigated, a social media hoax was blamed for spreading rumors that it\\'s due to a breakout of Ebola. Outside of a rare U.S. outbreak of the disease in 2014, the virus is found primarily in Africa and is often deadly.Posted as a fake CDC warning Sept. 2 on X, the unsubstantiated claim stirred up concern that the thousands who were stranded at Burning Man due to the hazardous road conditions were facing an alarming new concern: Ebola.However, the\\n']"
      ]
     },
     "execution_count": 3,
     "metadata": {},
     "output_type": "execute_result"
    }
   ],
   "source": [
    "from llm_analyst.core.researcher import LLMAnalyst\n",
    "\n",
    "query = \"What happened in the latest burning man floods?\"\n",
    "llm_analyst = LLMAnalyst(query)\n",
    "await llm_analyst.conduct_research()\n",
    "llm_analyst.context"
   ]
  },
  {
   "cell_type": "code",
   "execution_count": 6,
   "metadata": {},
   "outputs": [],
   "source": [
    "from llm_analyst.core.prompts import Prompts\n",
    "from datetime import datetime, timezone\n",
    "prompts = Prompts()\n",
    "\n",
    "prompt = prompts.get_prompt(\"report_prompt\")"
   ]
  },
  {
   "cell_type": "code",
   "execution_count": 7,
   "metadata": {},
   "outputs": [
    {
     "data": {
      "text/plain": [
       "'/Users/dan/Code/LLM/llm_analyst/llm_analyst/resources'"
      ]
     },
     "execution_count": 7,
     "metadata": {},
     "output_type": "execute_result"
    }
   ],
   "source": [
    "import importlib.util\n",
    "import importlib\n",
    "import os\n",
    "\n",
    "package_nm=\"llm_analyst.resources\"\n",
    "module_spec = importlib.util.find_spec(package_nm)\n",
    "package_path = os.path.dirname(module_spec.origin)\n",
    "package_path"
   ]
  },
  {
   "cell_type": "code",
   "execution_count": 8,
   "metadata": {},
   "outputs": [
    {
     "data": {
      "text/plain": [
       "\"Information: '''{context}'''\\n\\nUsing the above information, answer the following query or task: '{question}' in a detailed report -- The report should focus on the answer to the query, should be well structured, informative, in-depth and comprehensive, with facts and numbers if available and a minimum of {total_words} words.\\nYou should strive to write the report as long as you can using all relevant and necessary information provided.\\nYou must write the report with markdown syntax.\\nUse an unbiased and journalistic tone.\\nYou MUST determine your own concrete and valid opinion based on the given information. Do NOT deter to general and meaningless conclusions.\\nYou MUST write all used source urls at the end of the report as references, and make sure not to add duplicated sources, but only one reference for each.\\nEvery url should be hyperlinked: [url website](url)\\nAdditionally, you MUST include hyperlinks to the relevant URLs wherever they are referenced in the report : \\n\\n       e.g.:\\n            # Report Header\\n\\n            This is a sample text. ([url website](url))\\n\\nYou MUST write the report in {report_format} format.\\nCite search results using inline notations.\\nOnly cite the most relevant results that answer the query accurately.\\nPlace these citations at the end of the sentence or paragraph that reference them.\\nPlease do your best, this is very important to my career.\\nAssume that the current date is {datetime_now}\""
      ]
     },
     "execution_count": 8,
     "metadata": {},
     "output_type": "execute_result"
    }
   ],
   "source": [
    "from llm_analyst.core.prompts import Prompts\n",
    "from datetime import datetime, timezone\n",
    "prompts = Prompts()\n",
    "prompt = prompts.get_prompt(\"report_prompt\")\n",
    "prompt\n"
   ]
  },
  {
   "cell_type": "code",
   "execution_count": 10,
   "metadata": {},
   "outputs": [
    {
     "name": "stdout",
     "output_type": "stream",
     "text": [
      "prompts.get_prompt('search_queries_prompt',max_iterations=max_iterations, task=task, datetime_now=datetime_now)\n",
      "prompts.get_prompt('report_prompt',context=context, question=question, total_words=total_words, report_format=report_format, datetime_now=datetime_now)\n",
      "prompts.get_prompt('resource_report_prompt',context=context, question=question, total_words=total_words)\n",
      "prompts.get_prompt('outline_report_prompt',context=context, question=question, total_words=total_words)\n",
      "prompts.get_prompt('auto_agent_instructions',)\n",
      "prompts.get_prompt('summary_prompt',data=data, query=query)\n",
      "prompts.get_prompt('subtopics_prompt',task=task, data=data, subtopics=subtopics, max_subtopics=max_subtopics, format_instructions=format_instructions)\n",
      "prompts.get_prompt('subtopic_report_prompt',context=context, current_subtopic=current_subtopic, main_topic=main_topic, max_subsections=max_subsections, report_format.upper()=report_format.upper(), existing_headers=existing_headers, datetime_now=datetime_now, total_words=total_words)\n",
      "prompts.get_prompt('report_introduction',research_summary=research_summary, question=question, datetime_now=datetime_now)\n"
     ]
    }
   ],
   "source": [
    "import re\n",
    "prompt_keys = prompts._prompts.keys()\n",
    "for prompt_key in prompt_keys:\n",
    "    prompt = prompts.get_prompt(prompt_key)\n",
    "    variables = re.findall(r'\\{(.*?)\\}', prompt)\n",
    "    variables = [f\"{variable}={variable}\" for variable in list(variables)]\n",
    "    params = ', '.join(variables)\n",
    "    fun_call=f\"prompts.get_prompt('{prompt_key}',{params})\"\n",
    "    print(fun_call)\n",
    "\n",
    "    #print(\"=\"*20,prompt_key,\"=\"*20)\n",
    "    #print(f\"{prompt_key}({variables})\")\n",
    "    #print(prompt)\n",
    "    #print(\"=\"*80)"
   ]
  },
  {
   "cell_type": "code",
   "execution_count": null,
   "metadata": {},
   "outputs": [],
   "source": [
    "from llm_analyst.core.prompts import Prompts\n",
    "from datetime import datetime, timezone\n",
    "\n",
    "context = \"This context\"\n",
    "question = \"What is the meaning of life?\"\n",
    "total_words = 2000\n",
    "report_format = \"APA\"\n",
    "datetime_now = datetime.now().strftime('%B %d, %Y')\n",
    "\n",
    "prompts = Prompts()\n",
    "prompt = prompts.get_prompt(\"generate_report_prompt\",\n",
    "                            context=context,\n",
    "                            question=question,\n",
    "                            total_words=total_words,\n",
    "                            report_format=report_format,\n",
    "                            datetime_now=datetime_now)\n",
    "print(prompt)\n"
   ]
  },
  {
   "cell_type": "code",
   "execution_count": null,
   "metadata": {},
   "outputs": [],
   "source": [
    "from llm_analyst.core.prompts import Prompts\n",
    "from datetime import datetime, timezone\n",
    "\n",
    "context = \"This context\"\n",
    "question = \"What is the meaning of life?\"\n",
    "total_words = 2000\n",
    "task = \"What is the meaning of life?\"\n",
    "max_iterations = 5\n",
    "datetime_now = datetime.now().strftime('%B %d, %Y')\n",
    "\n",
    "prompts = Prompts()\n",
    "prompt = prompts.get_prompt(\"generate_resource_report_prompt\",\n",
    "                            context=context,\n",
    "                            question=question,\n",
    "                            total_words=total_words)\n",
    "print(prompt)\n",
    "\n",
    "\n"
   ]
  },
  {
   "cell_type": "code",
   "execution_count": null,
   "metadata": {},
   "outputs": [],
   "source": [
    "\n",
    "from llm_analyst.core.prompts import Prompts\n",
    "from datetime import datetime, timezone\n",
    "\n",
    "prompts = Prompts()\n",
    "prompt = prompts.get_prompt(\"auto_agent_instructions\")\n",
    "print(prompt)\n",
    "\n"
   ]
  },
  {
   "cell_type": "code",
   "execution_count": null,
   "metadata": {},
   "outputs": [],
   "source": [
    "from llm_analyst.core.researcher import LLMAnalyst\n",
    "query = \"What happened in the latest burning man floods?\"\n",
    "llm_analyst = LLMAnalyst(query)\n",
    "agent, agent_prompt = await llm_analyst.choose_agent()\n",
    "print(f\"Agent={agent}\\nAgent Prompt={agent_prompt}\")\n",
    "\n",
    "\n"
   ]
  },
  {
   "cell_type": "code",
   "execution_count": null,
   "metadata": {},
   "outputs": [],
   "source": []
  }
 ],
 "metadata": {
  "kernelspec": {
   "display_name": "gpt-researcher",
   "language": "python",
   "name": "python3"
  },
  "language_info": {
   "codemirror_mode": {
    "name": "ipython",
    "version": 3
   },
   "file_extension": ".py",
   "mimetype": "text/x-python",
   "name": "python",
   "nbconvert_exporter": "python",
   "pygments_lexer": "ipython3",
   "version": "3.11.8"
  }
 },
 "nbformat": 4,
 "nbformat_minor": 2
}
