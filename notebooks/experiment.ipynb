{
 "cells": [
  {
   "cell_type": "code",
   "execution_count": null,
   "metadata": {},
   "outputs": [],
   "source": [
    "import sys\n",
    "sys.path.append('/Users/dan/Code/LLM/llm_analyst')"
   ]
  },
  {
   "cell_type": "code",
   "execution_count": null,
   "metadata": {},
   "outputs": [],
   "source": [
    "from llm_analyst.core.research_state import ResearchState\n",
    "research_state = ResearchState()"
   ]
  },
  {
   "cell_type": "code",
   "execution_count": null,
   "metadata": {},
   "outputs": [],
   "source": [
    "from llm_analyst.core.config import Config\n",
    "try:\n",
    "    config = Config()\n",
    "    print(config)\n",
    "except Exception as e:\n",
    "    print(f\"Error {e}\")"
   ]
  },
  {
   "cell_type": "code",
   "execution_count": null,
   "metadata": {},
   "outputs": [],
   "source": [
    "from llm_analyst.document.document import DocumentLoader\n",
    "\n",
    "local_doc_dir=\"/Users/dan/Downloads/amy_papers\"\n",
    "document_loader = DocumentLoader(local_doc_dir)\n",
    "docs = await document_loader.load()\n",
    "docs"
   ]
  },
  {
   "cell_type": "code",
   "execution_count": null,
   "metadata": {},
   "outputs": [],
   "source": [
    "from llm_analyst.core.config import Config\n",
    "from llm_analyst.core.research_editor import LLMEditor\n",
    "from llm_analyst.core.research_analyst import LLMAnalyst\n",
    "from llm_analyst.core.research_writer import LLMWriter\n",
    "from llm_analyst.core.research_publisher import LLMPublisher\n",
    "from llm_analyst.core.prompts import Prompts\n",
    "from datetime import datetime, timezone\n",
    "query = \"What happened in the latest burning man floods?\"\n",
    "config_params = {}\n",
    "config_params = {\n",
    "    \"internet_search\" :{\"default_val\":\"ddg_search\"},\n",
    "    \"llm_provider\"    :{\"default_val\":\"openai\"},\n",
    "    \"llm_model\"       :{\"default_val\":\"gpt-4o-2024-05-13\"},\n",
    "}\n",
    "\n",
    "#    \"llm_model\"       :{\"default_val\":\"mixtral-8x7b-32768\"},\n",
    "#    \"llm_model\"       :{\"default_val\":\"gemma-7b-it\"},\n",
    "#    \"llm_model\"       :{\"default_val\":\"llama3-8b-8192\"},\n",
    "#    \"llm_model\"       :{\"default_val\":\"llama3-70b-8192\"},\n",
    "#    \"llm_model\"       :{\"default_val\":\"gpt-4o-2024-05-13\"},\n",
    "\n",
    "\n",
    "config = Config()\n",
    "config._set_values_for_config(config_params)\n"
   ]
  },
  {
   "cell_type": "code",
   "execution_count": null,
   "metadata": {},
   "outputs": [],
   "source": [
    "llm_editor = LLMEditor(query, config = config)\n",
    "detailed_report_state = await llm_editor.create_detailed_report()\n",
    "print(detailed_report_state.final_report_md)"
   ]
  },
  {
   "cell_type": "code",
   "execution_count": null,
   "metadata": {},
   "outputs": [],
   "source": [
    "await LLMPublisher.init(detailed_report_state).publish_to_pdf_file()"
   ]
  },
  {
   "cell_type": "code",
   "execution_count": null,
   "metadata": {},
   "outputs": [],
   "source": [
    "\n",
    "llm_analyst = LLMAnalyst(query,config = config)\n",
    "primary_research = choose_agent_dict = await llm_analyst.conduct_research()\n",
    "print(\"=\"*40)\n",
    "print(primary_research)\n",
    "subtopics = await llm_analyst.select_subtopics()\n",
    "print(\"=\"*40)\n",
    "print(subtopics)\n",
    "report_state = await llm_analyst.write_report()\n",
    "print(\"=\"*40)\n",
    "print(report_state.report_md)\n"
   ]
  },
  {
   "cell_type": "code",
   "execution_count": null,
   "metadata": {},
   "outputs": [],
   "source": [
    "from llm_analyst.core.research_writer import LLMWriter\n",
    "\n",
    "subtopic_reports = []\n",
    "subtopics_report_body = \"\"\n",
    "\n",
    "for subtopic in subtopics:\n",
    "    print(f\"Researching {subtopic}\")\n",
    "    subtopic_assistant = LLMAnalyst(\n",
    "        active_research_topic = subtopic,\n",
    "        report_type = \"subtopic_report\",\n",
    "        main_research_topic = primary_research.active_research_topic,\n",
    "        visited_urls = primary_research.visited_urls,\n",
    "        agents_role_prompt =  primary_research.agents_role_prompt,\n",
    "        agent_type = primary_research.agent_type\n",
    "    )\n",
    "    subtopic_assistant.research_findings = primary_research.research_findings\n",
    "    subtopic_assistant.report_headings = primary_research.report_headings\n",
    "     \n",
    "    subtopic_research = await subtopic_assistant.conduct_research()\n",
    "    print(f\"Writing {subtopic}\")\n",
    "    subtopic_report = await subtopic_assistant.write_report()\n",
    "\n",
    "    primary_research.research_findings = subtopic_assistant.research_findings\n",
    "    primary_research.visited_urls.update(subtopic_assistant.visited_urls)\n",
    "    primary_research.report_headings.append(\n",
    "        {\n",
    "            \"subtopic task\": subtopic_assistant.active_research_topic,\n",
    "            \"headers\": LLMWriter.init(subtopic_report).extract_headers()\n",
    "        }\n",
    "    )\n",
    "    subtopic_reports.append({ \"topic\": subtopic_assistant.active_research_topic, \"report\": subtopic_report.report_md })\n",
    "    primary_research.report_md += \"\\n\\n\\n\" + subtopic_report.report_md\n",
    "\n",
    "#llm_writer = LLMWriter.init(primary_research)\n",
    "#introduction = await llm_writer.write_introduction()\n",
    "    "
   ]
  },
  {
   "cell_type": "code",
   "execution_count": null,
   "metadata": {},
   "outputs": [],
   "source": [
    "introduction = await LLMWriter.init(primary_research).write_introduction()\n",
    "print(introduction)"
   ]
  },
  {
   "cell_type": "code",
   "execution_count": null,
   "metadata": {},
   "outputs": [],
   "source": [
    "toc = await LLMWriter.init(primary_research).write_table_of_contents()\n",
    "print(toc)"
   ]
  },
  {
   "cell_type": "code",
   "execution_count": null,
   "metadata": {},
   "outputs": [],
   "source": [
    "references = LLMWriter.init(primary_research).write_references()\n",
    "print(references)"
   ]
  },
  {
   "cell_type": "code",
   "execution_count": null,
   "metadata": {},
   "outputs": [],
   "source": []
  },
  {
   "cell_type": "code",
   "execution_count": null,
   "metadata": {},
   "outputs": [],
   "source": [
    "from llm_analyst.core.prompts import Prompts\n",
    "from datetime import datetime, timezone\n",
    "\n",
    "context = \"This context\"\n",
    "question = \"What is the meaning of life?\"\n",
    "total_words = 2000\n",
    "report_format = \"APA\"\n",
    "datetime_now = datetime.now().strftime('%B %d, %Y')\n",
    "\n",
    "prompts = Prompts()\n",
    "prompt = prompts.get_prompt(\"generate_report_prompt\",\n",
    "                            context=context,\n",
    "                            question=question,\n",
    "                            total_words=total_words,\n",
    "                            report_format=report_format,\n",
    "                            datetime_now=datetime_now)\n",
    "print(prompt)\n"
   ]
  },
  {
   "cell_type": "code",
   "execution_count": null,
   "metadata": {},
   "outputs": [],
   "source": [
    "from llm_analyst.core.prompts import Prompts\n",
    "from datetime import datetime, timezone\n",
    "\n",
    "context = \"This context\"\n",
    "question = \"What is the meaning of life?\"\n",
    "total_words = 2000\n",
    "task = \"What is the meaning of life?\"\n",
    "max_iterations = 5\n",
    "datetime_now = datetime.now().strftime('%B %d, %Y')\n",
    "\n",
    "prompts = Prompts()\n",
    "prompt = prompts.get_prompt(\"generate_resource_report_prompt\",\n",
    "                            context=context,\n",
    "                            question=question,\n",
    "                            total_words=total_words)\n",
    "print(prompt)\n",
    "\n",
    "\n"
   ]
  },
  {
   "cell_type": "code",
   "execution_count": null,
   "metadata": {},
   "outputs": [],
   "source": [
    "\n",
    "from llm_analyst.core.prompts import Prompts\n",
    "from datetime import datetime, timezone\n",
    "\n",
    "prompts = Prompts()\n",
    "prompt = prompts.get_prompt(\"auto_agent_instructions\")\n",
    "print(prompt)\n",
    "\n"
   ]
  },
  {
   "cell_type": "code",
   "execution_count": null,
   "metadata": {},
   "outputs": [],
   "source": [
    "import inspect\n",
    "\n",
    "def my_trace_log(func):\n",
    "    def wrapper(*args, **kwargs):\n",
    "        function_name = inspect.currentframe().f_code.co_name\n",
    "        print(f\"TRACE: Entering {func.__name__}\")\n",
    "        result = func(*args, **kwargs)\n",
    "        print(f\"TRACE: Exiting {func.__name__}\")\n",
    "        return result\n",
    "    return wrapper\n",
    "\n",
    "@my_trace_log\n",
    "def hello_world():\n",
    "    print(\"Hello World\")\n",
    "\n",
    "# Example usage\n",
    "hello_world()\n"
   ]
  },
  {
   "cell_type": "code",
   "execution_count": null,
   "metadata": {},
   "outputs": [],
   "source": [
    "import os\n",
    "from langchain_openai import ChatOpenAI\n",
    "from langchain_groq import ChatGroq\n",
    "from llm_analyst.core.exceptions import LLMAnalystsException\n",
    "deterministic_temp=0\n",
    "role = \"You are a well-informed AI news analyst assistant. Your primary goal is to provide comprehensive, accurate, unbiased, and well-structured news reports based on the latest events and developments.\"\n",
    "report_prompt = \"Information: context data....\\n\\nUsing the above information, answer the following query or task: 'What happened in the latest burning man floods?' in a detailed report -- The report should focus on the answer to the query, should be well structured, informative, in-depth and comprehensive, with facts and numbers if available and a minimum of 1000 words.\\nYou should strive to write the report as long as you can using all relevant and necessary information provided.\\nYou must write the report with markdown syntax.\\nUse an unbiased and journalistic tone.\\nYou MUST determine your own concrete and valid opinion based on the given information. Do NOT deter to general and meaningless conclusions.\\nYou MUST write all used source urls at the end of the report as references, and make sure not to add duplicated sources, but only one reference for each.\\nEvery url should be hyperlinked: [url website](url)\\nAdditionally, you MUST include hyperlinks to the relevant URLs wherever they are referenced in the report : \\n\\n       e.g.:\\n            # Report Header\\n\\n            This is a sample text. ([url website](url))\\n\\nYou MUST write the report in APA format.\\nCite search results using inline notations.\\nOnly cite the most relevant results that answer the query accurately.\\nPlace these citations at the end of the sentence or paragraph that reference them.\\nPlease do your best, this is very important to my career.\\nAssume that the current date is May 21, 2024\"\n",
    "messages=[\n",
    "        {\"role\": \"system\", \"content\": \"role\"},\n",
    "        {\"role\": \"user\",   \"content\": \"report_prompt\"}]\n",
    "            \n",
    "#api_key = os.environ[\"OPENAI_API_KEY\"]\n",
    "api_key = os.environ[\"GROQ_API_KEY\"]\n",
    "temperature = 0\n",
    "#model = \"gpt-4o-2024-05-13\"\n",
    "model = \"llama3-70b-8192\"\n",
    "max_tokens=4000\n",
    "llm = ChatGroq(\n",
    "            model = model,\n",
    "            temperature = temperature,\n",
    "            max_tokens = max_tokens,\n",
    "            api_key = api_key\n",
    "        )\n"
   ]
  },
  {
   "cell_type": "code",
   "execution_count": null,
   "metadata": {},
   "outputs": [],
   "source": [
    "config_params = {}\n",
    "config_params = {\n",
    "    \"internet_search\" :{\"default_val\":\"ddg_search\"},\n",
    "    \"llm_provider\"    :{\"default_val\":\"groq\"},\n",
    "    \"llm_model\"       :{\"default_val\":\"llama3-8b-8192\"},\n",
    "}\n",
    "\n",
    "config = Config()\n",
    "config._set_values_for_config(config_params)\n",
    "llm_analyst = LLMAnalyst(query,config = config)"
   ]
  },
  {
   "cell_type": "code",
   "execution_count": null,
   "metadata": {},
   "outputs": [],
   "source": [
    "research_state = llm_analyst.get_research_state()\n",
    "research_state.report_md=\"Test\"\n",
    "print(research_state)\n",
    "print(llm_analyst.cfg)"
   ]
  },
  {
   "cell_type": "code",
   "execution_count": null,
   "metadata": {},
   "outputs": [],
   "source": [
    "llm_writer = LLMWriter.init(research_state)\n",
    "print(llm_writer)"
   ]
  },
  {
   "cell_type": "code",
   "execution_count": null,
   "metadata": {},
   "outputs": [],
   "source": [
    "empty_str = \"\"\n",
    "\n",
    "if not empty_str:\n",
    "    print(\"The string is empty.\")\n",
    "else:\n",
    "    print(\"The string is not empty.\")\n"
   ]
  },
  {
   "cell_type": "code",
   "execution_count": null,
   "metadata": {},
   "outputs": [],
   "source": [
    "from llm_analyst.core.research_state import ResearchState\n",
    "research_state = ResearchState(active_research_topic = \"Test topic\",\n",
    "                                report_type = \"detailed\",\n",
    "                                agent_type = \"news agent\",\n",
    "                                agents_role_prompt=\"agent role\")\n",
    "\n",
    "\n",
    "research_state.dump(\"reseach_state.json\")"
   ]
  },
  {
   "cell_type": "code",
   "execution_count": null,
   "metadata": {},
   "outputs": [],
   "source": [
    "import sys\n",
    "import os\n",
    "\n",
    "sys.path.append('/Users/dan/Code/LLM/llm_analyst')\n",
    "from llm_analyst.core.research_state import ResearchState\n",
    "loaded = ResearchState.load(\"reseach_state.json\")\n",
    "print(loaded)"
   ]
  },
  {
   "cell_type": "code",
   "execution_count": null,
   "metadata": {},
   "outputs": [],
   "source": [
    "import requests\n",
    "import os\n",
    "# Replace 'your_api_key_here' with your actual OpenAI API key\n",
    "api_key = os.getenv(\"OPENAI_API_KEY\")\n",
    "headers = {\n",
    "    'Authorization': f'Bearer {api_key}'\n",
    "}\n",
    "\n",
    "# API endpoint to get usage details\n",
    "url = 'https://api.openai.com/v1/dashboard/billing/usage'\n",
    "\n",
    "# Optional: Specify the date range for the usage data\n",
    "params = {\n",
    "    'start_date': '2024-05-01',\n",
    "    'end_date': '2024-05-31'\n",
    "}\n",
    "\n",
    "response = requests.get(url, headers=headers, params=params)\n",
    "\n",
    "if response.status_code == 200:\n",
    "    usage_data = response.json()\n",
    "    print(\"Usage data:\", usage_data)\n",
    "else:\n",
    "    print(f\"Failed to retrieve usage data. Status code: {response.status_code}\")\n",
    "    print(\"Response:\", response.text)\n"
   ]
  },
  {
   "cell_type": "code",
   "execution_count": null,
   "metadata": {},
   "outputs": [],
   "source": [
    "import hashlib\n",
    "import os\n",
    "import json\n",
    "\n",
    "def compute_hash(directory_path):\n",
    "    \"\"\"Compute a single SHA-256 hash for the entire directory.\"\"\"\n",
    "    hasher = hashlib.sha256()\n",
    "    \n",
    "    for root, dirs, files in os.walk(directory_path):\n",
    "        for file_name in sorted(files):  # Sort files to ensure consistent order\n",
    "            file_path = os.path.join(root, file_name)\n",
    "            with open(file_path, 'rb') as file:\n",
    "                buffer = file.read()\n",
    "                hasher.update(buffer)\n",
    "                hasher.update(file_path.encode())  # Include file path in hash\n",
    "    \n",
    "    return hasher.hexdigest()\n",
    "\n",
    "def has_changed(stored_hash, directory_path):\n",
    "    \"\"\"Check if the directory has changed by comparing hashes.\"\"\"\n",
    "    current_hash = compute_hash(directory_path)\n",
    "    return current_hash != stored_hash\n"
   ]
  },
  {
   "cell_type": "code",
   "execution_count": null,
   "metadata": {},
   "outputs": [],
   "source": [
    "directory_path = \"/Users/dan/delme/articles\"\n",
    "dir_hash = compute_hash(directory_path)\n"
   ]
  },
  {
   "cell_type": "code",
   "execution_count": null,
   "metadata": {},
   "outputs": [],
   "source": [
    "if has_changed(dir_hash, directory_path):\n",
    "    print(\"has changed\")\n",
    "else:\n",
    "    print(\"has not changed\")"
   ]
  },
  {
   "cell_type": "markdown",
   "metadata": {},
   "source": [
    "## Workon on Vector Store"
   ]
  },
  {
   "cell_type": "code",
   "execution_count": 1,
   "metadata": {},
   "outputs": [],
   "source": [
    "import sys\n",
    "import os\n",
    "sys.path.append('/Users/dan/Code/LLM/llm_analyst')\n",
    "from llm_analyst.core.config import Config\n",
    "\n",
    "user_agent = (\"Mozilla/5.0 (Windows NT 10.0; Win64; x64) AppleWebKit/537.36 \"\n",
    "              \"(KHTML, like Gecko) Chrome/119.0.0.0 Safari/537.36 Edg/119.0.0.0\")\n",
    "\n",
    "\n",
    "os.environ['USER_AGENT'] = user_agent"
   ]
  },
  {
   "cell_type": "code",
   "execution_count": 2,
   "metadata": {},
   "outputs": [
    {
     "name": "stdout",
     "output_type": "stream",
     "text": [
      "Chunk 1: ['https://academic.oup.com/endo/article/151/9/4146/2456838', 'https://academic.oup.com/genetics/advance-article/doi/10.1093/genetics/iyab093/6298595', 'https://academic.oup.com/genetics/article/219/1/iyab093/6298595', 'https://academic.oup.com/genetics/article/219/1/iyab093/6298595', 'https://advances.sciencemag.org/content/6/26/eaaz9805', 'https://citeseerx.ist.psu.edu/document?repid=rep1&amp;type=pdf&amp;doi=77de5621618515ecc0ad8e9e5668e6f5477ce1bf', 'https://jcs.biologists.org/content/131/22/jcs217992', 'https://jcs.biologists.org/content/joces/130/24/4155.full.pdf', 'https://journals.biologists.com/jcs/article/114/24/4543/35724/Regulation-of-Golgi-structure-and-function-by-ARF', 'https://journals.biologists.com/jcs/article/123/8/1262/31619/Phosphatidylinositol-and-phosphatidylcholine']\n",
      "Chunk 2: ['https://journals.sagepub.com/doi/10.1177/25152564211034424', 'https://link.springer.com/article/10.1007/s00125-021-05552-x', 'https://mcdb.yale.edu/people/shirin-bahmanyar', 'https://micropublication.org/journals/biology/micropub-biology-001021', 'https://onlinelibrary.wiley.com/doi/10.1111/acel.13558', 'https://onlinelibrary.wiley.com/doi/full/10.1002/bit.26394', 'https://onlinelibrary.wiley.com/doi/full/10.1111/j.1600-0854.2005.00365.x', 'https://onlinelibrary.wiley.com/doi/full/10.1111/j.1600-0854.2008.00868.x', 'https://pubs.acs.org/doi/10.1021/acs.chemrev.3c00608', 'https://pubs.acs.org/doi/10.1021/bi702468g']\n",
      "Chunk 3: ['https://pubs.acs.org/doi/epdf/10.1021/acscentsci.3c01105', 'https://pubs.rsc.org/en/content/articlelanding/2024/sm/d4sm00088a', 'https://rupress.org/jcb/article/219/9/e202004191/151880/', 'https://rupress.org/jcb/article/220/11/e202102122/212690/mmBCFA-C17iso-ensures-endoplasmic-reticulum', 'https://rupress.org/jcb/article/221/1/e202106100/212750/Shared-and-specific-functions-of-Arfs-1-5-at-the', 'https://rupress.org/jcb/article/221/6/e202109114/213180/Visualizing-intra-Golgi-localization-and-transport#.YmbReH1V72c.twitter', 'https://science.sciencemag.org/content/early/2021/06/22/science.abi4708.full', 'https://www.cell.com/biophysj/fulltext/S0006-3495(21)00991-7', 'https://www.cell.com/biophysj/fulltext/S0006-3495(21)00991-7', 'https://www.cell.com/cell-metabolism/fulltext/S1550-4131(21)00223-0?rss=yes&amp;utm_source=dlvr.it&amp;utm_medium=twitter']\n",
      "Chunk 4: ['https://www.cell.com/cell-metabolism/fulltext/S1550-4131(23)00130-4', 'https://www.cell.com/cell-metabolism/fulltext/S1550-4131(23)00261-9#secsectitle0315', 'https://www.cell.com/cell-reports/fulltext/S2211-1247(20)30821-4#.XvtjyPbShnI.twitter', 'https://www.cell.com/cell-reports/fulltext/S2211-1247(20)31478-9', 'https://www.cell.com/cell-reports/fulltext/S2211-1247(21)01770-8#.Yebhhfd3iDE.twitter', 'https://www.cell.com/cell-reports/fulltext/S2211-1247(24)00686-7?rss=yes&amp;utm_source=dlvr.it&amp;utm_medium=twitter', 'https://www.cell.com/developmental-cell/fulltext/S1534-5807%2824%2900180-1', 'https://www.cell.com/developmental-cell/fulltext/S1534-5807(21)00601-8?rss=yes', 'https://www.cell.com/developmental-cell/fulltext/S1534-5807(24)00180-1?rss=yes&amp;utm_source=dlvr.it&amp;utm_medium=twitter', 'https://www.cell.com/neuron/fulltext/S0896-6273(22)00365-8#secsectitle0150']\n",
      "Chunk 5: ['https://www.cell.com/trends/biochemical-sciences/fulltext/S0968-0004(20)30067-0', 'https://www.cell.com/trends/biochemical-sciences/fulltext/S0968-0004(20)30085-2', 'https://www.cell.com/trends/cell-biology/fulltext/S0962-8924(20)30074-X', 'https://www.cell.com/trends/cell-biology/fulltext/S0962-8924(20)30101-X', 'https://www.jbc.org/article/S0021-9258(23)00220-X/fulltext', 'https://www.jbc.org/article/S0021-9258(23)00220-X/pdf', 'https://www.jbc.org/content/279/45/47242.full.pdf?with-ds=yes', 'https://www.jlr.org/article/S0022-2275(20)38706-X/fulltext', 'https://www.jlr.org/article/S0022-2275(23)00014-7/fulltext', 'https://www.jlr.org/content/42/12/1947.full.pdf']\n",
      "Chunk 6: ['https://www.mdpi.com/1422-0067/23/3/1073/htm#related', 'https://www.molbiolcell.org/doi/10.1091/mbc.12.3.511', 'https://www.molbiolcell.org/doi/10.1091/mbc.E23-07-0283', 'https://www.molbiolcell.org/doi/10.1091/mbc.e08-04-0373', 'https://www.molbiolcell.org/doi/pdf/10.1091/mbc.E21-02-0069', 'https://www.pnas.org/content/pnas/117/11/5987.full.pdf', 'https://www.pnas.org/doi/10.1073/pnas.2307515121', 'https://www.pnas.org/doi/10.1073/pnas.95.23.13676?doi=10.1073/pnas.95.23.13676', 'https://www.pnas.org/doi/full/10.1073/pnas.051631998', 'https://www.pnas.org/doi/full/10.1073/pnas.1101379108']\n",
      "Chunk 7: ['https://www.pnas.org/doi/full/10.1073/pnas.1323895111', 'https://www.science.org/doi/10.1126/sciadv.abj8156', 'https://www.science.org/doi/10.1126/sciadv.adc8917', 'https://www.science.org/doi/10.1126/sciadv.adf8966#.ZEBCZs4MIKQ.twitter', 'https://www.science.org/doi/10.1126/sciadv.adj4605', 'https://www.science.org/doi/10.1126/science.1232578', 'https://www.science.org/doi/10.1126/scisignal.abm7524?utm_campaign=SciMag&amp;utm_source=Social&amp;utm_medium=Twitter', 'https://www.science.org/doi/full/10.1126/science.1209038', 'https://www.sciencedirect.com/science/article/abs/pii/S0968000499013651', 'https://www.sciencedirect.com/science/article/pii/S0021925820770584#bib16']\n",
      "Chunk 8: ['https://www.sciencedirect.com/science/article/pii/S0024320512006595?via%3Dihub', 'https://www.sciencedirect.com/science/article/pii/S0024320512006595?via%3Dihub', 'https://www.sciencedirect.com/science/article/pii/S0167488905000601', 'https://www.sciencedirect.com/science/article/pii/S0962892424000230', 'https://www.sciencedirect.com/science/article/pii/S0968000424001312?dgcid=author', 'https://www.sciencedirect.com/science/article/pii/S1097276521004500?dgcid=coauthor', 'https://www.sciencedirect.com/science/article/pii/S153458071930276X?via%3Dihub', 'https://www.sciencedirect.com/science/article/pii/S1534580721008947?via%3Dihub', 'https://www.sciencedirect.com/science/article/pii/S1534580724000728?dgcid=author', 'https://www.sciencedirect.com/science/article/pii/S2665927121000745']\n",
      "Chunk 9: ['https://www.tandfonline.com/doi/abs/10.1080/15548627.2022.2039523?journalCode=kaup20']\n"
     ]
    }
   ],
   "source": [
    "# Read the URL CSV file and parse into cuncks\n",
    "import json\n",
    "\n",
    "def chunk_urls(url_file_nm):\n",
    "    # Read the JSON file\n",
    "    with open(url_file_nm, 'r') as file:\n",
    "        urls = json.load(file)\n",
    "    \n",
    "    # Check if the data is a list\n",
    "    if not isinstance(urls, list):\n",
    "        raise ValueError(\"The JSON file does not contain a list of URLs.\")\n",
    "    \n",
    "    # Chunk the list into sublists of 10 URLs each\n",
    "    chunked_urls = [urls[i:i + 10] for i in range(0, len(urls), 10)]\n",
    "    \n",
    "    return chunked_urls\n",
    "\n",
    "# Example usage\n",
    "url_file_nm = 'data/urls.json'\n",
    "chunked_urls = chunk_urls(url_file_nm)\n",
    "\n",
    "# Print the chunked URLs\n",
    "for idx, chunk in enumerate(chunked_urls):\n",
    "    print(f\"Chunk {idx + 1}: {chunk}\")"
   ]
  },
  {
   "cell_type": "code",
   "execution_count": 3,
   "metadata": {},
   "outputs": [],
   "source": [
    "# # Process 1 URL and add to Vector Store\n",
    "\n",
    "# from llm_analyst.documents.vector_store import VectorStore\n",
    "# from llm_analyst.core.config import Config\n",
    "# from llm_analyst.scrapers.scraper_methods import scrape_urls\n",
    "\n",
    "# import requests\n",
    "# from requests.packages.urllib3.exceptions import InsecureRequestWarning\n",
    "\n",
    "# # Suppress only the specific warning\n",
    "# requests.packages.urllib3.disable_warnings(InsecureRequestWarning)\n",
    "\n",
    "\n",
    "# config = Config()\n",
    "# vector_store = VectorStore(config.cache_dir)\n",
    "# try:\n",
    "#     print(len(vector_store.vector_db))\n",
    "# except:\n",
    "#     print(0)\n",
    "    \n",
    "# vector_store.reset_vector_store_db()\n",
    "\n",
    "    \n",
    "# for urls in chunked_urls[0:1]:\n",
    "#     print(f\"Processing: {urls}\")\n",
    "#     documents = scrape_urls(urls)\n",
    "#     await vector_store.add_documents(documents)\n",
    "\n",
    "# try:\n",
    "#     print(len(vector_store.vector_db))\n",
    "# except:\n",
    "#     print(0)\n",
    "        \n",
    "    \n"
   ]
  },
  {
   "cell_type": "code",
   "execution_count": 4,
   "metadata": {},
   "outputs": [],
   "source": [
    "# docs = await vector_store.retrieve_docs_for_query(\"Extracellular Matrix Production\")\n",
    "# print(docs)"
   ]
  },
  {
   "cell_type": "code",
   "execution_count": 5,
   "metadata": {},
   "outputs": [
    {
     "data": {
      "text/plain": [
       "'/Users/dan/.cache/llm_analyst'"
      ]
     },
     "execution_count": 5,
     "metadata": {},
     "output_type": "execute_result"
    }
   ],
   "source": [
    "config = Config()\n",
    "config.cache_dir"
   ]
  },
  {
   "cell_type": "code",
   "execution_count": 6,
   "metadata": {},
   "outputs": [],
   "source": [
    "# # Load a vector_db locally in this notbeook \n",
    "# # Not using any framework code\n",
    "\n",
    "# from langchain_huggingface import HuggingFaceEmbeddings\n",
    "# from langchain_community.vectorstores import Chroma\n",
    "# import os\n",
    "\n",
    "# persist_directory = \"/Users/dan/.cache/llm_analyst/chroma_db\"\n",
    "# model_name = \"sentence-transformers/all-MiniLM-l6-v2\"\n",
    "# model_kwargs = {\"device\": \"cpu\"}\n",
    "# encode_kwargs = {\"normalize_embeddings\": False}\n",
    "# embedding_model = HuggingFaceEmbeddings(\n",
    "#     model_name=model_name,\n",
    "#     model_kwargs=model_kwargs,\n",
    "#     encode_kwargs=encode_kwargs,\n",
    "# )\n",
    "\n",
    "# if not os.path.exists(persist_directory):\n",
    "#     os.makedirs(persist_directory)\n",
    "# vector_db = Chroma(\n",
    "#         persist_directory=persist_directory,\n",
    "#         embedding_function=embedding_model,\n",
    "#     )\n"
   ]
  },
  {
   "cell_type": "code",
   "execution_count": 7,
   "metadata": {},
   "outputs": [],
   "source": [
    "biorxiv=[\"https://www.biorxiv.org/content/10.1101/2021.08.20.457118v1.full.pdf\",\n",
    "    \"https://www.biorxiv.org/content/10.1101/2021.08.27.457935v1.full.pdf\",\n",
    "    \"https://www.biorxiv.org/content/10.1101/2021.11.16.468906v1.full.pdf\",\n",
    "    \"https://www.biorxiv.org/content/10.1101/2022.01.26.477847v1.full.pdf\",\n",
    "    \"https://www.biorxiv.org/content/10.1101/2022.02.04.479101v2.full.pdf\",\n",
    "    \"https://www.biorxiv.org/content/10.1101/2022.02.14.480333v1.full.pdf\",\n",
    "    \"https://www.biorxiv.org/content/10.1101/2022.06.27.497668v1.full.pdf\",\n",
    "    \"https://www.biorxiv.org/content/10.1101/2022.09.15.508072v2.full.pdf\",\n",
    "    \"https://www.biorxiv.org/content/10.1101/2023.02.01.526230v1.full.pdf\",\n",
    "    \"https://www.biorxiv.org/content/10.1101/2023.02.13.528342v1.full.pdf\",\n",
    "    \"https://www.biorxiv.org/content/10.1101/2023.03.01.530598v1.full.pdf\",\n",
    "    \"https://www.biorxiv.org/content/10.1101/2023.03.01.530598v1.full.pdf\",\n",
    "    \"https://www.biorxiv.org/content/10.1101/2023.05.17.541061v1.full.pdf\",\n",
    "    \"https://www.biorxiv.org/content/10.1101/2023.08.31.555797v1.full.pdf\",\n",
    "    \"https://www.biorxiv.org/content/10.1101/2023.12.20.572417v1.full.pdf\",\n",
    "    \"https://www.biorxiv.org/content/10.1101/2024.03.07.583776v2.full.pdf\",\n",
    "    \"https://www.biorxiv.org/content/10.1101/2024.03.20.586037v1.full.pdf\",\n",
    "    \"https://www.biorxiv.org/content/10.1101/2024.05.01.592120v1.full.pdf\",\n",
    "    \"https://www.biorxiv.org/content/10.1101/2024.05.09.593427v1.full.pdf\",\n",
    "    \"https://www.biorxiv.org/content/10.1101/2024.05.20.594820v1.full.pdf\",\n",
    "    \"https://www.biorxiv.org/content/10.1101/2024.05.27.596058v1.full.pdf\",\n",
    "    \"https://www.biorxiv.org/content/10.1101/2024.05.31.596797v1.full.pdf\"]\n",
    " "
   ]
  },
  {
   "cell_type": "code",
   "execution_count": 8,
   "metadata": {},
   "outputs": [],
   "source": [
    "pubmed_central=[\"https://www.ncbi.nlm.nih.gov/pmc/articles/PMC10309186/\",\n",
    "    \"https://www.ncbi.nlm.nih.gov/pmc/articles/PMC10525039/\",\n",
    "    \"https://www.ncbi.nlm.nih.gov/pmc/articles/PMC10637267/\",\n",
    "    \"https://www.ncbi.nlm.nih.gov/pmc/articles/PMC10769218/\",\n",
    "    \"https://www.ncbi.nlm.nih.gov/pmc/articles/PMC1237059/\",\n",
    "    \"https://www.ncbi.nlm.nih.gov/pmc/articles/PMC2426940/\",\n",
    "    \"https://www.ncbi.nlm.nih.gov/pmc/articles/PMC2488303/\",\n",
    "    \"https://www.ncbi.nlm.nih.gov/pmc/articles/PMC3195608/\",\n",
    "    \"https://www.ncbi.nlm.nih.gov/pmc/articles/PMC3836174/\",\n",
    "    \"https://www.ncbi.nlm.nih.gov/pmc/articles/PMC4221251/\",\n",
    "    \"https://www.ncbi.nlm.nih.gov/pmc/articles/PMC4635215/\",\n",
    "    \"https://www.ncbi.nlm.nih.gov/pmc/articles/PMC5629314/\",\n",
    "    \"https://www.ncbi.nlm.nih.gov/pmc/articles/PMC5746065/\",\n",
    "    \"https://www.ncbi.nlm.nih.gov/pmc/articles/PMC5746065/\",\n",
    "    \"https://www.ncbi.nlm.nih.gov/pmc/articles/PMC5789946/\",\n",
    "    \"https://www.ncbi.nlm.nih.gov/pmc/articles/PMC5844805/\",\n",
    "    \"https://www.ncbi.nlm.nih.gov/pmc/articles/PMC5994893/\",\n",
    "    \"https://www.ncbi.nlm.nih.gov/pmc/articles/PMC6244289/\",\n",
    "    \"https://www.ncbi.nlm.nih.gov/pmc/articles/PMC6540057/\",\n",
    "    \"https://www.ncbi.nlm.nih.gov/pmc/articles/PMC6764485/\",\n",
    "    \"https://www.ncbi.nlm.nih.gov/pmc/articles/PMC6764485/\",\n",
    "    \"https://www.ncbi.nlm.nih.gov/pmc/articles/PMC6972958/\",\n",
    "    \"https://www.ncbi.nlm.nih.gov/pmc/articles/PMC7072557/\",\n",
    "    \"https://www.ncbi.nlm.nih.gov/pmc/articles/PMC7338047/\",\n",
    "    \"https://www.ncbi.nlm.nih.gov/pmc/articles/PMC8212386/\",\n",
    "    \"https://www.ncbi.nlm.nih.gov/pmc/articles/PMC8212386/\",\n",
    "    \"https://www.ncbi.nlm.nih.gov/pmc/articles/PMC8431686/\",\n",
    "    \"https://www.ncbi.nlm.nih.gov/pmc/articles/PMC9374436/\"]\n"
   ]
  },
  {
   "cell_type": "code",
   "execution_count": 9,
   "metadata": {},
   "outputs": [],
   "source": [
    "elife=[\"https://elifesciences.org/articles/24603\",\n",
    "    \"https://elifesciences.org/articles/46595\",\n",
    "    \"https://elifesciences.org/articles/55745\",\n",
    "    \"https://elifesciences.org/articles/83884\",\n",
    "    \"https://elifesciences.org/articles/92900\"]"
   ]
  },
  {
   "cell_type": "code",
   "execution_count": 10,
   "metadata": {},
   "outputs": [],
   "source": [
    "plos=[\"https://journals.plos.org/plosbiology/article?id=10.1371/journal.pbio.3001051\",\n",
    "    \"https://journals.plos.org/plosbiology/article?id=10.1371/journal.pbio.3001431\",\n",
    "    \"https://journals.plos.org/plosgenetics/article?id=10.1371/journal.pgen.1009602\",\n",
    "    \"https://journals.plos.org/plosgenetics/article?id=10.1371/journal.pgen.1009736\",\n",
    "    \"https://journals.plos.org/plosgenetics/article?id=10.1371/journal.pgen.1011078\"]"
   ]
  },
  {
   "cell_type": "code",
   "execution_count": 11,
   "metadata": {},
   "outputs": [],
   "source": [
    "nature=[\"https://www.nature.com/articles/ncb1774\",\n",
    "    \"https://www.nature.com/articles/s41467-019-13867-y\",\n",
    "    \"https://www.nature.com/articles/s41467-019-14038-9\",\n",
    "    \"https://www.nature.com/articles/s41467-021-24081-0.epdf?sharing_token=FSX6rBpLLq2fr4Vx4vEbANRgN0jAjWel9jnR3ZoTv0PCmeZr94GGnK53maIYoeRVVWFWRDCKK3DD05aL90OBkD_uXqaE2zrSicRn2UrU7PX0qFqZPgntZzGG5NzOhXi7Ose54rYDxXEp5GT44HgE06odn22zTnl9pQW5upsHec8%3D|https://www.nature.com/articles/s41467-021-24081-0.epdf?sharing_token=FSX6rBpLLq2fr4[\\u2026]gntZzGG5NzOhXi7Ose54rYDxXEp5GT44HgE06odn22zTnl9pQW5upsHec8%3D\",\n",
    "    \"https://www.nature.com/articles/s41467-021-25398-6\",\n",
    "    \"https://www.nature.com/articles/s41467-021-27279-4#disqus_thread\",\n",
    "    \"https://www.nature.com/articles/s41467-022-28469-4\",\n",
    "    \"https://www.nature.com/articles/s41467-022-30060-w\",\n",
    "    \"https://www.nature.com/articles/s41467-022-32487-7\",\n",
    "    \"https://www.nature.com/articles/s41467-024-45782-2\",\n",
    "    \"https://www.nature.com/articles/s41556-022-00917-9\",\n",
    "    \"https://www.nature.com/articles/s41556-023-01136-6#Bib1\",\n",
    "    \"https://www.nature.com/articles/s41556-023-01180-2\",\n",
    "    \"https://www.nature.com/articles/s41556-023-01287-6\",\n",
    "    \"https://www.nature.com/articles/s41580-022-00524-4\",\n",
    "    \"https://www.nature.com/articles/s41589-024-01575-8\",\n",
    "    \"https://www.nature.com/articles/s41598-019-45020-6\",\n",
    "    \"https://www.nature.com/articles/s41598-022-05340-6\",\n",
    "    \"https://www.nature.com/articles/s41598-023-40705-5\",\n",
    "    \"https://www.nature.com/articles/s42255-022-00706-6.epdf?sharing_token=XI30ZM2EGunwLedKAflYxtRgN0jAjWel9jnR3ZoTv0NIqjP5_r7Wh9CXPW5apSLqqo0IXTfF31sTM2rawNXbcLKtN3dQpUtN-IEh7NveS1DOHmmGKYG2ZkGkSuIuUCdwdRRp3KhJqywGB2MPG1MImBAGqRDUldbWsq_B9xVFSS0%3D|https://www.nature.com/articles/s42255-022-00706-6.epdf?sharing_token=XI30ZM2EGunwLe[\\u2026]YG2ZkGkSuIuUCdwdRRp3KhJqywGB2MPG1MImBAGqRDUldbWsq_B9xVFSS0%3D\",\n",
    "    \"https://www.nature.com/articles/s42255-023-00939-z?utm_source=dlvr.it&amp;utm_medium=twitter\"]"
   ]
  },
  {
   "cell_type": "code",
   "execution_count": 12,
   "metadata": {},
   "outputs": [],
   "source": [
    " cell=[\"https://www.cell.com/biophysj/fulltext/S0006-3495(21)00991-7\",\n",
    "    \"https://www.cell.com/biophysj/fulltext/S0006-3495(21)00991-7\",\n",
    "    \"https://www.cell.com/cell-metabolism/fulltext/S1550-4131(21)00223-0?rss=yes&amp;utm_source=dlvr.it&amp;utm_medium=twitter\",\n",
    "    \"https://www.cell.com/cell-metabolism/fulltext/S1550-4131(23)00130-4\",\n",
    "    \"https://www.cell.com/cell-metabolism/fulltext/S1550-4131(23)00261-9#secsectitle0315\",\n",
    "    \"https://www.cell.com/cell-reports/fulltext/S2211-1247(20)30821-4#.XvtjyPbShnI.twitter\",\n",
    "    \"https://www.cell.com/cell-reports/fulltext/S2211-1247(20)31478-9\",\n",
    "    \"https://www.cell.com/cell-reports/fulltext/S2211-1247(21)01770-8#.Yebhhfd3iDE.twitter\",\n",
    "    \"https://www.cell.com/cell-reports/fulltext/S2211-1247(24)00686-7?rss=yes&amp;utm_source=dlvr.it&amp;utm_medium=twitter\",\n",
    "    \"https://www.cell.com/developmental-cell/fulltext/S1534-5807%2824%2900180-1\",\n",
    "    \"https://www.cell.com/developmental-cell/fulltext/S1534-5807(21)00601-8?rss=yes\",\n",
    "    \"https://www.cell.com/developmental-cell/fulltext/S1534-5807(24)00180-1?rss=yes&amp;utm_source=dlvr.it&amp;utm_medium=twitter\",\n",
    "    \"https://www.cell.com/neuron/fulltext/S0896-6273(22)00365-8#secsectitle0150\",\n",
    "    \"https://www.cell.com/trends/biochemical-sciences/fulltext/S0968-0004(20)30067-0\",\n",
    "    \"https://www.cell.com/trends/biochemical-sciences/fulltext/S0968-0004(20)30085-2\",\n",
    "    \"https://www.cell.com/trends/cell-biology/fulltext/S0962-8924(20)30074-X\",\n",
    "    \"https://www.cell.com/trends/cell-biology/fulltext/S0962-8924(20)30101-X\"]\n"
   ]
  },
  {
   "cell_type": "code",
   "execution_count": 13,
   "metadata": {},
   "outputs": [],
   "source": [
    "# A simple function to dump the scraped results\n",
    "\n",
    "def dump_results(url, document):\n",
    "    result = json.dumps(document, indent=4)\n",
    "    out_file_nm = url.replace('https://','')\n",
    "    out_file_nm = out_file_nm.replace('/','_')\n",
    "    if len(out_file_nm) > 75:\n",
    "        out_file_nm = out_file_nm[:75]\n",
    "    print(f\"Saving {url}\")\n",
    "\n",
    "    with open(f\"data/out/{out_file_nm}.json\", 'w', encoding='utf-8') as file:\n",
    "        file.write(result)\n"
   ]
  },
  {
   "cell_type": "code",
   "execution_count": 14,
   "metadata": {},
   "outputs": [
    {
     "name": "stderr",
     "output_type": "stream",
     "text": [
      "DEBUG:pyvirtualdisplay:version=3.0\n",
      "DEBUG:pyvirtualdisplay.abstractdisplay:command: ['Xvfb', '-br', '-nolisten', 'tcp', '-screen', '0', '800x600x24', ':1051']\n",
      "INFO:pyvirtualdisplay.abstractdisplay:Successfully started X with display \":1051\".\n",
      "DEBUG:pyvirtualdisplay.abstractdisplay:set $DISPLAY=:1051\n",
      "DEBUG:selenium.webdriver.common.selenium_manager:Selenium Manager binary found at: /Users/dan/miniforge3/envs/gpt-researcher/lib/python3.11/site-packages/selenium/webdriver/common/macos/selenium-manager\n",
      "DEBUG:selenium.webdriver.common.selenium_manager:Executing process: /Users/dan/miniforge3/envs/gpt-researcher/lib/python3.11/site-packages/selenium/webdriver/common/macos/selenium-manager --browser firefox --debug --language-binding python --output json\n",
      "DEBUG:selenium.webdriver.common.selenium_manager:geckodriver not found in PATH\n",
      "DEBUG:selenium.webdriver.common.selenium_manager:firefox not found in PATH\n",
      "DEBUG:selenium.webdriver.common.selenium_manager:firefox not found in the system\n",
      "DEBUG:selenium.webdriver.common.selenium_manager:Required browser: firefox 127.0\n",
      "DEBUG:selenium.webdriver.common.selenium_manager:firefox 127.0 already exists\n",
      "DEBUG:selenium.webdriver.common.selenium_manager:firefox 127.0 is available at /Users/dan/.cache/selenium/firefox/mac-arm64/127.0/Firefox.app/Contents/MacOS/firefox\n",
      "DEBUG:selenium.webdriver.common.selenium_manager:Required driver: geckodriver 0.34.0\n",
      "DEBUG:selenium.webdriver.common.selenium_manager:geckodriver 0.34.0 already in the cache\n",
      "DEBUG:selenium.webdriver.common.selenium_manager:Driver path: /Users/dan/.cache/selenium/geckodriver/mac-arm64/0.34.0/geckodriver\n",
      "DEBUG:selenium.webdriver.common.selenium_manager:Browser path: /Users/dan/.cache/selenium/firefox/mac-arm64/127.0/Firefox.app/Contents/MacOS/firefox\n",
      "DEBUG:selenium.webdriver.common.selenium_manager:Using driver at: /Users/dan/.cache/selenium/geckodriver/mac-arm64/0.34.0/geckodriver\n",
      "DEBUG:selenium.webdriver.common.service:Started executable: `/Users/dan/.cache/selenium/geckodriver/mac-arm64/0.34.0/geckodriver` in a child process with pid: 97653 using 0 to output -3\n",
      "DEBUG:selenium.webdriver.remote.remote_connection:POST http://localhost:64684/session {'capabilities': {'firstMatch': [{}], 'alwaysMatch': {'browserName': 'firefox', 'acceptInsecureCerts': True, 'moz:debuggerAddress': True, 'pageLoadStrategy': <PageLoadStrategy.normal: 'normal'>, 'browserVersion': None, 'moz:firefoxOptions': {'binary': '/Users/dan/.cache/selenium/firefox/mac-arm64/127.0/Firefox.app/Contents/MacOS/firefox', 'args': ['--headless']}}}}\n"
     ]
    },
    {
     "name": "stdout",
     "output_type": "stream",
     "text": [
      "1 of 1 https://www.cell.com/biophysj/fulltext/S0006-3495(21)00991-7\n"
     ]
    },
    {
     "name": "stderr",
     "output_type": "stream",
     "text": [
      "DEBUG:selenium.webdriver.remote.remote_connection:Remote response: status=200 | data={\"value\":{\"sessionId\":\"bdfcf2fd-c3c7-4e82-81fc-91c83c17affe\",\"capabilities\":{\"acceptInsecureCerts\":true,\"browserName\":\"firefox\",\"browserVersion\":\"127.0\",\"moz:accessibilityChecks\":false,\"moz:buildID\":\"20240606181944\",\"moz:debuggerAddress\":\"127.0.0.1:64685\",\"moz:geckodriverVersion\":\"0.34.0\",\"moz:headless\":true,\"moz:platformVersion\":\"23.5.0\",\"moz:processID\":97655,\"moz:profile\":\"/var/folders/jq/7cv336vx66v_c3vj7vwrpt6c0000gn/T/rust_mozprofilefxNTOQ\",\"moz:shutdownTimeout\":60000,\"moz:webdriverClick\":true,\"moz:windowless\":false,\"pageLoadStrategy\":\"normal\",\"platformName\":\"mac\",\"proxy\":{},\"setWindowRect\":true,\"strictFileInteractability\":false,\"timeouts\":{\"implicit\":0,\"pageLoad\":300000,\"script\":30000},\"unhandledPromptBehavior\":\"dismiss and notify\",\"userAgent\":\"Mozilla/5.0 (Macintosh; Intel Mac OS X 10.15; rv:127.0) Gecko/20100101 Firefox/127.0\"}}} | headers=HTTPHeaderDict({'content-type': 'application/json; charset=utf-8', 'cache-control': 'no-cache', 'content-length': '849', 'date': 'Tue, 18 Jun 2024 19:27:41 GMT'})\n",
      "DEBUG:selenium.webdriver.remote.remote_connection:Finished Request\n",
      "DEBUG:selenium.webdriver.remote.remote_connection:POST http://localhost:64684/session/bdfcf2fd-c3c7-4e82-81fc-91c83c17affe/url {'url': 'https://www.cell.com/biophysj/fulltext/S0006-3495(21)00991-7'}\n",
      "DEBUG:selenium.webdriver.remote.remote_connection:Remote response: status=200 | data={\"value\":null} | headers=HTTPHeaderDict({'content-type': 'application/json; charset=utf-8', 'cache-control': 'no-cache', 'content-length': '14', 'date': 'Tue, 18 Jun 2024 19:27:41 GMT'})\n",
      "DEBUG:selenium.webdriver.remote.remote_connection:Finished Request\n",
      "DEBUG:selenium.webdriver.remote.remote_connection:POST http://localhost:64684/session/bdfcf2fd-c3c7-4e82-81fc-91c83c17affe/element {'using': 'xpath', 'value': \"//button[contains(text(), 'Accept')]\"}\n",
      "DEBUG:selenium.webdriver.remote.remote_connection:Remote response: status=404 | data={\"value\":{\"error\":\"no such element\",\"message\":\"Unable to locate element: //button[contains(text(), 'Accept')]\",\"stacktrace\":\"RemoteError@chrome://remote/content/shared/RemoteError.sys.mjs:8:8\\nWebDriverError@chrome://remote/content/shared/webdriver/Errors.sys.mjs:193:5\\nNoSuchElementError@chrome://remote/content/shared/webdriver/Errors.sys.mjs:511:5\\ndom.find/</<@chrome://remote/content/shared/DOM.sys.mjs:136:16\\n\"}} | headers=HTTPHeaderDict({'content-type': 'application/json; charset=utf-8', 'cache-control': 'no-cache', 'content-length': '420', 'date': 'Tue, 18 Jun 2024 19:27:42 GMT'})\n",
      "DEBUG:selenium.webdriver.remote.remote_connection:Finished Request\n",
      "DEBUG:selenium.webdriver.remote.remote_connection:POST http://localhost:64684/session/bdfcf2fd-c3c7-4e82-81fc-91c83c17affe/element {'using': 'xpath', 'value': \"//button[contains(text(), 'Accept')]\"}\n",
      "DEBUG:selenium.webdriver.remote.remote_connection:Remote response: status=404 | data={\"value\":{\"error\":\"no such element\",\"message\":\"Unable to locate element: //button[contains(text(), 'Accept')]\",\"stacktrace\":\"RemoteError@chrome://remote/content/shared/RemoteError.sys.mjs:8:8\\nWebDriverError@chrome://remote/content/shared/webdriver/Errors.sys.mjs:193:5\\nNoSuchElementError@chrome://remote/content/shared/webdriver/Errors.sys.mjs:511:5\\ndom.find/</<@chrome://remote/content/shared/DOM.sys.mjs:136:16\\n\"}} | headers=HTTPHeaderDict({'content-type': 'application/json; charset=utf-8', 'cache-control': 'no-cache', 'content-length': '420', 'date': 'Tue, 18 Jun 2024 19:27:42 GMT'})\n",
      "DEBUG:selenium.webdriver.remote.remote_connection:Finished Request\n",
      "DEBUG:selenium.webdriver.remote.remote_connection:POST http://localhost:64684/session/bdfcf2fd-c3c7-4e82-81fc-91c83c17affe/element {'using': 'xpath', 'value': \"//button[contains(text(), 'Accept')]\"}\n",
      "DEBUG:selenium.webdriver.remote.remote_connection:Remote response: status=404 | data={\"value\":{\"error\":\"no such element\",\"message\":\"Unable to locate element: //button[contains(text(), 'Accept')]\",\"stacktrace\":\"RemoteError@chrome://remote/content/shared/RemoteError.sys.mjs:8:8\\nWebDriverError@chrome://remote/content/shared/webdriver/Errors.sys.mjs:193:5\\nNoSuchElementError@chrome://remote/content/shared/webdriver/Errors.sys.mjs:511:5\\ndom.find/</<@chrome://remote/content/shared/DOM.sys.mjs:136:16\\n\"}} | headers=HTTPHeaderDict({'content-type': 'application/json; charset=utf-8', 'cache-control': 'no-cache', 'content-length': '420', 'date': 'Tue, 18 Jun 2024 19:27:43 GMT'})\n",
      "DEBUG:selenium.webdriver.remote.remote_connection:Finished Request\n",
      "DEBUG:selenium.webdriver.remote.remote_connection:POST http://localhost:64684/session/bdfcf2fd-c3c7-4e82-81fc-91c83c17affe/element {'using': 'xpath', 'value': \"//button[contains(text(), 'Accept')]\"}\n",
      "DEBUG:selenium.webdriver.remote.remote_connection:Remote response: status=404 | data={\"value\":{\"error\":\"no such element\",\"message\":\"Unable to locate element: //button[contains(text(), 'Accept')]\",\"stacktrace\":\"RemoteError@chrome://remote/content/shared/RemoteError.sys.mjs:8:8\\nWebDriverError@chrome://remote/content/shared/webdriver/Errors.sys.mjs:193:5\\nNoSuchElementError@chrome://remote/content/shared/webdriver/Errors.sys.mjs:511:5\\ndom.find/</<@chrome://remote/content/shared/DOM.sys.mjs:136:16\\n\"}} | headers=HTTPHeaderDict({'content-type': 'application/json; charset=utf-8', 'cache-control': 'no-cache', 'content-length': '420', 'date': 'Tue, 18 Jun 2024 19:27:43 GMT'})\n",
      "DEBUG:selenium.webdriver.remote.remote_connection:Finished Request\n",
      "DEBUG:selenium.webdriver.remote.remote_connection:POST http://localhost:64684/session/bdfcf2fd-c3c7-4e82-81fc-91c83c17affe/element {'using': 'xpath', 'value': \"//button[contains(text(), 'Accept')]\"}\n",
      "DEBUG:selenium.webdriver.remote.remote_connection:Remote response: status=404 | data={\"value\":{\"error\":\"no such element\",\"message\":\"Unable to locate element: //button[contains(text(), 'Accept')]\",\"stacktrace\":\"RemoteError@chrome://remote/content/shared/RemoteError.sys.mjs:8:8\\nWebDriverError@chrome://remote/content/shared/webdriver/Errors.sys.mjs:193:5\\nNoSuchElementError@chrome://remote/content/shared/webdriver/Errors.sys.mjs:511:5\\ndom.find/</<@chrome://remote/content/shared/DOM.sys.mjs:136:16\\n\"}} | headers=HTTPHeaderDict({'content-type': 'application/json; charset=utf-8', 'cache-control': 'no-cache', 'content-length': '420', 'date': 'Tue, 18 Jun 2024 19:27:44 GMT'})\n",
      "DEBUG:selenium.webdriver.remote.remote_connection:Finished Request\n",
      "DEBUG:selenium.webdriver.remote.remote_connection:POST http://localhost:64684/session/bdfcf2fd-c3c7-4e82-81fc-91c83c17affe/element {'using': 'xpath', 'value': \"//button[contains(text(), 'Accept')]\"}\n",
      "DEBUG:selenium.webdriver.remote.remote_connection:Remote response: status=404 | data={\"value\":{\"error\":\"no such element\",\"message\":\"Unable to locate element: //button[contains(text(), 'Accept')]\",\"stacktrace\":\"RemoteError@chrome://remote/content/shared/RemoteError.sys.mjs:8:8\\nWebDriverError@chrome://remote/content/shared/webdriver/Errors.sys.mjs:193:5\\nNoSuchElementError@chrome://remote/content/shared/webdriver/Errors.sys.mjs:511:5\\ndom.find/</<@chrome://remote/content/shared/DOM.sys.mjs:136:16\\n\"}} | headers=HTTPHeaderDict({'content-type': 'application/json; charset=utf-8', 'cache-control': 'no-cache', 'content-length': '420', 'date': 'Tue, 18 Jun 2024 19:27:44 GMT'})\n",
      "DEBUG:selenium.webdriver.remote.remote_connection:Finished Request\n",
      "DEBUG:selenium.webdriver.remote.remote_connection:POST http://localhost:64684/session/bdfcf2fd-c3c7-4e82-81fc-91c83c17affe/element {'using': 'xpath', 'value': \"//button[contains(text(), 'Accept')]\"}\n",
      "DEBUG:selenium.webdriver.remote.remote_connection:Remote response: status=404 | data={\"value\":{\"error\":\"no such element\",\"message\":\"Unable to locate element: //button[contains(text(), 'Accept')]\",\"stacktrace\":\"RemoteError@chrome://remote/content/shared/RemoteError.sys.mjs:8:8\\nWebDriverError@chrome://remote/content/shared/webdriver/Errors.sys.mjs:193:5\\nNoSuchElementError@chrome://remote/content/shared/webdriver/Errors.sys.mjs:511:5\\ndom.find/</<@chrome://remote/content/shared/DOM.sys.mjs:136:16\\n\"}} | headers=HTTPHeaderDict({'content-type': 'application/json; charset=utf-8', 'cache-control': 'no-cache', 'content-length': '420', 'date': 'Tue, 18 Jun 2024 19:27:45 GMT'})\n",
      "DEBUG:selenium.webdriver.remote.remote_connection:Finished Request\n",
      "DEBUG:selenium.webdriver.remote.remote_connection:POST http://localhost:64684/session/bdfcf2fd-c3c7-4e82-81fc-91c83c17affe/element {'using': 'xpath', 'value': \"//button[contains(text(), 'Accept')]\"}\n",
      "DEBUG:selenium.webdriver.remote.remote_connection:Remote response: status=404 | data={\"value\":{\"error\":\"no such element\",\"message\":\"Unable to locate element: //button[contains(text(), 'Accept')]\",\"stacktrace\":\"RemoteError@chrome://remote/content/shared/RemoteError.sys.mjs:8:8\\nWebDriverError@chrome://remote/content/shared/webdriver/Errors.sys.mjs:193:5\\nNoSuchElementError@chrome://remote/content/shared/webdriver/Errors.sys.mjs:511:5\\ndom.find/</<@chrome://remote/content/shared/DOM.sys.mjs:136:16\\n\"}} | headers=HTTPHeaderDict({'content-type': 'application/json; charset=utf-8', 'cache-control': 'no-cache', 'content-length': '420', 'date': 'Tue, 18 Jun 2024 19:27:45 GMT'})\n",
      "DEBUG:selenium.webdriver.remote.remote_connection:Finished Request\n",
      "DEBUG:selenium.webdriver.remote.remote_connection:POST http://localhost:64684/session/bdfcf2fd-c3c7-4e82-81fc-91c83c17affe/element {'using': 'xpath', 'value': \"//button[contains(text(), 'Accept')]\"}\n",
      "DEBUG:selenium.webdriver.remote.remote_connection:Remote response: status=404 | data={\"value\":{\"error\":\"no such element\",\"message\":\"Unable to locate element: //button[contains(text(), 'Accept')]\",\"stacktrace\":\"RemoteError@chrome://remote/content/shared/RemoteError.sys.mjs:8:8\\nWebDriverError@chrome://remote/content/shared/webdriver/Errors.sys.mjs:193:5\\nNoSuchElementError@chrome://remote/content/shared/webdriver/Errors.sys.mjs:511:5\\ndom.find/</<@chrome://remote/content/shared/DOM.sys.mjs:136:16\\n\"}} | headers=HTTPHeaderDict({'content-type': 'application/json; charset=utf-8', 'cache-control': 'no-cache', 'content-length': '420', 'date': 'Tue, 18 Jun 2024 19:27:46 GMT'})\n",
      "DEBUG:selenium.webdriver.remote.remote_connection:Finished Request\n",
      "DEBUG:selenium.webdriver.remote.remote_connection:POST http://localhost:64684/session/bdfcf2fd-c3c7-4e82-81fc-91c83c17affe/element {'using': 'xpath', 'value': \"//button[contains(text(), 'Accept')]\"}\n",
      "DEBUG:selenium.webdriver.remote.remote_connection:Remote response: status=404 | data={\"value\":{\"error\":\"no such element\",\"message\":\"Unable to locate element: //button[contains(text(), 'Accept')]\",\"stacktrace\":\"RemoteError@chrome://remote/content/shared/RemoteError.sys.mjs:8:8\\nWebDriverError@chrome://remote/content/shared/webdriver/Errors.sys.mjs:193:5\\nNoSuchElementError@chrome://remote/content/shared/webdriver/Errors.sys.mjs:511:5\\ndom.find/</<@chrome://remote/content/shared/DOM.sys.mjs:136:16\\n\"}} | headers=HTTPHeaderDict({'content-type': 'application/json; charset=utf-8', 'cache-control': 'no-cache', 'content-length': '420', 'date': 'Tue, 18 Jun 2024 19:27:46 GMT'})\n",
      "DEBUG:selenium.webdriver.remote.remote_connection:Finished Request\n",
      "DEBUG:selenium.webdriver.remote.remote_connection:POST http://localhost:64684/session/bdfcf2fd-c3c7-4e82-81fc-91c83c17affe/element {'using': 'xpath', 'value': \"//button[contains(text(), 'Accept')]\"}\n",
      "DEBUG:selenium.webdriver.remote.remote_connection:Remote response: status=404 | data={\"value\":{\"error\":\"no such element\",\"message\":\"Unable to locate element: //button[contains(text(), 'Accept')]\",\"stacktrace\":\"RemoteError@chrome://remote/content/shared/RemoteError.sys.mjs:8:8\\nWebDriverError@chrome://remote/content/shared/webdriver/Errors.sys.mjs:193:5\\nNoSuchElementError@chrome://remote/content/shared/webdriver/Errors.sys.mjs:511:5\\ndom.find/</<@chrome://remote/content/shared/DOM.sys.mjs:136:16\\n\"}} | headers=HTTPHeaderDict({'content-type': 'application/json; charset=utf-8', 'cache-control': 'no-cache', 'content-length': '420', 'date': 'Tue, 18 Jun 2024 19:27:47 GMT'})\n",
      "DEBUG:selenium.webdriver.remote.remote_connection:Finished Request\n",
      "DEBUG:selenium.webdriver.remote.remote_connection:POST http://localhost:64684/session/bdfcf2fd-c3c7-4e82-81fc-91c83c17affe/element {'using': 'xpath', 'value': \"//button[contains(text(), 'Accept')]\"}\n",
      "DEBUG:selenium.webdriver.remote.remote_connection:Remote response: status=404 | data={\"value\":{\"error\":\"no such element\",\"message\":\"Unable to locate element: //button[contains(text(), 'Accept')]\",\"stacktrace\":\"RemoteError@chrome://remote/content/shared/RemoteError.sys.mjs:8:8\\nWebDriverError@chrome://remote/content/shared/webdriver/Errors.sys.mjs:193:5\\nNoSuchElementError@chrome://remote/content/shared/webdriver/Errors.sys.mjs:511:5\\ndom.find/</<@chrome://remote/content/shared/DOM.sys.mjs:136:16\\n\"}} | headers=HTTPHeaderDict({'content-type': 'application/json; charset=utf-8', 'cache-control': 'no-cache', 'content-length': '420', 'date': 'Tue, 18 Jun 2024 19:27:47 GMT'})\n",
      "DEBUG:selenium.webdriver.remote.remote_connection:Finished Request\n",
      "DEBUG:selenium.webdriver.remote.remote_connection:POST http://localhost:64684/session/bdfcf2fd-c3c7-4e82-81fc-91c83c17affe/element {'using': 'xpath', 'value': \"//button[contains(text(), 'Accept')]\"}\n",
      "DEBUG:selenium.webdriver.remote.remote_connection:Remote response: status=404 | data={\"value\":{\"error\":\"no such element\",\"message\":\"Unable to locate element: //button[contains(text(), 'Accept')]\",\"stacktrace\":\"RemoteError@chrome://remote/content/shared/RemoteError.sys.mjs:8:8\\nWebDriverError@chrome://remote/content/shared/webdriver/Errors.sys.mjs:193:5\\nNoSuchElementError@chrome://remote/content/shared/webdriver/Errors.sys.mjs:511:5\\ndom.find/</<@chrome://remote/content/shared/DOM.sys.mjs:136:16\\n\"}} | headers=HTTPHeaderDict({'content-type': 'application/json; charset=utf-8', 'cache-control': 'no-cache', 'content-length': '420', 'date': 'Tue, 18 Jun 2024 19:27:48 GMT'})\n",
      "DEBUG:selenium.webdriver.remote.remote_connection:Finished Request\n",
      "DEBUG:selenium.webdriver.remote.remote_connection:POST http://localhost:64684/session/bdfcf2fd-c3c7-4e82-81fc-91c83c17affe/element {'using': 'xpath', 'value': \"//button[contains(text(), 'Accept')]\"}\n",
      "DEBUG:selenium.webdriver.remote.remote_connection:Remote response: status=404 | data={\"value\":{\"error\":\"no such element\",\"message\":\"Unable to locate element: //button[contains(text(), 'Accept')]\",\"stacktrace\":\"RemoteError@chrome://remote/content/shared/RemoteError.sys.mjs:8:8\\nWebDriverError@chrome://remote/content/shared/webdriver/Errors.sys.mjs:193:5\\nNoSuchElementError@chrome://remote/content/shared/webdriver/Errors.sys.mjs:511:5\\ndom.find/</<@chrome://remote/content/shared/DOM.sys.mjs:136:16\\n\"}} | headers=HTTPHeaderDict({'content-type': 'application/json; charset=utf-8', 'cache-control': 'no-cache', 'content-length': '420', 'date': 'Tue, 18 Jun 2024 19:27:48 GMT'})\n",
      "DEBUG:selenium.webdriver.remote.remote_connection:Finished Request\n",
      "DEBUG:selenium.webdriver.remote.remote_connection:POST http://localhost:64684/session/bdfcf2fd-c3c7-4e82-81fc-91c83c17affe/element {'using': 'xpath', 'value': \"//button[contains(text(), 'Accept')]\"}\n",
      "DEBUG:selenium.webdriver.remote.remote_connection:Remote response: status=404 | data={\"value\":{\"error\":\"no such element\",\"message\":\"Unable to locate element: //button[contains(text(), 'Accept')]\",\"stacktrace\":\"RemoteError@chrome://remote/content/shared/RemoteError.sys.mjs:8:8\\nWebDriverError@chrome://remote/content/shared/webdriver/Errors.sys.mjs:193:5\\nNoSuchElementError@chrome://remote/content/shared/webdriver/Errors.sys.mjs:511:5\\ndom.find/</<@chrome://remote/content/shared/DOM.sys.mjs:136:16\\n\"}} | headers=HTTPHeaderDict({'content-type': 'application/json; charset=utf-8', 'cache-control': 'no-cache', 'content-length': '420', 'date': 'Tue, 18 Jun 2024 19:27:49 GMT'})\n",
      "DEBUG:selenium.webdriver.remote.remote_connection:Finished Request\n",
      "DEBUG:selenium.webdriver.remote.remote_connection:POST http://localhost:64684/session/bdfcf2fd-c3c7-4e82-81fc-91c83c17affe/element {'using': 'xpath', 'value': \"//button[contains(text(), 'Accept')]\"}\n",
      "DEBUG:selenium.webdriver.remote.remote_connection:Remote response: status=404 | data={\"value\":{\"error\":\"no such element\",\"message\":\"Unable to locate element: //button[contains(text(), 'Accept')]\",\"stacktrace\":\"RemoteError@chrome://remote/content/shared/RemoteError.sys.mjs:8:8\\nWebDriverError@chrome://remote/content/shared/webdriver/Errors.sys.mjs:193:5\\nNoSuchElementError@chrome://remote/content/shared/webdriver/Errors.sys.mjs:511:5\\ndom.find/</<@chrome://remote/content/shared/DOM.sys.mjs:136:16\\n\"}} | headers=HTTPHeaderDict({'content-type': 'application/json; charset=utf-8', 'cache-control': 'no-cache', 'content-length': '420', 'date': 'Tue, 18 Jun 2024 19:27:49 GMT'})\n",
      "DEBUG:selenium.webdriver.remote.remote_connection:Finished Request\n",
      "DEBUG:selenium.webdriver.remote.remote_connection:POST http://localhost:64684/session/bdfcf2fd-c3c7-4e82-81fc-91c83c17affe/element {'using': 'xpath', 'value': \"//button[contains(text(), 'Accept')]\"}\n",
      "DEBUG:selenium.webdriver.remote.remote_connection:Remote response: status=404 | data={\"value\":{\"error\":\"no such element\",\"message\":\"Unable to locate element: //button[contains(text(), 'Accept')]\",\"stacktrace\":\"RemoteError@chrome://remote/content/shared/RemoteError.sys.mjs:8:8\\nWebDriverError@chrome://remote/content/shared/webdriver/Errors.sys.mjs:193:5\\nNoSuchElementError@chrome://remote/content/shared/webdriver/Errors.sys.mjs:511:5\\ndom.find/</<@chrome://remote/content/shared/DOM.sys.mjs:136:16\\n\"}} | headers=HTTPHeaderDict({'content-type': 'application/json; charset=utf-8', 'cache-control': 'no-cache', 'content-length': '420', 'date': 'Tue, 18 Jun 2024 19:27:50 GMT'})\n",
      "DEBUG:selenium.webdriver.remote.remote_connection:Finished Request\n",
      "DEBUG:selenium.webdriver.remote.remote_connection:POST http://localhost:64684/session/bdfcf2fd-c3c7-4e82-81fc-91c83c17affe/element {'using': 'xpath', 'value': \"//button[contains(text(), 'Accept')]\"}\n",
      "DEBUG:selenium.webdriver.remote.remote_connection:Remote response: status=404 | data={\"value\":{\"error\":\"no such element\",\"message\":\"Unable to locate element: //button[contains(text(), 'Accept')]\",\"stacktrace\":\"RemoteError@chrome://remote/content/shared/RemoteError.sys.mjs:8:8\\nWebDriverError@chrome://remote/content/shared/webdriver/Errors.sys.mjs:193:5\\nNoSuchElementError@chrome://remote/content/shared/webdriver/Errors.sys.mjs:511:5\\ndom.find/</<@chrome://remote/content/shared/DOM.sys.mjs:136:16\\n\"}} | headers=HTTPHeaderDict({'content-type': 'application/json; charset=utf-8', 'cache-control': 'no-cache', 'content-length': '420', 'date': 'Tue, 18 Jun 2024 19:27:50 GMT'})\n",
      "DEBUG:selenium.webdriver.remote.remote_connection:Finished Request\n",
      "DEBUG:selenium.webdriver.remote.remote_connection:POST http://localhost:64684/session/bdfcf2fd-c3c7-4e82-81fc-91c83c17affe/element {'using': 'xpath', 'value': \"//button[contains(text(), 'Accept')]\"}\n",
      "DEBUG:selenium.webdriver.remote.remote_connection:Remote response: status=404 | data={\"value\":{\"error\":\"no such element\",\"message\":\"Unable to locate element: //button[contains(text(), 'Accept')]\",\"stacktrace\":\"RemoteError@chrome://remote/content/shared/RemoteError.sys.mjs:8:8\\nWebDriverError@chrome://remote/content/shared/webdriver/Errors.sys.mjs:193:5\\nNoSuchElementError@chrome://remote/content/shared/webdriver/Errors.sys.mjs:511:5\\ndom.find/</<@chrome://remote/content/shared/DOM.sys.mjs:136:16\\n\"}} | headers=HTTPHeaderDict({'content-type': 'application/json; charset=utf-8', 'cache-control': 'no-cache', 'content-length': '420', 'date': 'Tue, 18 Jun 2024 19:27:51 GMT'})\n",
      "DEBUG:selenium.webdriver.remote.remote_connection:Finished Request\n",
      "DEBUG:selenium.webdriver.remote.remote_connection:POST http://localhost:64684/session/bdfcf2fd-c3c7-4e82-81fc-91c83c17affe/element {'using': 'xpath', 'value': \"//button[contains(text(), 'Accept')]\"}\n",
      "DEBUG:selenium.webdriver.remote.remote_connection:Remote response: status=404 | data={\"value\":{\"error\":\"no such element\",\"message\":\"Unable to locate element: //button[contains(text(), 'Accept')]\",\"stacktrace\":\"RemoteError@chrome://remote/content/shared/RemoteError.sys.mjs:8:8\\nWebDriverError@chrome://remote/content/shared/webdriver/Errors.sys.mjs:193:5\\nNoSuchElementError@chrome://remote/content/shared/webdriver/Errors.sys.mjs:511:5\\ndom.find/</<@chrome://remote/content/shared/DOM.sys.mjs:136:16\\n\"}} | headers=HTTPHeaderDict({'content-type': 'application/json; charset=utf-8', 'cache-control': 'no-cache', 'content-length': '420', 'date': 'Tue, 18 Jun 2024 19:27:51 GMT'})\n",
      "DEBUG:selenium.webdriver.remote.remote_connection:Finished Request\n",
      "DEBUG:selenium.webdriver.remote.remote_connection:GET http://localhost:64684/session/bdfcf2fd-c3c7-4e82-81fc-91c83c17affe/source {}\n",
      "DEBUG:selenium.webdriver.remote.remote_connection:Remote response: status=200 | data={\"value\":\"<html lang=\\\"en-US\\\" class=\\\"lang-en-us\\\"><head><title>Just a moment...</title><meta http-equiv=\\\"Content-Type\\\" content=\\\"text/html; charset=UTF-8\\\"><meta http-equiv=\\\"X-UA-Compatible\\\" content=\\\"IE=Edge\\\"><meta name=\\\"robots\\\" content=\\\"noindex,nofollow\\\"><meta name=\\\"viewport\\\" content=\\\"width=device-width,initial-scale=1\\\"><style>*{box-sizing:border-box;margin:0;padding:0}html{line-height:1.15;-webkit-text-size-adjust:100%;color:#313131}button,html{font-family:system-ui,-apple-system,BlinkMacSystemFont,Segoe UI,Roboto,Helvetica Neue,Arial,Noto Sans,sans-serif,Apple Color Emoji,Segoe UI Emoji,Segoe UI Symbol,Noto Color Emoji}@media (prefers-color-scheme:dark){body{background-color:#222;color:#d9d9d9}body a{color:#fff}body a:hover{color:#ee730a;text-decoration:underline}body .lds-ring div{border-color:#999 transparent transparent}body .font-red{color:#b20f03}body .pow-button{background-color:#4693ff;color:#1d1d1d}body #challenge-success-text{background-image:url(data:image/svg+xml;base64,PHN2ZyB4bWxucz0iaHR0cDovL3d3dy53My5vcmcvMjAwMC9zdmciIHdpZHRoPSIzMiIgaGVpZ2h0PSIzMiIgZmlsbD0ibm9uZSIgdmlld0JveD0iMCAwIDI2IDI2Ij48cGF0aCBmaWxsPSIjZDlkOWQ5IiBkPSJNMTMgMGExMyAxMyAwIDEgMCAwIDI2IDEzIDEzIDAgMCAwIDAtMjZtMCAyNGExMSAxMSAwIDEgMSAwLTIyIDExIDExIDAgMCAxIDAgMjIiLz48cGF0aCBmaWxsPSIjZDlkOWQ5IiBkPSJtMTAuOTU1IDE2LjA1NS0zLjk1LTQuMTI1LTEuNDQ1IDEuMzg1IDUuMzcgNS42MSA5LjQ5NS05LjYtMS40Mi0xLjQwNXoiLz48L3N2Zz4=)}body #challenge-error-text{background-image:url(data:image/svg+xml;base64,PHN2ZyB4bWxucz0iaHR0cDovL3d3dy53My5vcmcvMjAwMC9zdmciIHdpZHRoPSIzMiIgaGVpZ2h0PSIzMiIgZmlsbD0ibm9uZSI+PHBhdGggZmlsbD0iI0IyMEYwMyIgZD0iTTE2IDNhMTMgMTMgMCAxIDAgMTMgMTNBMTMuMDE1IDEzLjAxNSAwIDAgMCAxNiAzbTAgMjRhMTEgMTEgMCAxIDEgMTEtMTEgMTEuMDEgMTEuMDEgMCAwIDEtMTEgMTEiLz48cGF0aCBmaWxsPSIjQjIwRjAzIiBkPSJNMTcuMDM4IDE4LjYxNUgxNC44N0wxNC41NjMgOS41aDIuNzgzem0tMS4wODQgMS40MjdxLjY2IDAgMS4wNTcuMzg4LjQwNy4zODkuNDA3Ljk5NCAwIC41OTYtLjQwNy45ODQtLjM5Ny4zOS0xLjA1Ny4zODktLjY1IDAtMS4wNTYtLjM4OS0uMzk4LS4zODktLjM5OC0uOTg0IDAtLjU5Ny4zOTgtLjk4NS40MDYtLjM5NyAxLjA1Ni0uMzk3Ii8+PC9zdmc+)}}body{display:flex;flex-direction:column;min-height:100vh}body.no-js .loading-spinner{visibility:hidden}body.no-js .challenge-running{display:none}body.dark{background-color:#222;color:#d9d9d9}body.dark a{color:#fff}body.dark a:hover{color:#ee730a;text-decoration:underline}body.dark .lds-ring div{border-color:#999 transparent transparent}body.dark .font-red{color:#b20f03}body.dark .pow-button{background-color:#4693ff;color:#1d1d1d}body.dark #challenge-success-text{background-image:url(data:image/svg+xml;base64,PHN2ZyB4bWxucz0iaHR0cDovL3d3dy53My5vcmcvMjAwMC9zdmciIHdpZHRoPSIzMiIgaGVpZ2h0PSIzMiIgZmlsbD0ibm9uZSIgdmlld0JveD0iMCAwIDI2IDI2Ij48cGF0aCBmaWxsPSIjZDlkOWQ5IiBkPSJNMTMgMGExMyAxMyAwIDEgMCAwIDI2IDEzIDEzIDAgMCAwIDAtMjZtMCAyNGExMSAxMSAwIDEgMSAwLTIyIDExIDExIDAgMCAxIDAgMjIiLz48cGF0aCBmaWxsPSIjZDlkOWQ5IiBkPSJtMTAuOTU1IDE2LjA1NS0zLjk1LTQuMTI1LTEuNDQ1IDEuMzg1IDUuMzcgNS42MSA5LjQ5NS05LjYtMS40Mi0xLjQwNXoiLz48L3N2Zz4=)}body.dark #challenge-error-text{background-image:url(data:image/svg+xml;base64,PHN2ZyB4bWxucz0iaHR0cDovL3d3dy53My5vcmcvMjAwMC9zdmciIHdpZHRoPSIzMiIgaGVpZ2h0PSIzMiIgZmlsbD0ibm9uZSI+PHBhdGggZmlsbD0iI0IyMEYwMyIgZD0iTTE2IDNhMTMgMTMgMCAxIDAgMTMgMTNBMTMuMDE1IDEzLjAxNSAwIDAgMCAxNiAzbTAgMjRhMTEgMTEgMCAxIDEgMTEtMTEgMTEuMDEgMTEuMDEgMCAwIDEtMTEgMTEiLz48cGF0aCBmaWxsPSIjQjIwRjAzIiBkPSJNMTcuMDM4IDE4LjYxNUgxNC44N0wxNC41NjMgOS41aDIuNzgzem0tMS4wODQgMS40MjdxLjY2IDAgMS4wNTcuMzg4LjQwNy4zODkuNDA3Ljk5NCAwIC41OTYtLjQwNy45ODQtLjM5Ny4zOS0xLjA1Ny4zODktLjY1IDAtMS4wNTYtLjM4OS0uMzk4LS4zODktLjM5OC0uOTg0IDAtLjU5Ny4zOTgtLjk4NS40MDYtLjM5NyAxLjA1Ni0uMzk3Ii8+PC9zdmc+)}body.light{background-color:transparent;color:#313131}body.light a{color:#0051c3}body.light a:hover{color:#ee730a;text-decoration:underline}body.light .lds-ring div{border-color:#595959 transparent transparent}body.light .font-red{color:#fc574a}body.light .pow-button{background-color:#003681;border-color:#003681;color:#fff}body.light #challenge-success-text{background-image:url(data:image/svg+xml;base64,PHN2ZyB4bWxucz0iaHR0cDovL3d3dy53My5vcmcvMjAwMC9zdmciIHdpZHRoPSIzMiIgaGVpZ2h0PSIzMiIgZmlsbD0ibm9uZSIgdmlld0JveD0iMCAwIDI2IDI2Ij48cGF0aCBmaWxsPSIjMzEzMTMxIiBkPSJNMTMgMGExMyAxMyAwIDEgMCAwIDI2IDEzIDEzIDAgMCAwIDAtMjZtMCAyNGExMSAxMSAwIDEgMSAwLTIyIDExIDExIDAgMCAxIDAgMjIiLz48cGF0aCBmaWxsPSIjMzEzMTMxIiBkPSJtMTAuOTU1IDE2LjA1NS0zLjk1LTQuMTI1LTEuNDQ1IDEuMzg1IDUuMzcgNS42MSA5LjQ5NS05LjYtMS40Mi0xLjQwNXoiLz48L3N2Zz4=)}body.light #challenge-error-text{background-image:url(data:image/svg+xml;base64,PHN2ZyB4bWxucz0iaHR0cDovL3d3dy53My5vcmcvMjAwMC9zdmciIHdpZHRoPSIzMiIgaGVpZ2h0PSIzMiIgZmlsbD0ibm9uZSI+PHBhdGggZmlsbD0iI2ZjNTc0YSIgZD0iTTE2IDNhMTMgMTMgMCAxIDAgMTMgMTNBMTMuMDE1IDEzLjAxNSAwIDAgMCAxNiAzbTAgMjRhMTEgMTEgMCAxIDEgMTEtMTEgMTEuMDEgMTEuMDEgMCAwIDEtMTEgMTEiLz48cGF0aCBmaWxsPSIjZmM1NzRhIiBkPSJNMTcuMDM4IDE4LjYxNUgxNC44N0wxNC41NjMgOS41aDIuNzgzem0tMS4wODQgMS40MjdxLjY2IDAgMS4wNTcuMzg4LjQwNy4zODkuNDA3Ljk5NCAwIC41OTYtLjQwNy45ODQtLjM5Ny4zOS0xLjA1Ny4zODktLjY1IDAtMS4wNTYtLjM4OS0uMzk4LS4zODktLjM5OC0uOTg0IDAtLjU5Ny4zOTgtLjk4NS40MDYtLjM5NyAxLjA1Ni0uMzk3Ii8+PC9zdmc+)}a{background-color:transparent;color:#0051c3;text-decoration:none;transition:color .15s ease}a:hover{color:#ee730a;text-decoration:underline}.main-content{margin:8rem auto;max-width:60rem;width:100%}.heading-favicon{height:2rem;margin-right:.5rem;width:2rem}@media (width <= 720px){.main-content{margin-top:4rem}.heading-favicon{height:1.5rem;width:1.5rem}}.footer,.main-content{padding-left:1.5rem;padding-right:1.5rem}.main-wrapper{align-items:center;display:flex;flex:1;flex-direction:column}.font-red{color:#b20f03}.spacer{margin:2rem 0}.h1{font-size:2.5rem;font-weight:500;line-height:3.75rem}.h2{font-weight:500}.core-msg,.h2{font-size:1.5rem;line-height:2.25rem}.body-text,.core-msg{font-weight:400}.body-text{font-size:1rem;line-height:1.25rem}@media (width <= 720px){.h1{font-size:1.5rem;line-height:1.75rem}.h2{font-size:1.25rem}.core-msg,.h2{line-height:1.5rem}.core-msg{font-size:1rem}}#challenge-error-text{background-image:url(data:image/svg+xml;base64,PHN2ZyB4bWxucz0iaHR0cDovL3d3dy53My5vcmcvMjAwMC9zdmciIHdpZHRoPSIzMiIgaGVpZ2h0PSIzMiIgZmlsbD0ibm9uZSI+PHBhdGggZmlsbD0iI2ZjNTc0YSIgZD0iTTE2IDNhMTMgMTMgMCAxIDAgMTMgMTNBMTMuMDE1IDEzLjAxNSAwIDAgMCAxNiAzbTAgMjRhMTEgMTEgMCAxIDEgMTEtMTEgMTEuMDEgMTEuMDEgMCAwIDEtMTEgMTEiLz48cGF0aCBmaWxsPSIjZmM1NzRhIiBkPSJNMTcuMDM4IDE4LjYxNUgxNC44N0wxNC41NjMgOS41aDIuNzgzem0tMS4wODQgMS40MjdxLjY2IDAgMS4wNTcuMzg4LjQwNy4zODkuNDA3Ljk5NCAwIC41OTYtLjQwNy45ODQtLjM5Ny4zOS0xLjA1Ny4zODktLjY1IDAtMS4wNTYtLjM4OS0uMzk4LS4zODktLjM5OC0uOTg0IDAtLjU5Ny4zOTgtLjk4NS40MDYtLjM5NyAxLjA1Ni0uMzk3Ii8+PC9zdmc+);padding-left:34px}#challenge-error-text,#challenge-success-text{background-repeat:no-repeat;background-size:contain}#challenge-success-text{background-image:url(data:image/svg+xml;base64,PHN2ZyB4bWxucz0iaHR0cDovL3d3dy53My5vcmcvMjAwMC9zdmciIHdpZHRoPSIzMiIgaGVpZ2h0PSIzMiIgZmlsbD0ibm9uZSIgdmlld0JveD0iMCAwIDI2IDI2Ij48cGF0aCBmaWxsPSIjMzEzMTMxIiBkPSJNMTMgMGExMyAxMyAwIDEgMCAwIDI2IDEzIDEzIDAgMCAwIDAtMjZtMCAyNGExMSAxMSAwIDEgMSAwLTIyIDExIDExIDAgMCAxIDAgMjIiLz48cGF0aCBmaWxsPSIjMzEzMTMxIiBkPSJtMTAuOTU1IDE2LjA1NS0zLjk1LTQuMTI1LTEuNDQ1IDEuMzg1IDUuMzcgNS42MSA5LjQ5NS05LjYtMS40Mi0xLjQwNXoiLz48L3N2Zz4=);padding-left:42px}.text-center{text-align:center}.pow-button{background-color:#0051c3;border:.063rem solid #0051c3;border-radius:.313rem;color:#fff;font-size:.875rem;line-height:1.313rem;margin:2rem 0;padding:.375rem 1rem;transition-duration:.2s;transition-property:background-color,border-color,color;transition-timing-function:ease}.pow-button:hover{background-color:#003681;border-color:#003681;color:#fff;cursor:pointer}.footer{font-size:.75rem;line-height:1.125rem;margin:0 auto;max-width:60rem;width:100%}.footer-inner{border-top:1px solid #d9d9d9;padding-bottom:1rem;padding-top:1rem}.clearfix:after{clear:both;content:\\\"\\\";display:table}.clearfix .column{float:left;padding-right:1.5rem;width:50%}.diagnostic-wrapper{margin-bottom:.5rem}.footer .ray-id{text-align:center}.footer .ray-id code{font-family:monaco,courier,monospace}.core-msg,.zone-name-title{overflow-wrap:break-word}@media (width <= 720px){.diagnostic-wrapper{display:flex;flex-wrap:wrap;justify-content:center}.clearfix:after{clear:none;content:none;display:initial;text-align:center}.column{padding-bottom:2rem}.clearfix .column{float:none;padding:0;width:auto;word-break:keep-all}.zone-name-title{margin-bottom:1rem}}.loading-spinner{height:76.391px}.lds-ring{display:inline-block;position:relative}.lds-ring,.lds-ring div{height:1.875rem;width:1.875rem}.lds-ring div{animation:lds-ring 1.2s cubic-bezier(.5,0,.5,1) infinite;border:.3rem solid transparent;border-radius:50%;border-top-color:#313131;box-sizing:border-box;display:block;position:absolute}.lds-ring div:first-child{animation-delay:-.45s}.lds-ring div:nth-child(2){animation-delay:-.3s}.lds-ring div:nth-child(3){animation-delay:-.15s}@keyframes lds-ring{0%{transform:rotate(0)}to{transform:rotate(1turn)}}@media screen and (-ms-high-contrast:active),screen and (-ms-high-contrast:none){.main-wrapper,body{display:block}}.rtl .heading-favicon{margin-left:.5rem;margin-right:0}.rtl #challenge-success-text{background-position:100%;padding-left:0;padding-right:42px}.rtl #challenge-error-text{background-position:100%;padding-left:0;padding-right:34px}</style><meta http-equiv=\\\"refresh\\\" content=\\\"390\\\"><script src=\\\"/cdn-cgi/challenge-platform/h/g/orchestrate/chl_page/v1?ray=895dada13a06577e\\\"></script><script src=\\\"https://challenges.cloudflare.com/turnstile/v0/g/6aac8896f227/api.js?onload=OZxW4&amp;render=explicit\\\" async=\\\"\\\" defer=\\\"\\\" crossorigin=\\\"anonymous\\\"></script></head><body class=\\\"no-js\\\"><div class=\\\"main-wrapper\\\" role=\\\"main\\\"><div class=\\\"main-content\\\"><h1 class=\\\"zone-name-title h1\\\"><img src=\\\"/favicon.ico\\\" class=\\\"heading-favicon\\\" alt=\\\"Icon for www.cell.com\\\">www.cell.com</h1><h2 id=\\\"challenge-running\\\" class=\\\"h2\\\">Verify you are human by completing the action below.</h2><div id=\\\"challenge-stage\\\" style=\\\"display: flex;\\\"><div id=\\\"turnstile-wrapper\\\" class=\\\"spacer\\\"><div><iframe style=\\\"border: medium; overflow: hidden; width: 300px; height: 65px;\\\" src=\\\"https://challenges.cloudflare.com/cdn-cgi/challenge-platform/h/g/turnstile/if/ov2/av0/rcv0/0/wlin6/0x4AAAAAAADnPIDROrmt1Wwj/light/normal\\\" allow=\\\"cross-origin-isolated; fullscreen; autoplay\\\" sandbox=\\\"allow-same-origin allow-scripts allow-popups\\\" id=\\\"cf-chl-widget-wlin6\\\" tabindex=\\\"0\\\" title=\\\"Widget containing a Cloudflare security challenge\\\"></iframe><input type=\\\"hidden\\\" name=\\\"cf-turnstile-response\\\" id=\\\"cf-chl-widget-wlin6_response\\\"></div></div></div><div id=\\\"challenge-spinner\\\" class=\\\"spacer loading-spinner\\\" style=\\\"display: none; visibility: hidden;\\\"><div class=\\\"lds-ring\\\"><div></div><div></div><div></div><div></div></div></div><div id=\\\"challenge-body-text\\\" class=\\\"core-msg spacer\\\">www.cell.com needs to review the security of your connection before proceeding.</div><div id=\\\"challenge-success\\\" style=\\\"display: none;\\\"><div id=\\\"challenge-success-text\\\" class=\\\"h2\\\">Verification successful</div><div class=\\\"core-msg spacer\\\">Waiting for www.cell.com to respond...</div></div><noscript><div id=\\\"challenge-error-title\\\"><div class=\\\"h2\\\"><span id=\\\"challenge-error-text\\\">Enable JavaScript and cookies to continue</span></div></div></noscript></div></div><script>(function(){window._cf_chl_opt={cvId: '3',cZone: \\\"www.cell.com\\\",cType: 'managed',cNounce: '12290',cRay: '895dada13a06577e',cHash: '4397a2d670d01b4',cUPMDTk: \\\"\\\\/biophysj\\\\/fulltext\\\\/S0006-3495(21)00991-7?__cf_chl_tk=vIk67wTBttBu5cNbVjifVWgRgPXU5kX.8wD4DsTUmsE-1718738862-0.0.1.1-4585\\\",cFPWv: 'g',cTTimeMs: '1000',cMTimeMs: '390000',cTplV: 5,cTplB: 'cf',cK: \\\"visitor-time\\\",fa: \\\"\\\\/biophysj\\\\/fulltext\\\\/S0006-3495(21)00991-7?__cf_chl_f_tk=vIk67wTBttBu5cNbVjifVWgRgPXU5kX.8wD4DsTUmsE-1718738862-0.0.1.1-4585\\\",md: \\\"xs9XPjeJFFa5q9n.Xw95qTL.UHGVlrMsCHOyAiNqjTc-1718738862-1.1.1.1-FrDn.9FidmHf529W0NQmG3op8MDKyMc2yZ0FtT_fMlE8Vft1q9PjS3FoXvVBG3ISEiv2jf9c3xfn0xHg2iiJYHWILcjkKcuObmRBPSlTNPDkmKIAtIylPMp13_qHzo258MV8OEiElYwrnvGsQZ_VoFloXu4ckDL4wbReLj9XoizLIssNyNa99HcOaviv3pKL1mNspPpFBzwbFJ8xSrype.SmHjq4YrzJCxic44lr5Z8BMov6Tw5Ug7tvJ_MkE3G0NQwtiJ7qTKHq7M9GDBIdNwfBOdW49T2DsTQUWhrJBfskXo_Bp3S_KpCF27R3WfZaFBVjfZUkMDnZmacYfBL02k7tAz.qpbKOhuRVk3flnt302Y3CludwZwLJYN7v045bWDZK9SpezZjcnmjq6vFZEGZTDrZUMTiRRhVjA457zOoFL1YzCLGC2sac0JjSNFMXkGGvnahTXMi4Cocynkk87n06vy7MCMMAG6wf4av8pq6riBFmnRVj2mgMyv_JMoQ3.kZaLiVoVYnd93tYqQzRRO5I5oyNCNHvNfJqqWoVHdQ_W7IanwBBwyS_8KAONtoKsuuwyHJEox2Y2Vl35_hJhO5Lcco2RE32fqjniVVB2WgKMVMux2RZtcKVMzBb8WVxQe5oLjqXWPY.fTuYNzpxqhslzeg1t3MF2N6oen3lEXBpgR7xpdo2w7T6CMzd_Y0m42nw9YeEUmtzsCtfIRKdpq1R4mIzNu_kW_zBReaN8e9a0qmqy71vTAfEXwyIEfEoNIuCTuywdSe2rnJMXr.HqIqKN_TWfjOn4QbOooOu1TlpHhK9hmuiF4PtCw1_2HA0JG1e5kO_PO6JsHC.ppksFUMrxwzs9DvLG8NKRMfvCHmsIF7kVu2AFjC7LUjFHElAlauinQ_iTS_u3M1Puk1dvG_vYiXxTYMDredAMs6a1RnY.0zmv8U2n.z4krPwLxs144plAZkTmR5sdHIFB.yLRfKtkKyoEiIpHptv_aO7OJczwnc8eEocbHN81tRhkC82u0BzXClO9sdmBJ02_Xs8D1M9SBF8Kc8ST.2.5PDE_rAU5F.jBXxnyWfdYfArAc53vzMGzhmNEHYUjEmosLV0sg9aoDpY2dC5sbCHEAU1ek6uciXp._UgQ5QkaxcYaj5JtICZT2xfjn6aMpCoczrbLNVi5iasOklDjIZll4ivW0COf1EL0x4aBwZgX3vo72o_MlmgfpO4Z1chDOzBJJ5SOKYDs92l70d54Byc0fPzNxal_pKWdOSksrMmmwsKhqbcCOcMtWuj3VqTCy0l7kUrcZEkWhEVHEXC9TZ30ngD0z7GPAhZsKpDlpDd8N4M4sTMhimGcUcRQqO6w7RX7gabq9_8oIpRmM.eyn8Mmk5ZK9_MSo0h1IvNeigGJ4RoGiRzTIKzZ5Vi.9L0kJ58GBxGkYy97v6GYoG2XfFgyOEAOl7zyO5S8umy7kpZresaP62LoUkfBPbK6Fg47jXWghU86qCYNukOzsARkmP2C8raS7hTwxQSVdYrIScZa51K17a46h5ACXixhjQMryXLgqWgdjrbmoo3FdnUAA36xM3AnVI\\\",mdrd: \\\"OTfcvrH4N1G2lUkafmvnlX1w40YmD.Cb5wCJLy3QDqo-1718738862-1.1.1.1-PqzBZDlHTz9NZEoFlgTqqCLUMcIDwcwkEsWgzqp9J5Viis99N_o_ZixUDs7eWW2dDGb9PsK5qfoJTVYZjsPCiAfHW15WpclUX87rKbevjGdNTs5_npjoIEU97W_qW2I2wYHRnbFjhDmfSkOOxDgvNL5F2MugbwKgndhX.cfg1Tjuupg4NsxFsRYUoDPOrgt2jdW1yI5c2jv.zHpqe3xuRhNV_fR.foZxB.MtHj6dCwxn1mgj_I.n59EwsG9j6T2GviRWCUY2jTtvo6iS72gDeY0_cpC4teWe4U_PWiWIa6vU4UXwsoe2wFNyQJejGgXdbZ8p0sEFjWdqGTPxyeTpNRTcygdxRfbNKUAr1EgU4nIH5oGkMnuORzJQjqkqO0kPs9Ujvxk6oFOkPwFuBKtRRHqnBIb_inDFIIbV928.FXMznUCO276ulpYLekAUYZTq46TZClTYbkEHo_T15ZqqWwaJTXQEGv6ObtMmAyxS3EksFzNxtckx6VzpqrQau6J_s8pjMLIv8ahkkwvRfIBV_42_oRaV_iB7k_dtd1NQjN1O952rx_5Gm5uKULPIi9Sd3emLKNtHTTle_KN84.CIL75aoJSi9V1ewxjwquZPEI015gcgbLiWXYbaKLGulvRy3UWCqwI_BwaDh.pjxCXsNQsKwIIuXhO3ECF7vV8oerRBsudinqqa5x807k10clCGPiBBzTIQ6m_To8_FPpU2LSjwdo5MQYINWQijO8a4aF3PPU1LqI30tfnFQoaMsLZ1eQkGdYHNyAaOskUcuKDWqSWNWXoZxdB_TUz4yg_2s_d.ALtYpYENC8mTnBvZFUgh9eDhtfQOnfHEU4Mx_MD.NQaXRwmKoJXE2TzyUBsP0nwPRUjBJ1Vvw5ebN8wBlNXG8tmpm0gGkIgP17FL8RFeEkLRObhEVqsX5xNC8l2ZYO4Pr2IbkxdPBme0xFGfFU1u8FkxsgiQbKnt4x1kgHD4MwuqJKpwgpcf0TWs9eZfME9x.skTfZFaHeQxWJkPrwRT.95GKUvChApiCYwxzf6E0yc3u24CeOs2se2Krr6_Bwy_G9SmQAz6_4waSbMABDeWv2p5xOFMZUscm9w4eF9v3CNtJMy8pqYCfzBbKx7uAPaAl6tV879nQ6tdW6ZZDqw8E82vhgfFtFR1a9lbojRfY.dm0binJ4fvg2ffY324lw7Yt8IqOc5UYZT4gLBKLBw1OWlDJKHaB8zzzXYNR7jPkdgQ6ciztnKbMqkKGTQjc4f1wcJSVaJ2t7bjXs8KdcGBNThewOc2q3XfBrk46OakDplKbTx4O5x4zigSNGvZOxqnryv40dkmaBPld60vsbpA3kyv8XoVcYXXyITgKPqn1UBi33Nsr1mgEgIHY0sFxJj5QPtb.NbBgLYMtxRCT2gQA9XQ5fgDOikczez6xW1RsTXI2fTVexdkqlYCGqLqc0xr0NoX32hd1n1hXw1z8sMkzttwpXLAKHx_34D0D1ugNB6nAemITqSS9XdbUZpJg7APRquL4PWjryz3AYQLeMYhiLezLXMBgy1kcMZWsCkLqyLhPuLg_pnEAHYLG6NHIeacVBCIbg8BJPp0xHusAxDGHt7YRT_lOif9KuTFeVllF445h3ZueaWpm4ggqW4tdMyBL3v5qRj.2HGt_VXoCV1r2ypWKu_Ybg0QxnYeCVHD2GGJ6KN96ntK_ukf5suKuYMTLfC5J.NDn1jP.vmwEJ5ZLdYw2_fU31.vamtebj4C4.PlHSwkA.8XZUrZ9fSlwfUOyVWqLNi6hohB6wjxvidcuiDWLbPVCiZOAiOGE3cTnaxjOVoRFONwyTcy.NqA5e_V2LBgOzD3NIOV3Cy_jv3rT4rEfpN46_7cDnJT3jjOSrGAlB59yxt3.diuQCgDeNVu3AO_31ABvH6Ivgl4Dw7Eo4O2tuLv3etFX.i6qRXg.bOh8E8d8w3IlP7CjX.oYb7iSx5Kk87gKYPKw_fdjRVmEDRXZRMw.bdJXCAY7X_mbkRMDY28SZhxz92cY6RF_KCcpNzeKdviGXBGewag24uLoxl__4AvWobPHZYc05VoT0So_oK9_1qgIHIiKqFO1onkVwLdsLVgF3LDSBbOwhUbsOGBhjJ4WbO5Wwpz2n4WNDAuzjJ83opNBC3RRiWKvk70QLRJSVvC8kEc8qPWVYrF4x8sm9w22eNIgad2duHtDHHHBIzOC9cfyhZBuyCYAhhXB.ja3op6BfXZRWFAu7nzo.JykSxPkhfR2Boyg52f73ZABwMeBXeQA2.J0SaUICSvbGUL6QjY.freLyjcom8sKjzCgiRhYtnAV6AupfM4UjYZXcN_S0PTNLN60YLF7SrZKyO3u4ofnkUZC2qDcx4IxjTXTSlqYOFcbLDW53u_u8V_uwaKRkykwU0N.XtHJYGqom3fG2KcMbS8UImpn_uB_tX4xs6fp.ikQHF_NMBb3yDnMD_bX_0cI6stZ.5UaU5fuHc51KXL.HB7I52ybN5nWNOHYPLy8KnSSVq91C1XLdWl_7gd5bFhNiwqfLvHHAH8Rf9sBNYfmNp5LKelKDNFlmeA9vsmthkLkMPrhEuOcwabqC3UwYVUFQyUcqoREz2ooMeIIZ18A9LJEXEDIF6hg.78sSpn5AnsIgYymzEAqiSVsJ1BXIn9R6BtTFtqw4VKg7Cu9pjDVb6oq1UNNqFtHzwlCaDf1ACzooWjxd8kYGbDp0SlufIDSnk3CZozxllosmH4JOXYyVh7SCijo2NBFiSNnojouR8lEJBzbXy2ZiM5Pnc88iJmjw0UN.wwvPA2ED2trmmMzOfZT8EKNdt7AxHPByldkarMioSTNOlN5bYnntFYWnhv6eZ.KB7rmVqYzW69PL7fPYlvGPl0Feth\\\",cRq: {ru: 'aHR0cHM6Ly93d3cuY2VsbC5jb20vYmlvcGh5c2ovZnVsbHRleHQvUzAwMDYtMzQ5NSgyMSkwMDk5MS03',ra: 'TW96aWxsYS81LjAgKE1hY2ludG9zaDsgSW50ZWwgTWFjIE9TIFggMTAuMTU7IHJ2OjEyNy4wKSBHZWNrby8yMDEwMDEwMSBGaXJlZm94LzEyNy4w',rm: 'R0VU',d: '7D6YoP7q2jKE09d6JfZz+353LdRXnC/vzrDIn8xl+rwY4A3A8FU59haGoS3AQi9AhypB7vPLSZ/4hUjU4vT8f8YAiDSa4VM780LLwmk54c9rbgRxtfyn5/ptSR1w1bxcznuQxFeVi83ZtQQ69k9mOYCKgbD5p/l5QZalh1WDgdoy2dV8xpZcfKv4yVIxTFsyVJVSgKkexY9mA9SskwJh8ujecC1ic7kCg2TgATxmSC/gd0c65q4tf32D2MRaNvzdpW3PSIMU6kCP9lb5Pr/NGuELrk48K3QcqGhld3Equ9Z+7t2272bdzmgDCRjcqYtF/3N0+lLmBGbja4Pn1Ft3PHYTL3LcyxsFcgFQm26imQZCSHFYWr+lnyw5U4AYZEbUtML4hN5xVE+z3z3rL8zfL1YNvrUg0Ec7Fx+KcUZgbMmPzXVtHT2Qpw5tocSdHfrtmKYrQohyYMdFov3xwvD1G2hRDQ7JkLp6rDtTFG3XRwvckepwClRa2Wt/f/0Ad1q0qt03G1xgKWrfqtuFEYvqveUKgPEswCZZIiddaGMYSJs=',t: 'MTcxODczODg2Mi4wMDAwMDA=',cT: Math.floor(Date.now() / 1000),m: 'kQk40k68l9ZQUFGQB8ojnk97xrLN9rTRGTzo5Mo1Pq4=',i1: 'x4o9guQswKX6u/aFQfgHNQ==',i2: 'e8CmDiZzMwdfM2ZbllEHHg==',zh: 'hR45DIaE5y+tZF6lHQqG7/mYqZDgBO7/9xlbfSpqhhQ=',uh: 'BTOKbFz/mXOtPo1nGW303FdSsW2++mrSaPNqHFQnf6s=',hh: 'k6a1h7FbBevPXfrarqhNReWaXiMzdMhHhSmOzUTk8LE=',}};var cpo = document.createElement('script');cpo.src = '/cdn-cgi/challenge-platform/h/g/orchestrate/chl_page/v1?ray=895dada13a06577e';window._cf_chl_opt.cOgUHash = location.hash === '' && location.href.indexOf('#') !== -1 ? '#' : location.hash;window._cf_chl_opt.cOgUQuery = location.search === '' && location.href.slice(0, location.href.length - window._cf_chl_opt.cOgUHash.length).indexOf('?') !== -1 ? '?' : location.search;if (window.history && window.history.replaceState) {var ogU = location.pathname + window._cf_chl_opt.cOgUQuery + window._cf_chl_opt.cOgUHash;history.replaceState(null, null, \\\"\\\\/biophysj\\\\/fulltext\\\\/S0006-3495(21)00991-7?__cf_chl_rt_tk=vIk67wTBttBu5cNbVjifVWgRgPXU5kX.8wD4DsTUmsE-1718738862-0.0.1.1-4585\\\" + window._cf_chl_opt.cOgUHash);cpo.onload = function() {history.replaceState(null, null, ogU);}}document.getElementsByTagName('head')[0].appendChild(cpo);}());</script><script defer=\\\"\\\" src=\\\"https://static.cloudflareinsights.com/beacon.min.js/vcd15cbe7772f49c399c6a5babf22c1241717689176015\\\" integrity=\\\"sha512-ZpsOmlRQV6y907TI0dKBHq9Md29nnaEIPlkf84rnaERnq6zvWvPUqr2ft8M1aS28oN72PdrCzSjY4U6VaAw1EQ==\\\" data-cf-beacon=\\\"{&quot;rayId&quot;:&quot;895dada13a06577e&quot;,&quot;version&quot;:&quot;2024.4.1&quot;,&quot;token&quot;:&quot;57a02315956f4b2e82817b3dfa99b1a2&quot;}\\\" crossorigin=\\\"anonymous\\\"></script>\\n<div class=\\\"footer\\\" role=\\\"contentinfo\\\"><div class=\\\"footer-inner\\\"><div class=\\\"clearfix diagnostic-wrapper\\\"><div class=\\\"ray-id\\\">Ray ID: <code>895dada13a06577e</code></div></div><div class=\\\"text-center\\\" id=\\\"footer-text\\\">Performance &amp; security by Cloudflare</div></div></div></body></html>\"} | headers=HTTPHeaderDict({'content-type': 'application/json; charset=utf-8', 'cache-control': 'no-cache', 'content-length': '19226', 'date': 'Tue, 18 Jun 2024 19:27:52 GMT'})\n",
      "DEBUG:selenium.webdriver.remote.remote_connection:Finished Request\n",
      "DEBUG:selenium.webdriver.remote.remote_connection:DELETE http://localhost:64684/session/bdfcf2fd-c3c7-4e82-81fc-91c83c17affe {}\n"
     ]
    },
    {
     "name": "stdout",
     "output_type": "stream",
     "text": [
      "No cookie consent button found or an error occurred: Message: \n",
      "Stacktrace:\n",
      "RemoteError@chrome://remote/content/shared/RemoteError.sys.mjs:8:8\n",
      "WebDriverError@chrome://remote/content/shared/webdriver/Errors.sys.mjs:193:5\n",
      "NoSuchElementError@chrome://remote/content/shared/webdriver/Errors.sys.mjs:511:5\n",
      "dom.find/</<@chrome://remote/content/shared/DOM.sys.mjs:136:16\n",
      "\n"
     ]
    },
    {
     "name": "stderr",
     "output_type": "stream",
     "text": [
      "DEBUG:selenium.webdriver.remote.remote_connection:Remote response: status=200 | data={\"value\":null} | headers=HTTPHeaderDict({'content-type': 'application/json; charset=utf-8', 'cache-control': 'no-cache', 'content-length': '14', 'date': 'Tue, 18 Jun 2024 19:27:52 GMT'})\n",
      "DEBUG:selenium.webdriver.remote.remote_connection:Finished Request\n",
      "DEBUG:pyvirtualdisplay.abstractdisplay:set $DISPLAY=/private/tmp/com.apple.launchd.YKxs2PyZJk/org.xquartz:0\n",
      "DEBUG:pyvirtualdisplay.abstractdisplay:stdout=b''\n",
      "DEBUG:pyvirtualdisplay.abstractdisplay:stderr=b''\n"
     ]
    },
    {
     "name": "stdout",
     "output_type": "stream",
     "text": [
      "Saving https://www.cell.com/biophysj/fulltext/S0006-3495(21)00991-7\n"
     ]
    }
   ],
   "source": [
    "# Usint the scrape_urls method get the data for the site\n",
    "\n",
    "assigned_urls=cell[0:1]\n",
    "from llm_analyst.scrapers.scraper_methods import scrape_urls\n",
    "url_file_nm = 'data/urls.json'\n",
    "with open(url_file_nm, 'r') as file:\n",
    "    urls = json.load(file)\n",
    "index = 1\n",
    "for url in assigned_urls:\n",
    "    print(f\"{index} of {len(assigned_urls)} {url}\")\n",
    "    index +=1\n",
    "    documents = [{\"error\":\"Scrape error\"}]\n",
    "    try:\n",
    "        documents = scrape_urls([url])\n",
    "        if not documents:\n",
    "            documents = [{\"url\":url}]\n",
    "            url = \"ERROR_\"+url\n",
    "    except:\n",
    "        print(\"Error\")\n",
    "    \n",
    "    dump_results(url, documents)\n"
   ]
  },
  {
   "cell_type": "code",
   "execution_count": null,
   "metadata": {},
   "outputs": [],
   "source": [
    "query = \"Extracellular Matrix Production\"\n",
    "retriever = vector_db.as_retriever(\n",
    "            search_type=\"similarity_score_threshold\",\n",
    "            search_kwargs={\"k\": 4, \"score_threshold\": 0.2},\n",
    "        )\n",
    "await retriever.ainvoke(query)"
   ]
  },
  {
   "cell_type": "code",
   "execution_count": null,
   "metadata": {},
   "outputs": [],
   "source": [
    "import re\n",
    "\n",
    "def clean(text):\n",
    "  \"\"\"Clean extra spaces in a string.\n",
    "\n",
    "  Args:\n",
    "      text: The string to clean.\n",
    "\n",
    "  Returns:\n",
    "      A string with extra spaces replaced by two spaces.\n",
    "  \"\"\"\n",
    "  # Use regular expression to match 3 or more whitespace characters\n",
    "  pattern = r\"\\s{3,}\"\n",
    "  return re.sub(pattern, \"  \", text)\n",
    "\n",
    "# Testing the function with a string with different spacings\n",
    "text = \"\"\"This is a string   with   \n",
    "extra  spaces\n",
    ".\"\"\"\n",
    "cleaned_text = clean(text)\n",
    "print(cleaned_text)\n",
    "\n"
   ]
  },
  {
   "cell_type": "code",
   "execution_count": null,
   "metadata": {},
   "outputs": [],
   "source": [
    "from pyvirtualdisplay import Display  \n",
    "from selenium import webdriver  \n",
    "display = Display(visible=0, size=(800, 600))  \n",
    "display.start()  \n",
    "browser = webdriver.Firefox()  \n",
    "browser.get('https://www.cell.com/biophysj/fulltext/S0006-3495(21)00991-7')  \n",
    "\n",
    "page_source = browser.page_source\n",
    "print(page_source)\n",
    "#browser.quit()  \n",
    "#display.stop()\n"
   ]
  },
  {
   "cell_type": "code",
   "execution_count": null,
   "metadata": {},
   "outputs": [],
   "source": [
    "from pyvirtualdisplay import Display\n",
    "from selenium import webdriver\n",
    "from selenium.webdriver.common.by import By\n",
    "from selenium.webdriver.support.ui import WebDriverWait\n",
    "from selenium.webdriver.support import expected_conditions as EC\n",
    "from bs4 import BeautifulSoup\n",
    "import re\n",
    "\n",
    "# Start virtual display\n",
    "display = Display(visible=0, size=(800, 600))\n",
    "display.start()\n",
    "\n",
    "# Set up the browser\n",
    "options = webdriver.FirefoxOptions()\n",
    "options.add_argument('--headless')\n",
    "browser = webdriver.Firefox(options=options)\n",
    "\n",
    "# Load the web page\n",
    "browser.get('https://www.cell.com/biophysj/fulltext/S0006-3495(21)00991-7')\n",
    "\n",
    "try:\n",
    "    # Wait for the cookie consent button to be present and clickable\n",
    "    cookie_button = WebDriverWait(browser, 10).until(\n",
    "        EC.element_to_be_clickable((By.XPATH, \"//button[contains(text(), 'Accept')]\"))\n",
    "    )\n",
    "    # Click the cookie consent button\n",
    "    cookie_button.click()\n",
    "except Exception as e:\n",
    "    print(\"No cookie consent button found or an error occurred:\", e)\n",
    "\n",
    "# Get the whole web page content\n",
    "page_source = browser.page_source\n",
    "soup = BeautifulSoup(page_source, 'html.parser')\n",
    "\n",
    "# Extract text content and print it\n",
    "text_content = soup.get_text()\n",
    "pattern = r\"\\s{3,}\"\n",
    "text_content = re.sub(pattern, \"  \", text_content)\n",
    "        \n",
    "print(text_content)\n",
    "\n",
    "# Clean up\n",
    "browser.quit()\n",
    "display.stop()\n"
   ]
  },
  {
   "cell_type": "code",
   "execution_count": null,
   "metadata": {},
   "outputs": [],
   "source": []
  }
 ],
 "metadata": {
  "kernelspec": {
   "display_name": "gpt-researcher",
   "language": "python",
   "name": "python3"
  },
  "language_info": {
   "codemirror_mode": {
    "name": "ipython",
    "version": 3
   },
   "file_extension": ".py",
   "mimetype": "text/x-python",
   "name": "python",
   "nbconvert_exporter": "python",
   "pygments_lexer": "ipython3",
   "version": "3.11.8"
  }
 },
 "nbformat": 4,
 "nbformat_minor": 2
}
