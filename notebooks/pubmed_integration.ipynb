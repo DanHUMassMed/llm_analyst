{
 "cells": [
  {
   "cell_type": "code",
   "execution_count": 6,
   "metadata": {},
   "outputs": [
    {
     "name": "stdout",
     "output_type": "stream",
     "text": [
      "The token has not been saved to the git credentials helper. Pass `add_to_git_credential=True` in this function directly or `--add-to-git-credential` if using via `huggingface-cli` if you want to set the git credential as well.\n",
      "Token is valid (permission: read).\n",
      "Your token has been saved to /Users/dan/.cache/huggingface/token\n",
      "Login successful\n"
     ]
    }
   ],
   "source": [
    "import json\n",
    "from time import sleep\n",
    "import os\n",
    "import sys\n",
    "import asyncio\n",
    "from langchain_community.document_loaders import TextLoader, PyMuPDFLoader\n",
    "\n",
    "from langchain_community.vectorstores import Chroma\n",
    "from langchain_huggingface import HuggingFaceEmbeddings\n",
    "from langchain_text_splitters import CharacterTextSplitter\n",
    "\n",
    "from huggingface_hub import login\n",
    "\n",
    "sys.path.append('/Users/dan/Code/LLM/llm_analyst')\n",
    "from llm_analyst.document.document import DocumentLoader\n",
    "login(token = os.environ['HUGGINGFACEHUB_API_TOKEN'] )"
   ]
  },
  {
   "cell_type": "code",
   "execution_count": 7,
   "metadata": {},
   "outputs": [],
   "source": [
    "\n",
    "model_name = \"sentence-transformers/all-MiniLM-l6-v2\"\n",
    "model_kwargs = {'device': 'mps'}\n",
    "encode_kwargs = {'normalize_embeddings': False}\n",
    "embedding_model = HuggingFaceEmbeddings(\n",
    "    model_name=model_name,\n",
    "    model_kwargs=model_kwargs,\n",
    "    encode_kwargs=encode_kwargs\n",
    ")"
   ]
  },
  {
   "cell_type": "code",
   "execution_count": 9,
   "metadata": {},
   "outputs": [],
   "source": [
    "persist_directory=\"./chroma_db\"\n",
    "vector_db = Chroma(persist_directory=persist_directory, embedding_function=embedding_model)\n"
   ]
  },
  {
   "cell_type": "code",
   "execution_count": 10,
   "metadata": {},
   "outputs": [
    {
     "data": {
      "text/plain": [
       "[(Document(page_content='Title:Insulin/IGF1 Signaling Inhibits Age-Dependent Axon Regeneration\\nAbstract:  Summary The ability of injured axons to regenerate declines with age yet the mechanisms that regulate axon regeneration in response to age are not known. Here we show that axon regeneration in aging C. elegans motor neurons is inhibited by the conserved insulin/IGF1 receptor DAF-2. DAF-2s function in regeneration is mediated by intrinsic neuronal activity of the forkhead transcription factor DAF-16/FOXO. DAF-16 regulates regeneration independently of lifespan, indicating that neuronal aging is an intrinsic, neuron specific, and genetically regulated process. In addition, we found that daf-18/PTEN inhibits regeneration independently of age and FOXO signaling, via the TOR pathway. Finally, DLK-1, a conserved regulator of regeneration, is downregulated by insulin/IGF1 signaling, bound by DAF-16 in neurons, and is required for both DAF-16- and DAF-18-mediated regeneration. Together, our data establish that insulin signaling specifically inhibits regeneration in aging adult neurons, and that this mechanism is independent of PTEN and TOR. \\nContent:', metadata={'source': '/Users/dan/Code/Python/pub_worm/notebooks/output/PMC3924874.txt', 'title': 'Insulin/IGF1 signaling inhibits age-dependent axon regeneration.', 'url': 'https://www.ncbi.nlm.nih.gov/pmc/articles/PMC3924874/'}),\n",
       "  0.8124256730079651),\n",
       " (Document(page_content='Title:Distinct Isoforms of the RFX Transcription Factor DAF-19 Regulate Ciliogenesis and Maintenance of Synaptic Activity\\nAbstract:  Neurons form elaborate subcellular structures such as dendrites, axons, cilia, and synapses to receive signals from their environment and to transmit them to the respective target cells. In the worm Caenorhabditis elegans, lack of the RFX transcription factor DAF-19 leads to the absence of cilia normally found on 60 sensory neurons. We now describe and functionally characterize three different isoforms of DAF-19. The short isoform DAF-19C is specifically expressed in ciliated sensory neurons and sufficient to rescue all cilia-related phenotypes of daf-19 mutants. In contrast, the long isoforms DAF-19A/B function in basically all nonciliated neurons. We discovered behavioral and cellular phenotypes in daf-19 mutants that depend on the isoforms daf-19a/b. These novel synaptic maintenance phenotypes are reminiscent of synaptic decline seen in many human neurodegenerative disorders. The C. elegans daf-19 mutant worms can thus serve as a molecular model for the mechanisms of functional neuronal decline. \\nContent:', metadata={'source': '/Users/dan/Code/Python/pub_worm/notebooks/output/PMC2592639.txt', 'title': 'Distinct isoforms of the RFX transcription factor DAF-19 regulate ciliogenesis and maintenance of synaptic activity.', 'url': 'https://www.ncbi.nlm.nih.gov/pmc/articles/PMC2592639/'}),\n",
       "  0.9086208939552307),\n",
       " (Document(page_content='Title:DAF-16-dependent and independent expression targets of DAF-2 insulin receptor-like pathway in Caenorhabditis elegans include FKBPs.\\nAbstract: The daf-2 insulin-like receptor pathway regulates development and lifespan in Caenorhabditis elegans. Reduced DAF-2 signaling leads to changes in downstream targets via the daf-16 gene, a fork-head transcription factor which is regulated by DAF-2, and results in extended life-span. Here, we describe the first identification of genes whose expression is controlled by the DAF-2 signaling cascade. dao-1, dao-2, dao-3, dao-4, dao-8 and dao-9 are down-regulated daf-2 mutant adults compared to wild-type adults, zwhereas dao-5, dao-6 and dao-7 are up-regulated. The latter genes are negatively regulated by DAF-2 signaling and positively regulated by DAF-16. Positive regulation by DAF-2 on dao-1, dao-4 and dao-8 was mediated by DAF-16, whereas daf-16 mediates only part of DAF-2 signaling for dao-2 and dao-9. Regulation by DAF-2 is most likely DAF-16 independent for dao-3 and hsp-90. RNA levels of dao-5 and dao-6 showed elevated expression in daf-2 adults, as well as being strongly expressed in dauer larvae. In contrast, hsp-90 transcript levels are low in daf-2 mutant adults though they are enriched in dauer larvae, indicating overlapping but not identical mechanisms of efficient life maintenance in stress-resistant dauer larvae and long-lived daf-2 mutant adults. dao-1, dao-8 and dao-9 are homologs of the FK506 binding proteins that interact with the mammalian insulin pathway. dao-3 encodes a putative methylenetetrahydrofolate dehydrogenase. DAO-5 shows 33% identity with human nucleolar phosphoprotein P130. dao-7 is similar to the mammalian ZFP36 protein. Distinct regulatory patterns of dao genes implicate their diverse positions within the signaling network of DAF-2 pathway, and suggest they have unique contributions to development, metabolism and longevity.\\nContent:', metadata={'source': '/Users/dan/Code/Python/pub_worm/notebooks/output/PM11743719.txt', 'title': 'DAF-16-dependent and independent expression targets of DAF-2 insulin receptor-like pathway in Caenorhabditis elegans include FKBPs.', 'url': 'https://pubmed.ncbi.nlm.nih.gov/11743719/'}),\n",
       "  0.9149419573513462),\n",
       " (Document(page_content='Title:14-3-3 regulates life span by both DAF-16-dependent and -independent mechanisms in Caenorhabditis elegans.\\nAbstract: Caenorhabditis elegans life span, stress resistance and metabolism are regulated by the Insulin/IGF-1/DAF-2/DAF-16 pathway. DAF-16, a member of FOXO/Forkhead transcription factor family, can be targeted by 14-3-3 proteins to promote stress resistance. We have identified a 14-3-3 C. elegans homolog which promotes life span by both DAF-2-dependent and -independent mechanisms and by an unexpected DAF-16-independent mechanism. Our results demonstrate that C. elegans 14-3-3 proteins modulate stress-responsive genes throughout adulthood. In conclusion, 14-3-3 can be considered as an acute stress-responsive regulator as well as a sustained modulator of the Insulin/IGF-1/DAF-2/DAF-16 regulatory pathway in promoting life expectancy of growing old worms.\\nContent:', metadata={'source': '/Users/dan/Code/Python/pub_worm/notebooks/output/PM18423931.txt', 'title': '14-3-3 regulates life span by both DAF-16-dependent and -independent mechanisms in Caenorhabditis elegans.', 'url': 'https://pubmed.ncbi.nlm.nih.gov/18423931/'}),\n",
       "  0.9540824294090271)]"
      ]
     },
     "execution_count": 10,
     "metadata": {},
     "output_type": "execute_result"
    }
   ],
   "source": [
    "query = \"How does DAF-19 regulate transcription of regeneration associated genes?\"\n",
    "docs_and_scores = vector_db.similarity_search_with_score(query)\n",
    "docs_and_scores"
   ]
  },
  {
   "cell_type": "code",
   "execution_count": null,
   "metadata": {},
   "outputs": [],
   "source": []
  }
 ],
 "metadata": {
  "kernelspec": {
   "display_name": "gpt-researcher",
   "language": "python",
   "name": "python3"
  },
  "language_info": {
   "codemirror_mode": {
    "name": "ipython",
    "version": 3
   },
   "file_extension": ".py",
   "mimetype": "text/x-python",
   "name": "python",
   "nbconvert_exporter": "python",
   "pygments_lexer": "ipython3",
   "version": "3.11.8"
  }
 },
 "nbformat": 4,
 "nbformat_minor": 2
}
